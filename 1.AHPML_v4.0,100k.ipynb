{
 "cells": [
  {
   "cell_type": "markdown",
   "metadata": {
    "papermill": {
     "duration": 0.018399,
     "end_time": "2021-03-04T09:51:34.267382",
     "exception": false,
     "start_time": "2021-03-04T09:51:34.248983",
     "status": "completed"
    },
    "tags": []
   },
   "source": [
    "# Importing Libraries"
   ]
  },
  {
   "cell_type": "code",
   "execution_count": 1,
   "metadata": {
    "execution": {
     "iopub.execute_input": "2021-03-04T09:51:34.309635Z",
     "iopub.status.busy": "2021-03-04T09:51:34.308930Z",
     "iopub.status.idle": "2021-03-04T09:51:42.090434Z",
     "shell.execute_reply": "2021-03-04T09:51:42.089056Z"
    },
    "papermill": {
     "duration": 7.806291,
     "end_time": "2021-03-04T09:51:42.090704",
     "exception": false,
     "start_time": "2021-03-04T09:51:34.284413",
     "status": "completed"
    },
    "tags": []
   },
   "outputs": [],
   "source": [
    "import pandas as pd\n",
    "import numpy as np\n",
    "import seaborn as sns\n",
    "\n",
    "import tensorflow as tf\n",
    "import keras\n",
    "from keras.utils import to_categorical\n",
    "from keras.models import Sequential\n",
    "from keras.optimizers import SGD\n",
    "from keras.layers import Dense\n",
    "\n",
    "from sklearn.svm import SVC\n",
    "from sklearn.gaussian_process import GaussianProcessClassifier\n",
    "from sklearn.neighbors import KNeighborsClassifier\n",
    "\n",
    "from sklearn.model_selection import cross_val_score\n",
    "from sklearn.model_selection import StratifiedKFold\n",
    "from sklearn.preprocessing import LabelEncoder\n",
    "from sklearn.model_selection import train_test_split\n",
    "from sklearn.preprocessing import StandardScaler\n",
    "import time"
   ]
  },
  {
   "cell_type": "markdown",
   "metadata": {
    "papermill": {
     "duration": 0.017009,
     "end_time": "2021-03-04T09:51:42.125719",
     "exception": false,
     "start_time": "2021-03-04T09:51:42.108710",
     "status": "completed"
    },
    "tags": []
   },
   "source": [
    "# Importing Data"
   ]
  },
  {
   "cell_type": "code",
   "execution_count": 2,
   "metadata": {
    "execution": {
     "iopub.execute_input": "2021-03-04T09:51:42.166302Z",
     "iopub.status.busy": "2021-03-04T09:51:42.165575Z",
     "iopub.status.idle": "2021-03-04T09:51:42.343503Z",
     "shell.execute_reply": "2021-03-04T09:51:42.342845Z"
    },
    "papermill": {
     "duration": 0.200636,
     "end_time": "2021-03-04T09:51:42.343685",
     "exception": false,
     "start_time": "2021-03-04T09:51:42.143049",
     "status": "completed"
    },
    "tags": []
   },
   "outputs": [],
   "source": [
    "data = pd.read_csv('../input/thesis/dumy100000.csv')"
   ]
  },
  {
   "cell_type": "markdown",
   "metadata": {
    "papermill": {
     "duration": 0.016866,
     "end_time": "2021-03-04T09:51:42.378065",
     "exception": false,
     "start_time": "2021-03-04T09:51:42.361199",
     "status": "completed"
    },
    "tags": []
   },
   "source": [
    "# MCDM"
   ]
  },
  {
   "cell_type": "markdown",
   "metadata": {
    "papermill": {
     "duration": 0.016738,
     "end_time": "2021-03-04T09:51:42.412055",
     "exception": false,
     "start_time": "2021-03-04T09:51:42.395317",
     "status": "completed"
    },
    "tags": []
   },
   "source": [
    "# AHP"
   ]
  },
  {
   "cell_type": "code",
   "execution_count": 3,
   "metadata": {
    "execution": {
     "iopub.execute_input": "2021-03-04T09:51:42.474142Z",
     "iopub.status.busy": "2021-03-04T09:51:42.455551Z",
     "iopub.status.idle": "2021-03-04T09:51:43.263078Z",
     "shell.execute_reply": "2021-03-04T09:51:43.263645Z"
    },
    "papermill": {
     "duration": 0.834596,
     "end_time": "2021-03-04T09:51:43.263852",
     "exception": false,
     "start_time": "2021-03-04T09:51:42.429256",
     "status": "completed"
    },
    "tags": []
   },
   "outputs": [
    {
     "name": "stdout",
     "output_type": "stream",
     "text": [
      "The Matrix is Consistent.\n",
      "13.65 % -> A: 13648\n",
      "24.95 % -> B: 24953\n",
      "61.4 % -> C: 61399\n",
      "Total:  100000\n"
     ]
    },
    {
     "data": {
      "text/html": [
       "<div>\n",
       "<style scoped>\n",
       "    .dataframe tbody tr th:only-of-type {\n",
       "        vertical-align: middle;\n",
       "    }\n",
       "\n",
       "    .dataframe tbody tr th {\n",
       "        vertical-align: top;\n",
       "    }\n",
       "\n",
       "    .dataframe thead th {\n",
       "        text-align: right;\n",
       "    }\n",
       "</style>\n",
       "<table border=\"1\" class=\"dataframe\">\n",
       "  <thead>\n",
       "    <tr style=\"text-align: right;\">\n",
       "      <th></th>\n",
       "      <th>mfg</th>\n",
       "      <th>sell</th>\n",
       "      <th>demand</th>\n",
       "      <th>fcost</th>\n",
       "      <th>rma</th>\n",
       "      <th>performance</th>\n",
       "      <th>RunCumCost</th>\n",
       "      <th>RunCostPerc</th>\n",
       "      <th>Rank</th>\n",
       "      <th>RunItemCum</th>\n",
       "      <th>RunItemPerc</th>\n",
       "      <th>Class</th>\n",
       "    </tr>\n",
       "  </thead>\n",
       "  <tbody>\n",
       "    <tr>\n",
       "      <th>0</th>\n",
       "      <td>71</td>\n",
       "      <td>156.91</td>\n",
       "      <td>1595</td>\n",
       "      <td>49.7</td>\n",
       "      <td>3</td>\n",
       "      <td>0.276224</td>\n",
       "      <td>1494.307675</td>\n",
       "      <td>2.985227</td>\n",
       "      <td>6658.0</td>\n",
       "      <td>2.216781e+07</td>\n",
       "      <td>0.443352</td>\n",
       "      <td>C</td>\n",
       "    </tr>\n",
       "    <tr>\n",
       "      <th>1</th>\n",
       "      <td>474</td>\n",
       "      <td>1047.54</td>\n",
       "      <td>6877</td>\n",
       "      <td>331.8</td>\n",
       "      <td>3</td>\n",
       "      <td>0.873845</td>\n",
       "      <td>49945.574810</td>\n",
       "      <td>99.777899</td>\n",
       "      <td>99874.0</td>\n",
       "      <td>4.987458e+09</td>\n",
       "      <td>99.748160</td>\n",
       "      <td>A</td>\n",
       "    </tr>\n",
       "    <tr>\n",
       "      <th>2</th>\n",
       "      <td>70</td>\n",
       "      <td>154.70</td>\n",
       "      <td>5182</td>\n",
       "      <td>49.0</td>\n",
       "      <td>3</td>\n",
       "      <td>0.471743</td>\n",
       "      <td>15481.763973</td>\n",
       "      <td>30.928423</td>\n",
       "      <td>42637.0</td>\n",
       "      <td>9.089782e+08</td>\n",
       "      <td>18.179382</td>\n",
       "      <td>C</td>\n",
       "    </tr>\n",
       "    <tr>\n",
       "      <th>3</th>\n",
       "      <td>417</td>\n",
       "      <td>921.57</td>\n",
       "      <td>3914</td>\n",
       "      <td>291.9</td>\n",
       "      <td>3</td>\n",
       "      <td>0.668061</td>\n",
       "      <td>40135.751226</td>\n",
       "      <td>80.180495</td>\n",
       "      <td>86488.0</td>\n",
       "      <td>3.740130e+09</td>\n",
       "      <td>74.801858</td>\n",
       "      <td>A</td>\n",
       "    </tr>\n",
       "    <tr>\n",
       "      <th>4</th>\n",
       "      <td>239</td>\n",
       "      <td>528.19</td>\n",
       "      <td>4496</td>\n",
       "      <td>167.3</td>\n",
       "      <td>2</td>\n",
       "      <td>0.486306</td>\n",
       "      <td>17225.943313</td>\n",
       "      <td>34.412827</td>\n",
       "      <td>46278.0</td>\n",
       "      <td>1.070850e+09</td>\n",
       "      <td>21.416781</td>\n",
       "      <td>C</td>\n",
       "    </tr>\n",
       "  </tbody>\n",
       "</table>\n",
       "</div>"
      ],
      "text/plain": [
       "   mfg     sell  demand  fcost  rma  performance    RunCumCost  RunCostPerc  \\\n",
       "0   71   156.91    1595   49.7    3     0.276224   1494.307675     2.985227   \n",
       "1  474  1047.54    6877  331.8    3     0.873845  49945.574810    99.777899   \n",
       "2   70   154.70    5182   49.0    3     0.471743  15481.763973    30.928423   \n",
       "3  417   921.57    3914  291.9    3     0.668061  40135.751226    80.180495   \n",
       "4  239   528.19    4496  167.3    2     0.486306  17225.943313    34.412827   \n",
       "\n",
       "      Rank    RunItemCum  RunItemPerc Class  \n",
       "0   6658.0  2.216781e+07     0.443352     C  \n",
       "1  99874.0  4.987458e+09    99.748160     A  \n",
       "2  42637.0  9.089782e+08    18.179382     C  \n",
       "3  86488.0  3.740130e+09    74.801858     A  \n",
       "4  46278.0  1.070850e+09    21.416781     C  "
      ]
     },
     "execution_count": 3,
     "metadata": {},
     "output_type": "execute_result"
    },
    {
     "data": {
      "image/png": "[encoded data removed]",
      "text/plain": [
       "<Figure size 432x288 with 1 Axes>"
      ]
     },
     "metadata": {
      "needs_background": "light"
     },
     "output_type": "display_data"
    }
   ],
   "source": [
    "d_m = pd.read_csv('../input/pairwise/pairWiseMatrix.csv',index_col=0)\n",
    "\n",
    "for i in range(5):\n",
    "    d_m.iloc[:,i]=d_m.iloc[:,i]/d_m.iloc[:,i].sum()\n",
    "\n",
    "d_m['criteria_weight'] = d_m.mean(axis=1)\n",
    "\n",
    "dmat = pd.read_csv('../input/pairwise/pairWiseMatrix.csv',index_col=0)\n",
    "\n",
    "for i in range(5):\n",
    "    dmat.iloc[:,i] = dmat.iloc[:,i] * d_m.iloc[i,5]\n",
    "\n",
    "dmat['weighted_sum_value'] = dmat.sum(axis=1)\n",
    "\n",
    "dmat['weighted_sum_value/criteria_weight'] = dmat['weighted_sum_value']/d_m['criteria_weight']\n",
    "\n",
    "lamda = dmat['weighted_sum_value/criteria_weight'].mean()\n",
    "r = len(d_m.index)\n",
    "CI = (lamda-r)/(r-1)\n",
    "k= pd.read_csv('../input/pairwise/RCI.csv')\n",
    "for i in range(15):\n",
    "    if i==r-1:\n",
    "        RI=k.iloc[i,1]\n",
    "\n",
    "CR=CI/RI\n",
    "\n",
    "if CR < 0.1:\n",
    "    print(\"The Matrix is Consistent.\")\n",
    "else:\n",
    "     print(\"The Matrix is In-Consistent.\")\n",
    "\n",
    "dn = 0\n",
    "dn = data.copy()\n",
    "del dn['Unnamed: 0']\n",
    "d1 = dn.copy()\n",
    "\n",
    "d2 = pd.DataFrame(columns = d1.columns)\n",
    "d2 = d2.T\n",
    "d2[\"max\"] = 0\n",
    "d2[\"min\"] = 0\n",
    "d2 = d2.T\n",
    "\n",
    "for i in range(len(d2.columns)):\n",
    "    d2.iloc[0,i] = d1.iloc[:,i].max()\n",
    "    d2.iloc[1,i] = d1.iloc[:,i].min()\n",
    "\n",
    "# max-min normalizer = 0\n",
    "# linear normalizer = 1\n",
    "normalizer = 0\n",
    "\n",
    "if normalizer == 0 :\n",
    "    for i in range(len(d1.columns)):\n",
    "        if i==0 or i==3: #Non Beneficial\n",
    "            d1.iloc[:,i] = (d2.iloc[0,i]-d1.iloc[:,i])/(d2.iloc[0,i] - d2.iloc[1,i])\n",
    "\n",
    "        else: #Beneficial\n",
    "            d1.iloc[:,i] = (d1.iloc[:,i]-d2.iloc[1,i])/(d2.iloc[0,i] - d2.iloc[1,i])\n",
    "\n",
    "else:\n",
    "    for i in range(len(d1.columns)):\n",
    "        if i==0 or i==3: #Non Beneficial\n",
    "            d1.iloc[:,i] = d2.iloc[1,i]/d1.iloc[:,i]\n",
    "\n",
    "        else: #Beneficial\n",
    "            d1.iloc[:,i] = d1.iloc[:,i]/ d2.iloc[0,i]\n",
    "\n",
    "w = np.array(d_m[\"criteria_weight\"]).reshape(1,5)\n",
    "d1 = d1*w\n",
    "\n",
    "d1['performance'] = d1.iloc[:].sum(axis=1)\n",
    "\n",
    "dn['performance'] = d1['performance']\n",
    "dn = dn.sort_values(by=['performance'], ascending=True)\n",
    "\n",
    "dn['RunCumCost']   = dn['performance'].cumsum()\n",
    "TotSum             = dn['performance'].sum()\n",
    "dn['RunCostPerc']  = (dn['RunCumCost']/TotSum)*100\n",
    "\n",
    "dn['Rank']         = dn['RunCostPerc'].rank()\n",
    "dn['RunItemCum']   = dn['Rank'].cumsum()\n",
    "TotItemSum         = dn['Rank'].sum()\n",
    "dn['RunItemPerc']  = (dn['RunItemCum']/TotItemSum)*100\n",
    "\n",
    "def ABC_segmentation(perc):\n",
    "    '''\n",
    "    top A - top 20%, C - last 50% and B - between A & C\n",
    "    '''\n",
    "    if perc > 80 :\n",
    "        return 'A'\n",
    "    elif perc >= 50 and perc <= 80:\n",
    "        return 'B'\n",
    "    elif perc < 50:\n",
    "        return 'C'\n",
    "\n",
    "dn['Class'] = dn['RunCostPerc'].apply(ABC_segmentation)\n",
    "\n",
    "ax = sns.countplot(x = dn['Class'],data = dn,label= 'Count')\n",
    "dn['Class'].value_counts()\n",
    "\n",
    "dn['productid'] = dn.index\n",
    "dn = dn.sort_values(by=['productid'], ascending=True)\n",
    "del dn['productid']\n",
    "AHP_Class = dn['Class']\n",
    "\n",
    "C,B,A = dn['Class'].value_counts()\n",
    "print(round(100*A/dn['Class'].value_counts().sum(),2),\"% ->\",\"A:\",A)\n",
    "print(round(100*B/dn['Class'].value_counts().sum(),2),\"% ->\",\"B:\",B)\n",
    "print(round(100*C/dn['Class'].value_counts().sum(),2),\"% ->\",\"C:\",C)\n",
    "print(\"Total: \",dn['Class'].value_counts().sum())\n",
    "dn.head()"
   ]
  },
  {
   "cell_type": "code",
   "execution_count": null,
   "metadata": {
    "papermill": {
     "duration": 0.020574,
     "end_time": "2021-03-04T09:51:43.304303",
     "exception": false,
     "start_time": "2021-03-04T09:51:43.283729",
     "status": "completed"
    },
    "tags": []
   },
   "outputs": [],
   "source": []
  },
  {
   "cell_type": "markdown",
   "metadata": {
    "papermill": {
     "duration": 0.019524,
     "end_time": "2021-03-04T09:51:43.343239",
     "exception": false,
     "start_time": "2021-03-04T09:51:43.323715",
     "status": "completed"
    },
    "tags": []
   },
   "source": [
    "# Machine Learning"
   ]
  },
  {
   "cell_type": "code",
   "execution_count": 4,
   "metadata": {
    "execution": {
     "iopub.execute_input": "2021-03-04T09:51:43.386385Z",
     "iopub.status.busy": "2021-03-04T09:51:43.385658Z",
     "iopub.status.idle": "2021-03-04T09:51:43.395148Z",
     "shell.execute_reply": "2021-03-04T09:51:43.395759Z"
    },
    "papermill": {
     "duration": 0.033328,
     "end_time": "2021-03-04T09:51:43.396008",
     "exception": false,
     "start_time": "2021-03-04T09:51:43.362680",
     "status": "completed"
    },
    "tags": []
   },
   "outputs": [],
   "source": [
    "iteration = 5\n",
    "row_col = np.zeros([iteration,])\n",
    "\n",
    "acc = pd.DataFrame()\n",
    "acc['train_Acc'] = row_col\n",
    "acc['test_Acc']  = row_col\n",
    "acc['time']      = row_col\n",
    "acc['test_size'] = row_col\n",
    "start_time  = 0\n",
    "end_time    = 0\n",
    "train_score = 0\n",
    "test_score  = 0\n",
    "\n",
    "#split_size \n",
    "n = .1"
   ]
  },
  {
   "cell_type": "markdown",
   "metadata": {
    "papermill": {
     "duration": 0.01943,
     "end_time": "2021-03-04T09:51:43.435049",
     "exception": false,
     "start_time": "2021-03-04T09:51:43.415619",
     "status": "completed"
    },
    "tags": []
   },
   "source": [
    "# ANN"
   ]
  },
  {
   "cell_type": "code",
   "execution_count": 5,
   "metadata": {
    "execution": {
     "iopub.execute_input": "2021-03-04T09:51:43.478955Z",
     "iopub.status.busy": "2021-03-04T09:51:43.478209Z",
     "iopub.status.idle": "2021-03-04T09:53:11.513642Z",
     "shell.execute_reply": "2021-03-04T09:53:11.514310Z"
    },
    "papermill": {
     "duration": 88.059759,
     "end_time": "2021-03-04T09:53:11.514576",
     "exception": false,
     "start_time": "2021-03-04T09:51:43.454817",
     "status": "completed"
    },
    "tags": []
   },
   "outputs": [
    {
     "name": "stdout",
     "output_type": "stream",
     "text": [
      "Epoch 1/20\n",
      "633/633 [==============================] - 2s 2ms/step - loss: 0.9913 - accuracy: 0.6493 - val_loss: 0.4076 - val_accuracy: 0.8039\n",
      "Epoch 2/20\n",
      "633/633 [==============================] - 1s 1ms/step - loss: 0.3372 - accuracy: 0.8769 - val_loss: 0.2347 - val_accuracy: 0.9396\n",
      "Epoch 3/20\n",
      "633/633 [==============================] - 1s 1ms/step - loss: 0.2175 - accuracy: 0.9532 - val_loss: 0.1721 - val_accuracy: 0.9718\n",
      "Epoch 4/20\n",
      "633/633 [==============================] - 1s 1ms/step - loss: 0.1609 - accuracy: 0.9759 - val_loss: 0.1352 - val_accuracy: 0.9793\n",
      "Epoch 5/20\n",
      "633/633 [==============================] - 1s 1ms/step - loss: 0.1273 - accuracy: 0.9832 - val_loss: 0.1114 - val_accuracy: 0.9853\n",
      "Epoch 6/20\n",
      "633/633 [==============================] - 1s 1ms/step - loss: 0.1048 - accuracy: 0.9869 - val_loss: 0.0949 - val_accuracy: 0.9868\n",
      "Epoch 7/20\n",
      "633/633 [==============================] - 1s 1ms/step - loss: 0.0897 - accuracy: 0.9893 - val_loss: 0.0832 - val_accuracy: 0.9893\n",
      "Epoch 8/20\n",
      "633/633 [==============================] - 1s 1ms/step - loss: 0.0787 - accuracy: 0.9908 - val_loss: 0.0739 - val_accuracy: 0.9912\n",
      "Epoch 9/20\n",
      "633/633 [==============================] - 1s 1ms/step - loss: 0.0702 - accuracy: 0.9927 - val_loss: 0.0661 - val_accuracy: 0.9923\n",
      "Epoch 10/20\n",
      "633/633 [==============================] - 1s 1ms/step - loss: 0.0624 - accuracy: 0.9939 - val_loss: 0.0601 - val_accuracy: 0.9931\n",
      "Epoch 11/20\n",
      "633/633 [==============================] - 1s 1ms/step - loss: 0.0565 - accuracy: 0.9946 - val_loss: 0.0560 - val_accuracy: 0.9932\n",
      "Epoch 12/20\n",
      "633/633 [==============================] - 1s 1ms/step - loss: 0.0523 - accuracy: 0.9946 - val_loss: 0.0518 - val_accuracy: 0.9946\n",
      "Epoch 13/20\n",
      "633/633 [==============================] - 1s 1ms/step - loss: 0.0487 - accuracy: 0.9949 - val_loss: 0.0482 - val_accuracy: 0.9950\n",
      "Epoch 14/20\n",
      "633/633 [==============================] - 1s 1ms/step - loss: 0.0452 - accuracy: 0.9950 - val_loss: 0.0452 - val_accuracy: 0.9950\n",
      "Epoch 15/20\n",
      "633/633 [==============================] - 1s 1ms/step - loss: 0.0424 - accuracy: 0.9955 - val_loss: 0.0430 - val_accuracy: 0.9959\n",
      "Epoch 16/20\n",
      "633/633 [==============================] - 1s 1ms/step - loss: 0.0405 - accuracy: 0.9962 - val_loss: 0.0439 - val_accuracy: 0.9937\n",
      "Epoch 17/20\n",
      "633/633 [==============================] - 1s 1ms/step - loss: 0.0386 - accuracy: 0.9963 - val_loss: 0.0394 - val_accuracy: 0.9951\n",
      "Epoch 18/20\n",
      "633/633 [==============================] - 1s 1ms/step - loss: 0.0361 - accuracy: 0.9965 - val_loss: 0.0375 - val_accuracy: 0.9961\n",
      "Epoch 19/20\n",
      "633/633 [==============================] - 1s 1ms/step - loss: 0.0343 - accuracy: 0.9963 - val_loss: 0.0359 - val_accuracy: 0.9967\n",
      "Epoch 20/20\n",
      "633/633 [==============================] - 1s 1ms/step - loss: 0.0334 - accuracy: 0.9970 - val_loss: 0.0351 - val_accuracy: 0.9958\n",
      "Epoch 1/20\n",
      "500/500 [==============================] - 1s 2ms/step - loss: 1.0377 - accuracy: 0.5978 - val_loss: 0.7219 - val_accuracy: 0.7456\n",
      "Epoch 2/20\n",
      "500/500 [==============================] - 1s 1ms/step - loss: 0.6490 - accuracy: 0.7882 - val_loss: 0.4521 - val_accuracy: 0.9374\n",
      "Epoch 3/20\n",
      "500/500 [==============================] - 1s 1ms/step - loss: 0.3987 - accuracy: 0.9487 - val_loss: 0.2658 - val_accuracy: 0.9659\n",
      "Epoch 4/20\n",
      "500/500 [==============================] - 1s 1ms/step - loss: 0.2369 - accuracy: 0.9743 - val_loss: 0.1712 - val_accuracy: 0.9758\n",
      "Epoch 5/20\n",
      "500/500 [==============================] - 1s 1ms/step - loss: 0.1553 - accuracy: 0.9796 - val_loss: 0.1226 - val_accuracy: 0.9804\n",
      "Epoch 6/20\n",
      "500/500 [==============================] - 1s 1ms/step - loss: 0.1125 - accuracy: 0.9833 - val_loss: 0.0930 - val_accuracy: 0.9861\n",
      "Epoch 7/20\n",
      "500/500 [==============================] - 1s 1ms/step - loss: 0.0877 - accuracy: 0.9863 - val_loss: 0.0739 - val_accuracy: 0.9896\n",
      "Epoch 8/20\n",
      "500/500 [==============================] - 1s 1ms/step - loss: 0.0692 - accuracy: 0.9901 - val_loss: 0.0608 - val_accuracy: 0.9909\n",
      "Epoch 9/20\n",
      "500/500 [==============================] - 1s 1ms/step - loss: 0.0568 - accuracy: 0.9930 - val_loss: 0.0503 - val_accuracy: 0.9926\n",
      "Epoch 10/20\n",
      "500/500 [==============================] - 1s 1ms/step - loss: 0.0468 - accuracy: 0.9941 - val_loss: 0.0460 - val_accuracy: 0.9891\n",
      "Epoch 11/20\n",
      "500/500 [==============================] - 1s 1ms/step - loss: 0.0414 - accuracy: 0.9942 - val_loss: 0.0378 - val_accuracy: 0.9933\n",
      "Epoch 12/20\n",
      "500/500 [==============================] - 1s 1ms/step - loss: 0.0357 - accuracy: 0.9957 - val_loss: 0.0347 - val_accuracy: 0.9929\n",
      "Epoch 13/20\n",
      "500/500 [==============================] - 1s 1ms/step - loss: 0.0313 - accuracy: 0.9961 - val_loss: 0.0311 - val_accuracy: 0.9947\n",
      "Epoch 14/20\n",
      "500/500 [==============================] - 1s 1ms/step - loss: 0.0286 - accuracy: 0.9960 - val_loss: 0.0296 - val_accuracy: 0.9914\n",
      "Epoch 15/20\n",
      "500/500 [==============================] - 1s 1ms/step - loss: 0.0260 - accuracy: 0.9967 - val_loss: 0.0276 - val_accuracy: 0.9912\n",
      "Epoch 16/20\n",
      "500/500 [==============================] - 1s 1ms/step - loss: 0.0234 - accuracy: 0.9970 - val_loss: 0.0240 - val_accuracy: 0.9941\n",
      "Epoch 17/20\n",
      "500/500 [==============================] - 1s 1ms/step - loss: 0.0215 - accuracy: 0.9971 - val_loss: 0.0223 - val_accuracy: 0.9951\n",
      "Epoch 18/20\n",
      "500/500 [==============================] - 1s 1ms/step - loss: 0.0201 - accuracy: 0.9976 - val_loss: 0.0216 - val_accuracy: 0.9939\n",
      "Epoch 19/20\n",
      "500/500 [==============================] - 1s 1ms/step - loss: 0.0188 - accuracy: 0.9976 - val_loss: 0.0192 - val_accuracy: 0.9959\n",
      "Epoch 20/20\n",
      "500/500 [==============================] - 1s 1ms/step - loss: 0.0175 - accuracy: 0.9976 - val_loss: 0.0195 - val_accuracy: 0.9935\n",
      "Epoch 1/20\n",
      "633/633 [==============================] - 1s 1ms/step - loss: 0.9835 - accuracy: 0.5163 - val_loss: 0.4981 - val_accuracy: 0.8269\n",
      "Epoch 2/20\n",
      "633/633 [==============================] - 1s 1ms/step - loss: 0.4624 - accuracy: 0.8298 - val_loss: 0.3772 - val_accuracy: 0.8527\n",
      "Epoch 3/20\n",
      "633/633 [==============================] - 1s 1ms/step - loss: 0.3669 - accuracy: 0.8504 - val_loss: 0.3309 - val_accuracy: 0.8559\n",
      "Epoch 4/20\n",
      "633/633 [==============================] - 1s 1ms/step - loss: 0.3264 - accuracy: 0.8547 - val_loss: 0.3046 - val_accuracy: 0.8588\n",
      "Epoch 5/20\n",
      "633/633 [==============================] - 1s 1ms/step - loss: 0.3023 - accuracy: 0.8574 - val_loss: 0.2880 - val_accuracy: 0.8604\n",
      "Epoch 6/20\n",
      "633/633 [==============================] - 1s 1ms/step - loss: 0.2884 - accuracy: 0.8583 - val_loss: 0.2778 - val_accuracy: 0.8592\n",
      "Epoch 7/20\n",
      "633/633 [==============================] - 1s 1ms/step - loss: 0.2764 - accuracy: 0.8589 - val_loss: 0.2693 - val_accuracy: 0.8599\n",
      "Epoch 8/20\n",
      "633/633 [==============================] - 1s 1ms/step - loss: 0.2693 - accuracy: 0.8587 - val_loss: 0.2633 - val_accuracy: 0.8598\n",
      "Epoch 9/20\n",
      "633/633 [==============================] - 1s 1ms/step - loss: 0.2628 - accuracy: 0.8580 - val_loss: 0.2540 - val_accuracy: 0.8572\n",
      "Epoch 10/20\n",
      "633/633 [==============================] - 1s 1ms/step - loss: 0.2447 - accuracy: 0.8589 - val_loss: 0.1625 - val_accuracy: 0.9637\n",
      "Epoch 11/20\n",
      "633/633 [==============================] - 1s 1ms/step - loss: 0.1281 - accuracy: 0.9765 - val_loss: 0.0728 - val_accuracy: 0.9903\n",
      "Epoch 12/20\n",
      "633/633 [==============================] - 1s 1ms/step - loss: 0.0632 - accuracy: 0.9910 - val_loss: 0.0460 - val_accuracy: 0.9924\n",
      "Epoch 13/20\n",
      "633/633 [==============================] - 1s 1ms/step - loss: 0.0401 - accuracy: 0.9964 - val_loss: 0.0329 - val_accuracy: 0.9962\n",
      "Epoch 14/20\n",
      "633/633 [==============================] - 1s 1ms/step - loss: 0.0299 - accuracy: 0.9973 - val_loss: 0.0270 - val_accuracy: 0.9968\n",
      "Epoch 15/20\n",
      "633/633 [==============================] - 1s 1ms/step - loss: 0.0248 - accuracy: 0.9974 - val_loss: 0.0230 - val_accuracy: 0.9964\n",
      "Epoch 16/20\n",
      "633/633 [==============================] - 1s 1ms/step - loss: 0.0209 - accuracy: 0.9979 - val_loss: 0.0202 - val_accuracy: 0.9964\n",
      "Epoch 17/20\n",
      "633/633 [==============================] - 1s 1ms/step - loss: 0.0189 - accuracy: 0.9979 - val_loss: 0.0193 - val_accuracy: 0.9956\n",
      "Epoch 18/20\n",
      "633/633 [==============================] - 1s 1ms/step - loss: 0.0167 - accuracy: 0.9977 - val_loss: 0.0159 - val_accuracy: 0.9969\n",
      "Epoch 19/20\n",
      "633/633 [==============================] - 1s 1ms/step - loss: 0.0148 - accuracy: 0.9979 - val_loss: 0.0151 - val_accuracy: 0.9963\n",
      "Epoch 20/20\n",
      "633/633 [==============================] - 1s 1ms/step - loss: 0.0140 - accuracy: 0.9979 - val_loss: 0.0147 - val_accuracy: 0.9963\n",
      "Epoch 1/20\n",
      "500/500 [==============================] - 1s 2ms/step - loss: 0.9322 - accuracy: 0.5652 - val_loss: 0.4591 - val_accuracy: 0.7883\n",
      "Epoch 2/20\n",
      "500/500 [==============================] - 1s 1ms/step - loss: 0.3938 - accuracy: 0.8237 - val_loss: 0.2408 - val_accuracy: 0.9298\n",
      "Epoch 3/20\n",
      "500/500 [==============================] - 1s 1ms/step - loss: 0.2071 - accuracy: 0.9368 - val_loss: 0.1459 - val_accuracy: 0.9522\n",
      "Epoch 4/20\n",
      "500/500 [==============================] - 1s 1ms/step - loss: 0.1306 - accuracy: 0.9592 - val_loss: 0.0962 - val_accuracy: 0.9711\n",
      "Epoch 5/20\n",
      "500/500 [==============================] - 1s 1ms/step - loss: 0.0861 - accuracy: 0.9741 - val_loss: 0.0632 - val_accuracy: 0.9898\n",
      "Epoch 6/20\n",
      "500/500 [==============================] - 1s 1ms/step - loss: 0.0583 - accuracy: 0.9919 - val_loss: 0.0497 - val_accuracy: 0.9891\n",
      "Epoch 7/20\n",
      "500/500 [==============================] - 1s 1ms/step - loss: 0.0465 - accuracy: 0.9956 - val_loss: 0.0401 - val_accuracy: 0.9947\n",
      "Epoch 8/20\n",
      "500/500 [==============================] - 1s 1ms/step - loss: 0.0375 - accuracy: 0.9969 - val_loss: 0.0346 - val_accuracy: 0.9930\n",
      "Epoch 9/20\n",
      "500/500 [==============================] - 1s 1ms/step - loss: 0.0326 - accuracy: 0.9968 - val_loss: 0.0312 - val_accuracy: 0.9931\n",
      "Epoch 10/20\n",
      "500/500 [==============================] - 1s 1ms/step - loss: 0.0277 - accuracy: 0.9974 - val_loss: 0.0271 - val_accuracy: 0.9954\n",
      "Epoch 11/20\n",
      "500/500 [==============================] - 1s 1ms/step - loss: 0.0263 - accuracy: 0.9973 - val_loss: 0.0268 - val_accuracy: 0.9919\n",
      "Epoch 12/20\n",
      "500/500 [==============================] - 1s 1ms/step - loss: 0.0234 - accuracy: 0.9974 - val_loss: 0.0259 - val_accuracy: 0.9904\n",
      "Epoch 13/20\n",
      "500/500 [==============================] - 1s 1ms/step - loss: 0.0216 - accuracy: 0.9977 - val_loss: 0.0211 - val_accuracy: 0.9961\n",
      "Epoch 14/20\n",
      "500/500 [==============================] - 1s 1ms/step - loss: 0.0208 - accuracy: 0.9976 - val_loss: 0.0217 - val_accuracy: 0.9933\n",
      "Epoch 15/20\n",
      "500/500 [==============================] - 1s 1ms/step - loss: 0.0187 - accuracy: 0.9978 - val_loss: 0.0191 - val_accuracy: 0.9946\n",
      "Epoch 16/20\n",
      "500/500 [==============================] - 1s 1ms/step - loss: 0.0182 - accuracy: 0.9975 - val_loss: 0.0199 - val_accuracy: 0.9928\n",
      "Epoch 17/20\n",
      "500/500 [==============================] - 1s 1ms/step - loss: 0.0165 - accuracy: 0.9979 - val_loss: 0.0180 - val_accuracy: 0.9944\n",
      "Epoch 18/20\n",
      "500/500 [==============================] - 1s 1ms/step - loss: 0.0157 - accuracy: 0.9979 - val_loss: 0.0188 - val_accuracy: 0.9927\n",
      "Epoch 19/20\n",
      "500/500 [==============================] - 1s 1ms/step - loss: 0.0151 - accuracy: 0.9977 - val_loss: 0.0152 - val_accuracy: 0.9953\n",
      "Epoch 20/20\n",
      "500/500 [==============================] - 1s 1ms/step - loss: 0.0147 - accuracy: 0.9981 - val_loss: 0.0164 - val_accuracy: 0.9940\n",
      "Epoch 1/20\n",
      "633/633 [==============================] - 1s 1ms/step - loss: 0.8979 - accuracy: 0.5528 - val_loss: 0.3774 - val_accuracy: 0.8407\n",
      "Epoch 2/20\n",
      "633/633 [==============================] - 1s 1ms/step - loss: 0.3084 - accuracy: 0.8682 - val_loss: 0.1528 - val_accuracy: 0.9690\n",
      "Epoch 3/20\n",
      "633/633 [==============================] - 1s 1ms/step - loss: 0.1297 - accuracy: 0.9718 - val_loss: 0.0843 - val_accuracy: 0.9814\n",
      "Epoch 4/20\n",
      "633/633 [==============================] - 1s 1ms/step - loss: 0.0761 - accuracy: 0.9839 - val_loss: 0.0585 - val_accuracy: 0.9913\n",
      "Epoch 5/20\n",
      "633/633 [==============================] - 1s 1ms/step - loss: 0.0538 - accuracy: 0.9911 - val_loss: 0.0454 - val_accuracy: 0.9938\n",
      "Epoch 6/20\n",
      "633/633 [==============================] - 1s 1ms/step - loss: 0.0419 - accuracy: 0.9958 - val_loss: 0.0369 - val_accuracy: 0.9961\n",
      "Epoch 7/20\n",
      "633/633 [==============================] - 1s 1ms/step - loss: 0.0350 - accuracy: 0.9966 - val_loss: 0.0316 - val_accuracy: 0.9963\n",
      "Epoch 8/20\n",
      "633/633 [==============================] - 1s 1ms/step - loss: 0.0294 - accuracy: 0.9969 - val_loss: 0.0274 - val_accuracy: 0.9977\n",
      "Epoch 9/20\n",
      "633/633 [==============================] - 1s 1ms/step - loss: 0.0266 - accuracy: 0.9974 - val_loss: 0.0255 - val_accuracy: 0.9932\n",
      "Epoch 10/20\n",
      "633/633 [==============================] - 1s 1ms/step - loss: 0.0236 - accuracy: 0.9968 - val_loss: 0.0224 - val_accuracy: 0.9969\n",
      "Epoch 11/20\n",
      "633/633 [==============================] - 1s 1ms/step - loss: 0.0216 - accuracy: 0.9973 - val_loss: 0.0211 - val_accuracy: 0.9972\n",
      "Epoch 12/20\n",
      "633/633 [==============================] - 1s 1ms/step - loss: 0.0192 - accuracy: 0.9976 - val_loss: 0.0195 - val_accuracy: 0.9969\n",
      "Epoch 13/20\n",
      "633/633 [==============================] - 1s 1ms/step - loss: 0.0182 - accuracy: 0.9977 - val_loss: 0.0182 - val_accuracy: 0.9967\n",
      "Epoch 14/20\n",
      "633/633 [==============================] - 1s 1ms/step - loss: 0.0169 - accuracy: 0.9979 - val_loss: 0.0166 - val_accuracy: 0.9974\n",
      "Epoch 15/20\n",
      "633/633 [==============================] - 1s 1ms/step - loss: 0.0158 - accuracy: 0.9980 - val_loss: 0.0170 - val_accuracy: 0.9951\n",
      "Epoch 16/20\n",
      "633/633 [==============================] - 1s 1ms/step - loss: 0.0144 - accuracy: 0.9981 - val_loss: 0.0156 - val_accuracy: 0.9968\n",
      "Epoch 17/20\n",
      "633/633 [==============================] - 1s 1ms/step - loss: 0.0136 - accuracy: 0.9979 - val_loss: 0.0153 - val_accuracy: 0.9959\n",
      "Epoch 18/20\n",
      "633/633 [==============================] - 1s 1ms/step - loss: 0.0129 - accuracy: 0.9980 - val_loss: 0.0135 - val_accuracy: 0.9978\n",
      "Epoch 19/20\n",
      "633/633 [==============================] - 1s 1ms/step - loss: 0.0126 - accuracy: 0.9980 - val_loss: 0.0131 - val_accuracy: 0.9973\n",
      "Epoch 20/20\n",
      "633/633 [==============================] - 1s 1ms/step - loss: 0.0123 - accuracy: 0.9981 - val_loss: 0.0122 - val_accuracy: 0.9980\n"
     ]
    }
   ],
   "source": [
    "for i in range(iteration):\n",
    "      \n",
    "    X = dn.iloc[:,0:5].astype('float32')\n",
    "    y = dn['Class'] #.iloc[0:100,-1] \n",
    "\n",
    "    encoder = LabelEncoder()\n",
    "    encoder.fit(y)\n",
    "    y = encoder.transform(y)\n",
    "\n",
    "    y = to_categorical(y)\n",
    "\n",
    "    X_train,X_test,y_train,y_test = train_test_split(X, y ,test_size = n, random_state=0)\n",
    "    X_train,X_val,y_train,y_val = train_test_split(X_train, y_train ,test_size = n, random_state=0)\n",
    "\n",
    "    sc = StandardScaler()\n",
    "    X_train = sc.fit_transform(X_train)\n",
    "    X_test  = sc.fit_transform(X_test)\n",
    "    X_val  = sc.fit_transform(X_val)\n",
    "           \n",
    "    #time start\n",
    "    start_time = time.time()\n",
    "    \n",
    "    model = Sequential()\n",
    "    model.add(Dense(5, activation='relu', input_shape=(X_train.shape[1],)))\n",
    "    model.add(Dense(3, activation='relu'))\n",
    "    model.add(Dense(3, activation='softmax'))\n",
    "    model.compile(loss='categorical_crossentropy', optimizer='adam', metrics=['accuracy'])\n",
    "    model.fit(X_train,y_train,batch_size = 128, epochs = 20, validation_data = (X_val,y_val))\n",
    "\n",
    "    #time end\n",
    "    end_time = time.time()\n",
    "        \n",
    "    train_score = model.evaluate(X_train,y_train,verbose=0)\n",
    "    test_score = model.evaluate(X_test,y_test,verbose=0)\n",
    "       \n",
    "    #time calculation \n",
    "    acc.iloc[i,2] = end_time - start_time\n",
    "    \n",
    "    #Accuracy\n",
    "    acc.iloc[i,0] = train_score[1]*100\n",
    "    acc.iloc[i,1] = train_score[1]*100\n",
    "    \n",
    "    #test size\n",
    "    acc.iloc[i,3] = n*100\n",
    "    \n",
    "    if n == .1:\n",
    "        n = .2\n",
    "    else :\n",
    "        n = .1"
   ]
  },
  {
   "cell_type": "code",
   "execution_count": 6,
   "metadata": {
    "execution": {
     "iopub.execute_input": "2021-03-04T09:53:12.366713Z",
     "iopub.status.busy": "2021-03-04T09:53:12.366015Z",
     "iopub.status.idle": "2021-03-04T09:53:12.381103Z",
     "shell.execute_reply": "2021-03-04T09:53:12.381629Z"
    },
    "papermill": {
     "duration": 0.439719,
     "end_time": "2021-03-04T09:53:12.381834",
     "exception": false,
     "start_time": "2021-03-04T09:53:11.942115",
     "status": "completed"
    },
    "tags": []
   },
   "outputs": [
    {
     "data": {
      "text/html": [
       "<div>\n",
       "<style scoped>\n",
       "    .dataframe tbody tr th:only-of-type {\n",
       "        vertical-align: middle;\n",
       "    }\n",
       "\n",
       "    .dataframe tbody tr th {\n",
       "        vertical-align: top;\n",
       "    }\n",
       "\n",
       "    .dataframe thead th {\n",
       "        text-align: right;\n",
       "    }\n",
       "</style>\n",
       "<table border=\"1\" class=\"dataframe\">\n",
       "  <thead>\n",
       "    <tr style=\"text-align: right;\">\n",
       "      <th></th>\n",
       "      <th>train_Acc</th>\n",
       "      <th>test_Acc</th>\n",
       "      <th>time</th>\n",
       "      <th>test_size</th>\n",
       "    </tr>\n",
       "  </thead>\n",
       "  <tbody>\n",
       "    <tr>\n",
       "      <th>0</th>\n",
       "      <td>99.75</td>\n",
       "      <td>99.75</td>\n",
       "      <td>17.00</td>\n",
       "      <td>10.0</td>\n",
       "    </tr>\n",
       "    <tr>\n",
       "      <th>1</th>\n",
       "      <td>99.73</td>\n",
       "      <td>99.73</td>\n",
       "      <td>13.61</td>\n",
       "      <td>20.0</td>\n",
       "    </tr>\n",
       "    <tr>\n",
       "      <th>2</th>\n",
       "      <td>99.81</td>\n",
       "      <td>99.81</td>\n",
       "      <td>16.04</td>\n",
       "      <td>10.0</td>\n",
       "    </tr>\n",
       "    <tr>\n",
       "      <th>3</th>\n",
       "      <td>99.91</td>\n",
       "      <td>99.91</td>\n",
       "      <td>13.77</td>\n",
       "      <td>20.0</td>\n",
       "    </tr>\n",
       "    <tr>\n",
       "      <th>4</th>\n",
       "      <td>99.87</td>\n",
       "      <td>99.87</td>\n",
       "      <td>16.25</td>\n",
       "      <td>10.0</td>\n",
       "    </tr>\n",
       "  </tbody>\n",
       "</table>\n",
       "</div>"
      ],
      "text/plain": [
       "   train_Acc  test_Acc   time  test_size\n",
       "0      99.75     99.75  17.00       10.0\n",
       "1      99.73     99.73  13.61       20.0\n",
       "2      99.81     99.81  16.04       10.0\n",
       "3      99.91     99.91  13.77       20.0\n",
       "4      99.87     99.87  16.25       10.0"
      ]
     },
     "execution_count": 6,
     "metadata": {},
     "output_type": "execute_result"
    }
   ],
   "source": [
    "acc = acc.round(2)\n",
    "acc"
   ]
  },
  {
   "cell_type": "code",
   "execution_count": 7,
   "metadata": {
    "execution": {
     "iopub.execute_input": "2021-03-04T09:53:13.226680Z",
     "iopub.status.busy": "2021-03-04T09:53:13.225923Z",
     "iopub.status.idle": "2021-03-04T09:53:13.233720Z",
     "shell.execute_reply": "2021-03-04T09:53:13.234255Z"
    },
    "papermill": {
     "duration": 0.435753,
     "end_time": "2021-03-04T09:53:13.234466",
     "exception": false,
     "start_time": "2021-03-04T09:53:12.798713",
     "status": "completed"
    },
    "tags": []
   },
   "outputs": [
    {
     "data": {
      "text/plain": [
       "train_Acc    99.814\n",
       "test_Acc     99.814\n",
       "time         15.334\n",
       "test_size    14.000\n",
       "dtype: float64"
      ]
     },
     "execution_count": 7,
     "metadata": {},
     "output_type": "execute_result"
    }
   ],
   "source": [
    "ANNAcc = acc.mean()\n",
    "ANNAcc"
   ]
  },
  {
   "cell_type": "markdown",
   "metadata": {
    "papermill": {
     "duration": 0.422265,
     "end_time": "2021-03-04T09:53:14.074653",
     "exception": false,
     "start_time": "2021-03-04T09:53:13.652388",
     "status": "completed"
    },
    "tags": []
   },
   "source": [
    "# SVM"
   ]
  },
  {
   "cell_type": "code",
   "execution_count": 8,
   "metadata": {
    "execution": {
     "iopub.execute_input": "2021-03-04T09:53:14.946453Z",
     "iopub.status.busy": "2021-03-04T09:53:14.945688Z",
     "iopub.status.idle": "2021-03-04T10:11:51.261134Z",
     "shell.execute_reply": "2021-03-04T10:11:51.261711Z"
    },
    "papermill": {
     "duration": 1116.752355,
     "end_time": "2021-03-04T10:11:51.261914",
     "exception": false,
     "start_time": "2021-03-04T09:53:14.509559",
     "status": "completed"
    },
    "tags": []
   },
   "outputs": [
    {
     "name": "stdout",
     "output_type": "stream",
     "text": [
      "1  run\n",
      "2  run\n",
      "3  run\n",
      "4  run\n",
      "5  run\n"
     ]
    }
   ],
   "source": [
    "n = .1\n",
    "for i in range(iteration):\n",
    "    \n",
    "    X = dn.iloc[:,0:5].astype('float32')\n",
    "    y = dn['Class']\n",
    "\n",
    "    encoder = LabelEncoder()\n",
    "    encoder.fit(y)\n",
    "    y = encoder.transform(y)\n",
    "\n",
    "    X_train, X_test, y_train, y_test = train_test_split(X, y, test_size = n, random_state=0)\n",
    "    \n",
    "    #time start\n",
    "    start_time = time.time()\n",
    "    \n",
    "    \n",
    "    model = SVC(kernel='poly')\n",
    "    model.fit(X_train,y_train)\n",
    "    \n",
    "    #time end\n",
    "    end_time = time.time()\n",
    "\n",
    "    train_score = model.score(X_train,y_train)\n",
    "    test_score  = model.score(X_test,y_test)\n",
    "    \n",
    "    #time calculation \n",
    "    acc.iloc[i,2] = end_time - start_time\n",
    "    \n",
    "    #Accuracy\n",
    "    acc.iloc[i,0] = train_score*100\n",
    "    acc.iloc[i,1] = test_score*100\n",
    "    \n",
    "    #test size\n",
    "    acc.iloc[i,3] = n*100\n",
    "\n",
    "    if n == .1:\n",
    "        n = .2\n",
    "    else :\n",
    "        n = .1\n",
    "    print(i+1,\" run\")"
   ]
  },
  {
   "cell_type": "code",
   "execution_count": 9,
   "metadata": {
    "execution": {
     "iopub.execute_input": "2021-03-04T10:11:52.121496Z",
     "iopub.status.busy": "2021-03-04T10:11:52.120750Z",
     "iopub.status.idle": "2021-03-04T10:11:52.125332Z",
     "shell.execute_reply": "2021-03-04T10:11:52.124817Z"
    },
    "papermill": {
     "duration": 0.442491,
     "end_time": "2021-03-04T10:11:52.125494",
     "exception": false,
     "start_time": "2021-03-04T10:11:51.683003",
     "status": "completed"
    },
    "tags": []
   },
   "outputs": [
    {
     "data": {
      "text/html": [
       "<div>\n",
       "<style scoped>\n",
       "    .dataframe tbody tr th:only-of-type {\n",
       "        vertical-align: middle;\n",
       "    }\n",
       "\n",
       "    .dataframe tbody tr th {\n",
       "        vertical-align: top;\n",
       "    }\n",
       "\n",
       "    .dataframe thead th {\n",
       "        text-align: right;\n",
       "    }\n",
       "</style>\n",
       "<table border=\"1\" class=\"dataframe\">\n",
       "  <thead>\n",
       "    <tr style=\"text-align: right;\">\n",
       "      <th></th>\n",
       "      <th>train_Acc</th>\n",
       "      <th>test_Acc</th>\n",
       "      <th>time</th>\n",
       "      <th>test_size</th>\n",
       "    </tr>\n",
       "  </thead>\n",
       "  <tbody>\n",
       "    <tr>\n",
       "      <th>0</th>\n",
       "      <td>77.87</td>\n",
       "      <td>77.82</td>\n",
       "      <td>122.13</td>\n",
       "      <td>10.0</td>\n",
       "    </tr>\n",
       "    <tr>\n",
       "      <th>1</th>\n",
       "      <td>77.83</td>\n",
       "      <td>77.84</td>\n",
       "      <td>97.32</td>\n",
       "      <td>20.0</td>\n",
       "    </tr>\n",
       "    <tr>\n",
       "      <th>2</th>\n",
       "      <td>77.87</td>\n",
       "      <td>77.82</td>\n",
       "      <td>123.19</td>\n",
       "      <td>10.0</td>\n",
       "    </tr>\n",
       "    <tr>\n",
       "      <th>3</th>\n",
       "      <td>77.83</td>\n",
       "      <td>77.84</td>\n",
       "      <td>97.60</td>\n",
       "      <td>20.0</td>\n",
       "    </tr>\n",
       "    <tr>\n",
       "      <th>4</th>\n",
       "      <td>77.87</td>\n",
       "      <td>77.82</td>\n",
       "      <td>122.43</td>\n",
       "      <td>10.0</td>\n",
       "    </tr>\n",
       "  </tbody>\n",
       "</table>\n",
       "</div>"
      ],
      "text/plain": [
       "   train_Acc  test_Acc    time  test_size\n",
       "0      77.87     77.82  122.13       10.0\n",
       "1      77.83     77.84   97.32       20.0\n",
       "2      77.87     77.82  123.19       10.0\n",
       "3      77.83     77.84   97.60       20.0\n",
       "4      77.87     77.82  122.43       10.0"
      ]
     },
     "execution_count": 9,
     "metadata": {},
     "output_type": "execute_result"
    }
   ],
   "source": [
    "acc = acc.round(2)\n",
    "acc"
   ]
  },
  {
   "cell_type": "code",
   "execution_count": 10,
   "metadata": {
    "execution": {
     "iopub.execute_input": "2021-03-04T10:11:52.971172Z",
     "iopub.status.busy": "2021-03-04T10:11:52.970516Z",
     "iopub.status.idle": "2021-03-04T10:11:52.978361Z",
     "shell.execute_reply": "2021-03-04T10:11:52.978916Z"
    },
    "papermill": {
     "duration": 0.433698,
     "end_time": "2021-03-04T10:11:52.979118",
     "exception": false,
     "start_time": "2021-03-04T10:11:52.545420",
     "status": "completed"
    },
    "tags": []
   },
   "outputs": [
    {
     "data": {
      "text/plain": [
       "train_Acc     77.854\n",
       "test_Acc      77.828\n",
       "time         112.534\n",
       "test_size     14.000\n",
       "dtype: float64"
      ]
     },
     "execution_count": 10,
     "metadata": {},
     "output_type": "execute_result"
    }
   ],
   "source": [
    "SVMAcc = acc.mean()\n",
    "SVMAcc"
   ]
  },
  {
   "cell_type": "markdown",
   "metadata": {
    "papermill": {
     "duration": 0.423307,
     "end_time": "2021-03-04T10:11:53.822967",
     "exception": false,
     "start_time": "2021-03-04T10:11:53.399660",
     "status": "completed"
    },
    "tags": []
   },
   "source": [
    "# KNN"
   ]
  },
  {
   "cell_type": "code",
   "execution_count": 11,
   "metadata": {
    "execution": {
     "iopub.execute_input": "2021-03-04T10:11:54.671263Z",
     "iopub.status.busy": "2021-03-04T10:11:54.670560Z",
     "iopub.status.idle": "2021-03-04T10:12:14.002669Z",
     "shell.execute_reply": "2021-03-04T10:12:14.001979Z"
    },
    "papermill": {
     "duration": 19.757187,
     "end_time": "2021-03-04T10:12:14.002856",
     "exception": false,
     "start_time": "2021-03-04T10:11:54.245669",
     "status": "completed"
    },
    "tags": []
   },
   "outputs": [
    {
     "name": "stdout",
     "output_type": "stream",
     "text": [
      "1  run\n",
      "2  run\n",
      "3  run\n",
      "4  run\n",
      "5  run\n"
     ]
    }
   ],
   "source": [
    "n = .1\n",
    "for i in range(iteration):\n",
    "    \n",
    "    X = dn.iloc[:,0:5].astype('float32')\n",
    "    y = dn['Class']\n",
    "\n",
    "    encoder = LabelEncoder()\n",
    "    encoder.fit(y)\n",
    "    y = encoder.transform(y)\n",
    "\n",
    "    X_train, X_test, y_train, y_test = train_test_split(X, y, test_size = n, random_state=0)\n",
    "\n",
    "    \n",
    "    #time start\n",
    "    start_time = time.time()\n",
    "        \n",
    "    model = KNeighborsClassifier(n_neighbors=3)\n",
    "    model.fit(X_train,y_train)\n",
    "    \n",
    "    #time end\n",
    "    end_time = time.time()\n",
    "\n",
    "    train_score = model.score(X_train,y_train)\n",
    "    test_score  = model.score(X_test,y_test)\n",
    "    \n",
    "    #time calculation \n",
    "    acc.iloc[i,2] = end_time - start_time\n",
    "    \n",
    "    #Accuracy\n",
    "    acc.iloc[i,0] = train_score*100\n",
    "    acc.iloc[i,1] = test_score*100\n",
    "    \n",
    "    #test size\n",
    "    acc.iloc[i,3] = n*100\n",
    "    \n",
    "    if n == .1:\n",
    "        n = .2\n",
    "    else :\n",
    "        n = .1\n",
    "    print(i+1,\" run\")"
   ]
  },
  {
   "cell_type": "code",
   "execution_count": 12,
   "metadata": {
    "execution": {
     "iopub.execute_input": "2021-03-04T10:12:14.865629Z",
     "iopub.status.busy": "2021-03-04T10:12:14.864591Z",
     "iopub.status.idle": "2021-03-04T10:12:14.869029Z",
     "shell.execute_reply": "2021-03-04T10:12:14.868546Z"
    },
    "papermill": {
     "duration": 0.441678,
     "end_time": "2021-03-04T10:12:14.869215",
     "exception": false,
     "start_time": "2021-03-04T10:12:14.427537",
     "status": "completed"
    },
    "tags": []
   },
   "outputs": [
    {
     "data": {
      "text/html": [
       "<div>\n",
       "<style scoped>\n",
       "    .dataframe tbody tr th:only-of-type {\n",
       "        vertical-align: middle;\n",
       "    }\n",
       "\n",
       "    .dataframe tbody tr th {\n",
       "        vertical-align: top;\n",
       "    }\n",
       "\n",
       "    .dataframe thead th {\n",
       "        text-align: right;\n",
       "    }\n",
       "</style>\n",
       "<table border=\"1\" class=\"dataframe\">\n",
       "  <thead>\n",
       "    <tr style=\"text-align: right;\">\n",
       "      <th></th>\n",
       "      <th>train_Acc</th>\n",
       "      <th>test_Acc</th>\n",
       "      <th>time</th>\n",
       "      <th>test_size</th>\n",
       "    </tr>\n",
       "  </thead>\n",
       "  <tbody>\n",
       "    <tr>\n",
       "      <th>0</th>\n",
       "      <td>87.11</td>\n",
       "      <td>75.05</td>\n",
       "      <td>0.11</td>\n",
       "      <td>10.0</td>\n",
       "    </tr>\n",
       "    <tr>\n",
       "      <th>1</th>\n",
       "      <td>87.00</td>\n",
       "      <td>74.99</td>\n",
       "      <td>0.09</td>\n",
       "      <td>20.0</td>\n",
       "    </tr>\n",
       "    <tr>\n",
       "      <th>2</th>\n",
       "      <td>87.11</td>\n",
       "      <td>75.05</td>\n",
       "      <td>0.11</td>\n",
       "      <td>10.0</td>\n",
       "    </tr>\n",
       "    <tr>\n",
       "      <th>3</th>\n",
       "      <td>87.00</td>\n",
       "      <td>74.99</td>\n",
       "      <td>0.09</td>\n",
       "      <td>20.0</td>\n",
       "    </tr>\n",
       "    <tr>\n",
       "      <th>4</th>\n",
       "      <td>87.11</td>\n",
       "      <td>75.05</td>\n",
       "      <td>0.11</td>\n",
       "      <td>10.0</td>\n",
       "    </tr>\n",
       "  </tbody>\n",
       "</table>\n",
       "</div>"
      ],
      "text/plain": [
       "   train_Acc  test_Acc  time  test_size\n",
       "0      87.11     75.05  0.11       10.0\n",
       "1      87.00     74.99  0.09       20.0\n",
       "2      87.11     75.05  0.11       10.0\n",
       "3      87.00     74.99  0.09       20.0\n",
       "4      87.11     75.05  0.11       10.0"
      ]
     },
     "execution_count": 12,
     "metadata": {},
     "output_type": "execute_result"
    }
   ],
   "source": [
    "acc = acc.round(2)\n",
    "acc"
   ]
  },
  {
   "cell_type": "code",
   "execution_count": 13,
   "metadata": {
    "execution": {
     "iopub.execute_input": "2021-03-04T10:12:15.725580Z",
     "iopub.status.busy": "2021-03-04T10:12:15.724720Z",
     "iopub.status.idle": "2021-03-04T10:12:15.729062Z",
     "shell.execute_reply": "2021-03-04T10:12:15.728555Z"
    },
    "papermill": {
     "duration": 0.435591,
     "end_time": "2021-03-04T10:12:15.729262",
     "exception": false,
     "start_time": "2021-03-04T10:12:15.293671",
     "status": "completed"
    },
    "tags": []
   },
   "outputs": [
    {
     "data": {
      "text/plain": [
       "train_Acc    87.066\n",
       "test_Acc     75.026\n",
       "time          0.102\n",
       "test_size    14.000\n",
       "dtype: float64"
      ]
     },
     "execution_count": 13,
     "metadata": {},
     "output_type": "execute_result"
    }
   ],
   "source": [
    "KNNAcc = acc.mean()\n",
    "KNNAcc"
   ]
  },
  {
   "cell_type": "markdown",
   "metadata": {
    "papermill": {
     "duration": 0.424099,
     "end_time": "2021-03-04T10:12:16.577866",
     "exception": false,
     "start_time": "2021-03-04T10:12:16.153767",
     "status": "completed"
    },
    "tags": []
   },
   "source": [
    "# GPC"
   ]
  },
  {
   "cell_type": "code",
   "execution_count": 14,
   "metadata": {
    "execution": {
     "iopub.execute_input": "2021-03-04T10:12:17.445091Z",
     "iopub.status.busy": "2021-03-04T10:12:17.440119Z",
     "iopub.status.idle": "2021-03-04T10:25:27.026431Z",
     "shell.execute_reply": "2021-03-04T10:25:27.026991Z"
    },
    "papermill": {
     "duration": 790.022308,
     "end_time": "2021-03-04T10:25:27.027213",
     "exception": false,
     "start_time": "2021-03-04T10:12:17.004905",
     "status": "completed"
    },
    "tags": []
   },
   "outputs": [
    {
     "name": "stdout",
     "output_type": "stream",
     "text": [
      "1  run\n",
      "2  run\n",
      "3  run\n",
      "4  run\n",
      "5  run\n"
     ]
    }
   ],
   "source": [
    "n = .1\n",
    "for i in range(iteration):\n",
    "    \n",
    "    X = dn.iloc[:,0:5].astype('float32')\n",
    "    y = dn['Class']\n",
    "\n",
    "    encoder = LabelEncoder()\n",
    "    encoder.fit(y)\n",
    "    y = encoder.transform(y)\n",
    "\n",
    "    X_train, X_test, y_train, y_test = train_test_split(X, y, test_size = n, random_state=0)\n",
    "\n",
    "    \n",
    "    #time start\n",
    "    start_time = time.time()\n",
    "        \n",
    "    model = GaussianProcessClassifier(multi_class='one_vs_one')\n",
    "    model.fit(X_train,y_train)\n",
    "    \n",
    "    #time end\n",
    "    end_time = time.time()\n",
    "\n",
    "    train_score = model.score(X_train,y_train)\n",
    "    test_score  = model.score(X_test,y_test)\n",
    "    \n",
    "    #time calculation \n",
    "    acc.iloc[i,2] = end_time - start_time\n",
    "    \n",
    "    #Accuracy\n",
    "    acc.iloc[i,0] = train_score*100\n",
    "    acc.iloc[i,1] = test_score*100\n",
    "    \n",
    "    #test size\n",
    "    acc.iloc[i,3] = n*100\n",
    "\n",
    "    if n == .1:\n",
    "        n = .2\n",
    "    else :\n",
    "        n = .1\n",
    "    print(i+1,\" run\")"
   ]
  },
  {
   "cell_type": "code",
   "execution_count": 15,
   "metadata": {
    "execution": {
     "iopub.execute_input": "2021-03-04T10:25:27.896922Z",
     "iopub.status.busy": "2021-03-04T10:25:27.896057Z",
     "iopub.status.idle": "2021-03-04T10:25:27.899940Z",
     "shell.execute_reply": "2021-03-04T10:25:27.899408Z"
    },
    "papermill": {
     "duration": 0.44701,
     "end_time": "2021-03-04T10:25:27.900100",
     "exception": false,
     "start_time": "2021-03-04T10:25:27.453090",
     "status": "completed"
    },
    "tags": []
   },
   "outputs": [
    {
     "data": {
      "text/html": [
       "<div>\n",
       "<style scoped>\n",
       "    .dataframe tbody tr th:only-of-type {\n",
       "        vertical-align: middle;\n",
       "    }\n",
       "\n",
       "    .dataframe tbody tr th {\n",
       "        vertical-align: top;\n",
       "    }\n",
       "\n",
       "    .dataframe thead th {\n",
       "        text-align: right;\n",
       "    }\n",
       "</style>\n",
       "<table border=\"1\" class=\"dataframe\">\n",
       "  <thead>\n",
       "    <tr style=\"text-align: right;\">\n",
       "      <th></th>\n",
       "      <th>train_Acc</th>\n",
       "      <th>test_Acc</th>\n",
       "      <th>time</th>\n",
       "      <th>test_size</th>\n",
       "    </tr>\n",
       "  </thead>\n",
       "  <tbody>\n",
       "    <tr>\n",
       "      <th>0</th>\n",
       "      <td>100.0</td>\n",
       "      <td>73.60</td>\n",
       "      <td>105.62</td>\n",
       "      <td>10.0</td>\n",
       "    </tr>\n",
       "    <tr>\n",
       "      <th>1</th>\n",
       "      <td>100.0</td>\n",
       "      <td>73.35</td>\n",
       "      <td>79.16</td>\n",
       "      <td>20.0</td>\n",
       "    </tr>\n",
       "    <tr>\n",
       "      <th>2</th>\n",
       "      <td>100.0</td>\n",
       "      <td>73.60</td>\n",
       "      <td>106.46</td>\n",
       "      <td>10.0</td>\n",
       "    </tr>\n",
       "    <tr>\n",
       "      <th>3</th>\n",
       "      <td>100.0</td>\n",
       "      <td>73.35</td>\n",
       "      <td>79.50</td>\n",
       "      <td>20.0</td>\n",
       "    </tr>\n",
       "    <tr>\n",
       "      <th>4</th>\n",
       "      <td>100.0</td>\n",
       "      <td>73.60</td>\n",
       "      <td>105.55</td>\n",
       "      <td>10.0</td>\n",
       "    </tr>\n",
       "  </tbody>\n",
       "</table>\n",
       "</div>"
      ],
      "text/plain": [
       "   train_Acc  test_Acc    time  test_size\n",
       "0      100.0     73.60  105.62       10.0\n",
       "1      100.0     73.35   79.16       20.0\n",
       "2      100.0     73.60  106.46       10.0\n",
       "3      100.0     73.35   79.50       20.0\n",
       "4      100.0     73.60  105.55       10.0"
      ]
     },
     "execution_count": 15,
     "metadata": {},
     "output_type": "execute_result"
    }
   ],
   "source": [
    "acc = acc.round(2)\n",
    "acc"
   ]
  },
  {
   "cell_type": "code",
   "execution_count": 16,
   "metadata": {
    "execution": {
     "iopub.execute_input": "2021-03-04T10:25:28.756292Z",
     "iopub.status.busy": "2021-03-04T10:25:28.755554Z",
     "iopub.status.idle": "2021-03-04T10:25:28.764695Z",
     "shell.execute_reply": "2021-03-04T10:25:28.764120Z"
    },
    "papermill": {
     "duration": 0.439009,
     "end_time": "2021-03-04T10:25:28.764860",
     "exception": false,
     "start_time": "2021-03-04T10:25:28.325851",
     "status": "completed"
    },
    "tags": []
   },
   "outputs": [
    {
     "data": {
      "text/plain": [
       "train_Acc    100.000\n",
       "test_Acc      73.500\n",
       "time          95.258\n",
       "test_size     14.000\n",
       "dtype: float64"
      ]
     },
     "execution_count": 16,
     "metadata": {},
     "output_type": "execute_result"
    }
   ],
   "source": [
    "GPCAcc = acc.mean()\n",
    "GPCAcc"
   ]
  },
  {
   "cell_type": "code",
   "execution_count": 17,
   "metadata": {
    "execution": {
     "iopub.execute_input": "2021-03-04T10:25:29.619987Z",
     "iopub.status.busy": "2021-03-04T10:25:29.619325Z",
     "iopub.status.idle": "2021-03-04T10:25:29.634398Z",
     "shell.execute_reply": "2021-03-04T10:25:29.634887Z"
    },
    "papermill": {
     "duration": 0.442725,
     "end_time": "2021-03-04T10:25:29.635079",
     "exception": false,
     "start_time": "2021-03-04T10:25:29.192354",
     "status": "completed"
    },
    "tags": []
   },
   "outputs": [
    {
     "data": {
      "text/html": [
       "<div>\n",
       "<style scoped>\n",
       "    .dataframe tbody tr th:only-of-type {\n",
       "        vertical-align: middle;\n",
       "    }\n",
       "\n",
       "    .dataframe tbody tr th {\n",
       "        vertical-align: top;\n",
       "    }\n",
       "\n",
       "    .dataframe thead th {\n",
       "        text-align: right;\n",
       "    }\n",
       "</style>\n",
       "<table border=\"1\" class=\"dataframe\">\n",
       "  <thead>\n",
       "    <tr style=\"text-align: right;\">\n",
       "      <th></th>\n",
       "      <th>Performance</th>\n",
       "      <th>ANN</th>\n",
       "      <th>SVM</th>\n",
       "      <th>KNN</th>\n",
       "      <th>GPC</th>\n",
       "    </tr>\n",
       "  </thead>\n",
       "  <tbody>\n",
       "    <tr>\n",
       "      <th>train_Acc</th>\n",
       "      <td>Avg Train Accuracy</td>\n",
       "      <td>99.814</td>\n",
       "      <td>77.854</td>\n",
       "      <td>87.066</td>\n",
       "      <td>100.000</td>\n",
       "    </tr>\n",
       "    <tr>\n",
       "      <th>test_Acc</th>\n",
       "      <td>Avg Test Accuracy</td>\n",
       "      <td>99.814</td>\n",
       "      <td>77.828</td>\n",
       "      <td>75.026</td>\n",
       "      <td>73.500</td>\n",
       "    </tr>\n",
       "    <tr>\n",
       "      <th>time</th>\n",
       "      <td>Avg Run Time</td>\n",
       "      <td>15.334</td>\n",
       "      <td>112.534</td>\n",
       "      <td>0.102</td>\n",
       "      <td>95.258</td>\n",
       "    </tr>\n",
       "    <tr>\n",
       "      <th>test_size</th>\n",
       "      <td>Avg Test size</td>\n",
       "      <td>14.000</td>\n",
       "      <td>14.000</td>\n",
       "      <td>14.000</td>\n",
       "      <td>14.000</td>\n",
       "    </tr>\n",
       "  </tbody>\n",
       "</table>\n",
       "</div>"
      ],
      "text/plain": [
       "                  Performance     ANN      SVM     KNN      GPC\n",
       "train_Acc  Avg Train Accuracy  99.814   77.854  87.066  100.000\n",
       "test_Acc    Avg Test Accuracy  99.814   77.828  75.026   73.500\n",
       "time             Avg Run Time  15.334  112.534   0.102   95.258\n",
       "test_size       Avg Test size  14.000   14.000  14.000   14.000"
      ]
     },
     "execution_count": 17,
     "metadata": {},
     "output_type": "execute_result"
    }
   ],
   "source": [
    "performance = {\n",
    "    \"Performance\" : ['Avg Train Accuracy','Avg Test Accuracy','Avg Run Time','Avg Test size'],\n",
    "    \"ANN\"         : ANNAcc,\n",
    "    \"SVM\"         : SVMAcc,\n",
    "    \"KNN\"         : KNNAcc,\n",
    "    \"GPC\"         : GPCAcc\n",
    "}\n",
    "Performance = pd.DataFrame(performance)\n",
    "Performance"
   ]
  },
  {
   "cell_type": "code",
   "execution_count": 18,
   "metadata": {
    "execution": {
     "iopub.execute_input": "2021-03-04T10:25:30.557406Z",
     "iopub.status.busy": "2021-03-04T10:25:30.556673Z",
     "iopub.status.idle": "2021-03-04T10:25:30.588384Z",
     "shell.execute_reply": "2021-03-04T10:25:30.587778Z"
    },
    "papermill": {
     "duration": 0.462146,
     "end_time": "2021-03-04T10:25:30.588564",
     "exception": false,
     "start_time": "2021-03-04T10:25:30.126418",
     "status": "completed"
    },
    "tags": []
   },
   "outputs": [
    {
     "name": "stdout",
     "output_type": "stream",
     "text": [
      "The Matrix is Consistent.\n"
     ]
    }
   ],
   "source": [
    "pm = np.array([1,3,5,1/3,1,3,1/5,1/3,1]).reshape(3,3) #consistancy matrix\n",
    "pm = pd.DataFrame(pm)\n",
    "\n",
    "\n",
    "for i in range(3):\n",
    "    pm.iloc[:,i]=pm.iloc[:,i]/pm.iloc[:,i].sum()\n",
    "\n",
    "pm['criteria_weight'] = pm.mean(axis=1)\n",
    "\n",
    "pmat = np.array([1,3,5,1/3,1,3,1/5,1/3,1]).reshape(3,3)#pd.read_csv('../input/pairwise/pairWiseMatrix.csv',index_col=0)\n",
    "pmat = pd.DataFrame(pmat)\n",
    "\n",
    "for i in range(3):\n",
    "    pmat.iloc[:,i] = pmat.iloc[:,i] * pm.iloc[i,3]\n",
    "\n",
    "pmat['weighted_sum_value'] = pmat.sum(axis=1)\n",
    "\n",
    "pmat['weighted_sum_value/criteria_weight'] = pmat['weighted_sum_value']/pm['criteria_weight']\n",
    "\n",
    "lamda = pmat['weighted_sum_value/criteria_weight'].mean()\n",
    "r = len(pm.index)\n",
    "CI = (lamda-r)/(r-1)\n",
    "k= pd.read_csv('../input/pairwise/RCI.csv')\n",
    "for i in range(15):\n",
    "    if i==r-1:\n",
    "        RI=k.iloc[i,1]\n",
    "\n",
    "CR=CI/RI\n",
    "\n",
    "if CR < 0.1:\n",
    "    print(\"The Matrix is Consistent.\")\n",
    "else:\n",
    "     print(\"The Matrix is In-Consistent.\")"
   ]
  },
  {
   "cell_type": "code",
   "execution_count": 19,
   "metadata": {
    "execution": {
     "iopub.execute_input": "2021-03-04T10:25:31.509017Z",
     "iopub.status.busy": "2021-03-04T10:25:31.508267Z",
     "iopub.status.idle": "2021-03-04T10:25:31.550613Z",
     "shell.execute_reply": "2021-03-04T10:25:31.549943Z"
    },
    "papermill": {
     "duration": 0.493344,
     "end_time": "2021-03-04T10:25:31.550770",
     "exception": false,
     "start_time": "2021-03-04T10:25:31.057426",
     "status": "completed"
    },
    "tags": []
   },
   "outputs": [
    {
     "data": {
      "text/html": [
       "<div>\n",
       "<style scoped>\n",
       "    .dataframe tbody tr th:only-of-type {\n",
       "        vertical-align: middle;\n",
       "    }\n",
       "\n",
       "    .dataframe tbody tr th {\n",
       "        vertical-align: top;\n",
       "    }\n",
       "\n",
       "    .dataframe thead th {\n",
       "        text-align: right;\n",
       "    }\n",
       "</style>\n",
       "<table border=\"1\" class=\"dataframe\">\n",
       "  <thead>\n",
       "    <tr style=\"text-align: right;\">\n",
       "      <th></th>\n",
       "      <th>train_Acc</th>\n",
       "      <th>test_Acc</th>\n",
       "      <th>time</th>\n",
       "      <th>p-w</th>\n",
       "    </tr>\n",
       "  </thead>\n",
       "  <tbody>\n",
       "    <tr>\n",
       "      <th>ANN</th>\n",
       "      <td>0.991601</td>\n",
       "      <td>1.000000</td>\n",
       "      <td>0.864523</td>\n",
       "      <td>0.968705</td>\n",
       "    </tr>\n",
       "    <tr>\n",
       "      <th>SVM</th>\n",
       "      <td>0.000000</td>\n",
       "      <td>0.164475</td>\n",
       "      <td>0.000000</td>\n",
       "      <td>0.049343</td>\n",
       "    </tr>\n",
       "    <tr>\n",
       "      <th>KNN</th>\n",
       "      <td>0.415967</td>\n",
       "      <td>0.057992</td>\n",
       "      <td>1.000000</td>\n",
       "      <td>0.425381</td>\n",
       "    </tr>\n",
       "    <tr>\n",
       "      <th>GPC</th>\n",
       "      <td>1.000000</td>\n",
       "      <td>0.000000</td>\n",
       "      <td>0.153657</td>\n",
       "      <td>0.530731</td>\n",
       "    </tr>\n",
       "  </tbody>\n",
       "</table>\n",
       "</div>"
      ],
      "text/plain": [
       "     train_Acc  test_Acc      time       p-w\n",
       "ANN   0.991601  1.000000  0.864523  0.968705\n",
       "SVM   0.000000  0.164475  0.000000  0.049343\n",
       "KNN   0.415967  0.057992  1.000000  0.425381\n",
       "GPC   1.000000  0.000000  0.153657  0.530731"
      ]
     },
     "execution_count": 19,
     "metadata": {},
     "output_type": "execute_result"
    }
   ],
   "source": [
    "p1 = Performance.iloc[0:3,1:5].T\n",
    "p2 = pd.DataFrame(columns = p1.columns)\n",
    "p2 = p2.T\n",
    "p2[\"max\"] = 0\n",
    "p2[\"min\"] = 0\n",
    "p2 = p2.T\n",
    "for i in range(len(p2.columns)):\n",
    "    p2.iloc[0,i] = p1.iloc[:,i].max()\n",
    "    p2.iloc[1,i] = p1.iloc[:,i].min()\n",
    "\n",
    "# max-min normalizer = 0\n",
    "# linear normalizer = 1\n",
    "normalizer = 0\n",
    "\n",
    "if normalizer == 0 :\n",
    "    for i in range(len(p1.columns)):\n",
    "        if i==2: #Non Beneficial\n",
    "            p1.iloc[:,i] = (p2.iloc[0,i]-p1.iloc[:,i])/(p2.iloc[0,i] - p2.iloc[1,i])\n",
    "\n",
    "        else: #Beneficial\n",
    "            p1.iloc[:,i] = (p1.iloc[:,i]-p2.iloc[1,i])/(p2.iloc[0,i] - p2.iloc[1,i])\n",
    "\n",
    "else:\n",
    "    for i in range(len(p1.columns)):\n",
    "        if i==2: #Non Beneficial\n",
    "            p1.iloc[:,i] = p2.iloc[1,i]/p1.iloc[:,i]\n",
    "\n",
    "        else: #Beneficial\n",
    "            p1.iloc[:,i] = p1.iloc[:,i]/ p2.iloc[0,i]\n",
    "\n",
    "#weight = np.array(pm[\"criteria_weight\"]).reshape(1,3)\n",
    "weight = np.array([0.5,0.3,0.2]).reshape(3,1)\n",
    "p1[\"p-w\"] = np.dot(p1,weight)\n",
    "p1"
   ]
  },
  {
   "cell_type": "code",
   "execution_count": 20,
   "metadata": {
    "execution": {
     "iopub.execute_input": "2021-03-04T10:25:32.435768Z",
     "iopub.status.busy": "2021-03-04T10:25:32.435000Z",
     "iopub.status.idle": "2021-03-04T10:25:32.438530Z",
     "shell.execute_reply": "2021-03-04T10:25:32.439190Z"
    },
    "papermill": {
     "duration": 0.452264,
     "end_time": "2021-03-04T10:25:32.439414",
     "exception": false,
     "start_time": "2021-03-04T10:25:31.987150",
     "status": "completed"
    },
    "tags": []
   },
   "outputs": [
    {
     "data": {
      "text/html": [
       "<div>\n",
       "<style scoped>\n",
       "    .dataframe tbody tr th:only-of-type {\n",
       "        vertical-align: middle;\n",
       "    }\n",
       "\n",
       "    .dataframe tbody tr th {\n",
       "        vertical-align: top;\n",
       "    }\n",
       "\n",
       "    .dataframe thead th {\n",
       "        text-align: right;\n",
       "    }\n",
       "</style>\n",
       "<table border=\"1\" class=\"dataframe\">\n",
       "  <thead>\n",
       "    <tr style=\"text-align: right;\">\n",
       "      <th></th>\n",
       "      <th>train_Acc</th>\n",
       "      <th>test_Acc</th>\n",
       "      <th>time</th>\n",
       "      <th>p-w</th>\n",
       "    </tr>\n",
       "  </thead>\n",
       "  <tbody>\n",
       "    <tr>\n",
       "      <th>ANN</th>\n",
       "      <td>0.99</td>\n",
       "      <td>1.00</td>\n",
       "      <td>0.86</td>\n",
       "      <td>0.97</td>\n",
       "    </tr>\n",
       "    <tr>\n",
       "      <th>SVM</th>\n",
       "      <td>0.00</td>\n",
       "      <td>0.16</td>\n",
       "      <td>0.00</td>\n",
       "      <td>0.05</td>\n",
       "    </tr>\n",
       "    <tr>\n",
       "      <th>KNN</th>\n",
       "      <td>0.42</td>\n",
       "      <td>0.06</td>\n",
       "      <td>1.00</td>\n",
       "      <td>0.43</td>\n",
       "    </tr>\n",
       "    <tr>\n",
       "      <th>GPC</th>\n",
       "      <td>1.00</td>\n",
       "      <td>0.00</td>\n",
       "      <td>0.15</td>\n",
       "      <td>0.53</td>\n",
       "    </tr>\n",
       "  </tbody>\n",
       "</table>\n",
       "</div>"
      ],
      "text/plain": [
       "     train_Acc  test_Acc  time   p-w\n",
       "ANN       0.99      1.00  0.86  0.97\n",
       "SVM       0.00      0.16  0.00  0.05\n",
       "KNN       0.42      0.06  1.00  0.43\n",
       "GPC       1.00      0.00  0.15  0.53"
      ]
     },
     "execution_count": 20,
     "metadata": {},
     "output_type": "execute_result"
    }
   ],
   "source": [
    "p1.round(2)"
   ]
  }
 ],
 "metadata": {
  "kernelspec": {
   "display_name": "Python 3",
   "language": "python",
   "name": "python3"
  },
  "language_info": {
   "codemirror_mode": {
    "name": "ipython",
    "version": 3
   },
   "file_extension": ".py",
   "mimetype": "text/x-python",
   "name": "python",
   "nbconvert_exporter": "python",
   "pygments_lexer": "ipython3",
   "version": "3.8.6"
  },
  "papermill": {
   "default_parameters": {},
   "duration": 2046.392671,
   "end_time": "2021-03-04T10:25:34.587968",
   "environment_variables": {},
   "exception": null,
   "input_path": "__notebook__.ipynb",
   "output_path": "__notebook__.ipynb",
   "parameters": {},
   "start_time": "2021-03-04T09:51:28.195297",
   "version": "2.2.2"
  }
 },
 "nbformat": 4,
 "nbformat_minor": 4
}
