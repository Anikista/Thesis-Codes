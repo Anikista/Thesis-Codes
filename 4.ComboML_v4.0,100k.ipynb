{
 "cells": [
  {
   "cell_type": "markdown",
   "metadata": {
    "papermill": {
     "duration": 0.024015,
     "end_time": "2021-03-05T19:51:24.040568",
     "exception": false,
     "start_time": "2021-03-05T19:51:24.016553",
     "status": "completed"
    },
    "tags": []
   },
   "source": [
    "# Importing Libraries"
   ]
  },
  {
   "cell_type": "code",
   "execution_count": 1,
   "metadata": {
    "execution": {
     "iopub.execute_input": "2021-03-05T19:51:24.095196Z",
     "iopub.status.busy": "2021-03-05T19:51:24.094491Z",
     "iopub.status.idle": "2021-03-05T19:51:32.659153Z",
     "shell.execute_reply": "2021-03-05T19:51:32.657782Z"
    },
    "papermill": {
     "duration": 8.59534,
     "end_time": "2021-03-05T19:51:32.659401",
     "exception": false,
     "start_time": "2021-03-05T19:51:24.064061",
     "status": "completed"
    },
    "tags": []
   },
   "outputs": [],
   "source": [
    "import pandas as pd\n",
    "import numpy as np\n",
    "import seaborn as sns\n",
    "\n",
    "import tensorflow as tf\n",
    "import keras\n",
    "from keras.utils import to_categorical\n",
    "from keras.models import Sequential\n",
    "from keras.optimizers import SGD\n",
    "from keras.layers import Dense\n",
    "\n",
    "from sklearn.svm import SVC\n",
    "from sklearn.gaussian_process import GaussianProcessClassifier\n",
    "from sklearn.neighbors import KNeighborsClassifier\n",
    "\n",
    "from sklearn.model_selection import cross_val_score\n",
    "from sklearn.model_selection import StratifiedKFold\n",
    "from sklearn.preprocessing import LabelEncoder\n",
    "from sklearn.model_selection import train_test_split\n",
    "from sklearn.preprocessing import StandardScaler\n",
    "import time"
   ]
  },
  {
   "cell_type": "markdown",
   "metadata": {
    "papermill": {
     "duration": 0.022655,
     "end_time": "2021-03-05T19:51:32.705655",
     "exception": false,
     "start_time": "2021-03-05T19:51:32.683000",
     "status": "completed"
    },
    "tags": []
   },
   "source": [
    "# Importing Data"
   ]
  },
  {
   "cell_type": "code",
   "execution_count": 2,
   "metadata": {
    "execution": {
     "iopub.execute_input": "2021-03-05T19:51:32.757894Z",
     "iopub.status.busy": "2021-03-05T19:51:32.757255Z",
     "iopub.status.idle": "2021-03-05T19:51:32.909203Z",
     "shell.execute_reply": "2021-03-05T19:51:32.909687Z"
    },
    "papermill": {
     "duration": 0.180558,
     "end_time": "2021-03-05T19:51:32.909875",
     "exception": false,
     "start_time": "2021-03-05T19:51:32.729317",
     "status": "completed"
    },
    "tags": []
   },
   "outputs": [],
   "source": [
    "data = pd.read_csv('../input/thesis/dumy100000.csv')"
   ]
  },
  {
   "cell_type": "markdown",
   "metadata": {
    "papermill": {
     "duration": 0.022706,
     "end_time": "2021-03-05T19:51:32.957338",
     "exception": false,
     "start_time": "2021-03-05T19:51:32.934632",
     "status": "completed"
    },
    "tags": []
   },
   "source": [
    "# MCDM"
   ]
  },
  {
   "cell_type": "markdown",
   "metadata": {
    "papermill": {
     "duration": 0.022757,
     "end_time": "2021-03-05T19:51:33.003225",
     "exception": false,
     "start_time": "2021-03-05T19:51:32.980468",
     "status": "completed"
    },
    "tags": []
   },
   "source": [
    "# AHP"
   ]
  },
  {
   "cell_type": "code",
   "execution_count": 3,
   "metadata": {
    "execution": {
     "iopub.execute_input": "2021-03-05T19:51:33.052910Z",
     "iopub.status.busy": "2021-03-05T19:51:33.052223Z",
     "iopub.status.idle": "2021-03-05T19:51:33.907774Z",
     "shell.execute_reply": "2021-03-05T19:51:33.908369Z"
    },
    "papermill": {
     "duration": 0.882359,
     "end_time": "2021-03-05T19:51:33.908566",
     "exception": false,
     "start_time": "2021-03-05T19:51:33.026207",
     "status": "completed"
    },
    "tags": []
   },
   "outputs": [
    {
     "name": "stdout",
     "output_type": "stream",
     "text": [
      "The Matrix is Consistent.\n",
      "13.65 % -> A: 13648\n",
      "24.95 % -> B: 24953\n",
      "61.4 % -> C: 61399\n",
      "Total:  100000\n"
     ]
    },
    {
     "data": {
      "text/html": [
       "<div>\n",
       "<style scoped>\n",
       "    .dataframe tbody tr th:only-of-type {\n",
       "        vertical-align: middle;\n",
       "    }\n",
       "\n",
       "    .dataframe tbody tr th {\n",
       "        vertical-align: top;\n",
       "    }\n",
       "\n",
       "    .dataframe thead th {\n",
       "        text-align: right;\n",
       "    }\n",
       "</style>\n",
       "<table border=\"1\" class=\"dataframe\">\n",
       "  <thead>\n",
       "    <tr style=\"text-align: right;\">\n",
       "      <th></th>\n",
       "      <th>mfg</th>\n",
       "      <th>sell</th>\n",
       "      <th>demand</th>\n",
       "      <th>fcost</th>\n",
       "      <th>rma</th>\n",
       "      <th>performance</th>\n",
       "      <th>RunCumCost</th>\n",
       "      <th>RunCostPerc</th>\n",
       "      <th>Rank</th>\n",
       "      <th>RunItemCum</th>\n",
       "      <th>RunItemPerc</th>\n",
       "      <th>Class</th>\n",
       "    </tr>\n",
       "  </thead>\n",
       "  <tbody>\n",
       "    <tr>\n",
       "      <th>0</th>\n",
       "      <td>71</td>\n",
       "      <td>156.91</td>\n",
       "      <td>1595</td>\n",
       "      <td>49.7</td>\n",
       "      <td>3</td>\n",
       "      <td>0.276224</td>\n",
       "      <td>1494.307675</td>\n",
       "      <td>2.985227</td>\n",
       "      <td>6658.0</td>\n",
       "      <td>2.216781e+07</td>\n",
       "      <td>0.443352</td>\n",
       "      <td>C</td>\n",
       "    </tr>\n",
       "    <tr>\n",
       "      <th>1</th>\n",
       "      <td>474</td>\n",
       "      <td>1047.54</td>\n",
       "      <td>6877</td>\n",
       "      <td>331.8</td>\n",
       "      <td>3</td>\n",
       "      <td>0.873845</td>\n",
       "      <td>49945.574810</td>\n",
       "      <td>99.777899</td>\n",
       "      <td>99874.0</td>\n",
       "      <td>4.987458e+09</td>\n",
       "      <td>99.748160</td>\n",
       "      <td>A</td>\n",
       "    </tr>\n",
       "    <tr>\n",
       "      <th>2</th>\n",
       "      <td>70</td>\n",
       "      <td>154.70</td>\n",
       "      <td>5182</td>\n",
       "      <td>49.0</td>\n",
       "      <td>3</td>\n",
       "      <td>0.471743</td>\n",
       "      <td>15481.763973</td>\n",
       "      <td>30.928423</td>\n",
       "      <td>42637.0</td>\n",
       "      <td>9.089782e+08</td>\n",
       "      <td>18.179382</td>\n",
       "      <td>C</td>\n",
       "    </tr>\n",
       "    <tr>\n",
       "      <th>3</th>\n",
       "      <td>417</td>\n",
       "      <td>921.57</td>\n",
       "      <td>3914</td>\n",
       "      <td>291.9</td>\n",
       "      <td>3</td>\n",
       "      <td>0.668061</td>\n",
       "      <td>40135.751226</td>\n",
       "      <td>80.180495</td>\n",
       "      <td>86488.0</td>\n",
       "      <td>3.740130e+09</td>\n",
       "      <td>74.801858</td>\n",
       "      <td>A</td>\n",
       "    </tr>\n",
       "    <tr>\n",
       "      <th>4</th>\n",
       "      <td>239</td>\n",
       "      <td>528.19</td>\n",
       "      <td>4496</td>\n",
       "      <td>167.3</td>\n",
       "      <td>2</td>\n",
       "      <td>0.486306</td>\n",
       "      <td>17225.943313</td>\n",
       "      <td>34.412827</td>\n",
       "      <td>46278.0</td>\n",
       "      <td>1.070850e+09</td>\n",
       "      <td>21.416781</td>\n",
       "      <td>C</td>\n",
       "    </tr>\n",
       "  </tbody>\n",
       "</table>\n",
       "</div>"
      ],
      "text/plain": [
       "   mfg     sell  demand  fcost  rma  performance    RunCumCost  RunCostPerc  \\\n",
       "0   71   156.91    1595   49.7    3     0.276224   1494.307675     2.985227   \n",
       "1  474  1047.54    6877  331.8    3     0.873845  49945.574810    99.777899   \n",
       "2   70   154.70    5182   49.0    3     0.471743  15481.763973    30.928423   \n",
       "3  417   921.57    3914  291.9    3     0.668061  40135.751226    80.180495   \n",
       "4  239   528.19    4496  167.3    2     0.486306  17225.943313    34.412827   \n",
       "\n",
       "      Rank    RunItemCum  RunItemPerc Class  \n",
       "0   6658.0  2.216781e+07     0.443352     C  \n",
       "1  99874.0  4.987458e+09    99.748160     A  \n",
       "2  42637.0  9.089782e+08    18.179382     C  \n",
       "3  86488.0  3.740130e+09    74.801858     A  \n",
       "4  46278.0  1.070850e+09    21.416781     C  "
      ]
     },
     "execution_count": 3,
     "metadata": {},
     "output_type": "execute_result"
    },
    {
     "data": {
      "image/png": "[encoded data removed]",
      "text/plain": [
       "<Figure size 432x288 with 1 Axes>"
      ]
     },
     "metadata": {
      "needs_background": "light"
     },
     "output_type": "display_data"
    }
   ],
   "source": [
    "d_m = pd.read_csv('../input/pairwise/pairWiseMatrix.csv',index_col=0)\n",
    "\n",
    "for i in range(5):\n",
    "    d_m.iloc[:,i]=d_m.iloc[:,i]/d_m.iloc[:,i].sum()\n",
    "\n",
    "d_m['criteria_weight'] = d_m.mean(axis=1)\n",
    "\n",
    "dmat = pd.read_csv('../input/pairwise/pairWiseMatrix.csv',index_col=0)\n",
    "\n",
    "for i in range(5):\n",
    "    dmat.iloc[:,i] = dmat.iloc[:,i] * d_m.iloc[i,5]\n",
    "\n",
    "dmat['weighted_sum_value'] = dmat.sum(axis=1)\n",
    "\n",
    "dmat['weighted_sum_value/criteria_weight'] = dmat['weighted_sum_value']/d_m['criteria_weight']\n",
    "\n",
    "lamda = dmat['weighted_sum_value/criteria_weight'].mean()\n",
    "r = len(d_m.index)\n",
    "CI = (lamda-r)/(r-1)\n",
    "k= pd.read_csv('../input/pairwise/RCI.csv')\n",
    "for i in range(15):\n",
    "    if i==r-1:\n",
    "        RI=k.iloc[i,1]\n",
    "\n",
    "CR=CI/RI\n",
    "\n",
    "if CR < 0.1:\n",
    "    print(\"The Matrix is Consistent.\")\n",
    "else:\n",
    "     print(\"The Matrix is In-Consistent.\")\n",
    "\n",
    "dn = 0\n",
    "dn = data.copy()\n",
    "del dn['Unnamed: 0']\n",
    "d1 = dn.copy()\n",
    "\n",
    "d2 = pd.DataFrame(columns = d1.columns)\n",
    "d2 = d2.T\n",
    "d2[\"max\"] = 0\n",
    "d2[\"min\"] = 0\n",
    "d2 = d2.T\n",
    "\n",
    "for i in range(len(d2.columns)):\n",
    "    d2.iloc[0,i] = d1.iloc[:,i].max()\n",
    "    d2.iloc[1,i] = d1.iloc[:,i].min()\n",
    "\n",
    "# max-min normalizer = 0\n",
    "# linear normalizer = 1\n",
    "normalizer = 0\n",
    "\n",
    "if normalizer == 0 :\n",
    "    for i in range(len(d1.columns)):\n",
    "        if i==0 or i==3: #Non Beneficial\n",
    "            d1.iloc[:,i] = (d2.iloc[0,i]-d1.iloc[:,i])/(d2.iloc[0,i] - d2.iloc[1,i])\n",
    "\n",
    "        else: #Beneficial\n",
    "            d1.iloc[:,i] = (d1.iloc[:,i]-d2.iloc[1,i])/(d2.iloc[0,i] - d2.iloc[1,i])\n",
    "\n",
    "else:\n",
    "    for i in range(len(d1.columns)):\n",
    "        if i==0 or i==3: #Non Beneficial\n",
    "            d1.iloc[:,i] = d2.iloc[1,i]/d1.iloc[:,i]\n",
    "\n",
    "        else: #Beneficial\n",
    "            d1.iloc[:,i] = d1.iloc[:,i]/ d2.iloc[0,i]\n",
    "\n",
    "w = np.array(d_m[\"criteria_weight\"]).reshape(1,5)\n",
    "d1 = d1*w\n",
    "\n",
    "d1['performance'] = d1.iloc[:].sum(axis=1)\n",
    "\n",
    "dn['performance'] = d1['performance']\n",
    "dn = dn.sort_values(by=['performance'], ascending=True)\n",
    "\n",
    "dn['RunCumCost']   = dn['performance'].cumsum()\n",
    "TotSum             = dn['performance'].sum()\n",
    "dn['RunCostPerc']  = (dn['RunCumCost']/TotSum)*100\n",
    "\n",
    "dn['Rank']         = dn['RunCostPerc'].rank()\n",
    "dn['RunItemCum']   = dn['Rank'].cumsum()\n",
    "TotItemSum         = dn['Rank'].sum()\n",
    "dn['RunItemPerc']  = (dn['RunItemCum']/TotItemSum)*100\n",
    "\n",
    "def ABC_segmentation(perc):\n",
    "    '''\n",
    "    top A - top 20%, C - last 50% and B - between A & C\n",
    "    \n",
    "    '''\n",
    "    if perc > 80 :\n",
    "        return 'A'\n",
    "    elif perc >= 50 and perc <= 80:\n",
    "        return 'B'\n",
    "    elif perc < 50:\n",
    "        return 'C'\n",
    "\n",
    "dn['Class'] = dn['RunCostPerc'].apply(ABC_segmentation)\n",
    "\n",
    "ax = sns.countplot(x = dn['Class'],data = dn,label= 'Count')\n",
    "dn['Class'].value_counts()\n",
    "\n",
    "dn['productid'] = dn.index\n",
    "dn = dn.sort_values(by=['productid'], ascending=True)\n",
    "del dn['productid']\n",
    "AHP_Class = dn['Class']\n",
    "\n",
    "C,B,A = dn['Class'].value_counts()\n",
    "print(round(100*A/dn['Class'].value_counts().sum(),2),\"% ->\",\"A:\",A)\n",
    "print(round(100*B/dn['Class'].value_counts().sum(),2),\"% ->\",\"B:\",B)\n",
    "print(round(100*C/dn['Class'].value_counts().sum(),2),\"% ->\",\"C:\",C)\n",
    "print(\"Total: \",dn['Class'].value_counts().sum())\n",
    "dn.head()"
   ]
  },
  {
   "cell_type": "markdown",
   "metadata": {
    "papermill": {
     "duration": 0.024834,
     "end_time": "2021-03-05T19:51:33.959699",
     "exception": false,
     "start_time": "2021-03-05T19:51:33.934865",
     "status": "completed"
    },
    "tags": []
   },
   "source": [
    "# SAW"
   ]
  },
  {
   "cell_type": "code",
   "execution_count": 4,
   "metadata": {
    "execution": {
     "iopub.execute_input": "2021-03-05T19:51:34.033681Z",
     "iopub.status.busy": "2021-03-05T19:51:34.032966Z",
     "iopub.status.idle": "2021-03-05T19:51:34.640285Z",
     "shell.execute_reply": "2021-03-05T19:51:34.639664Z"
    },
    "papermill": {
     "duration": 0.655174,
     "end_time": "2021-03-05T19:51:34.640446",
     "exception": false,
     "start_time": "2021-03-05T19:51:33.985272",
     "status": "completed"
    },
    "tags": []
   },
   "outputs": [
    {
     "name": "stdout",
     "output_type": "stream",
     "text": [
      "14.43 % -> A: 14431\n",
      "25.85 % -> B: 25850\n",
      "59.72 % -> C: 59719\n",
      "Total:  100000\n"
     ]
    },
    {
     "data": {
      "text/html": [
       "<div>\n",
       "<style scoped>\n",
       "    .dataframe tbody tr th:only-of-type {\n",
       "        vertical-align: middle;\n",
       "    }\n",
       "\n",
       "    .dataframe tbody tr th {\n",
       "        vertical-align: top;\n",
       "    }\n",
       "\n",
       "    .dataframe thead th {\n",
       "        text-align: right;\n",
       "    }\n",
       "</style>\n",
       "<table border=\"1\" class=\"dataframe\">\n",
       "  <thead>\n",
       "    <tr style=\"text-align: right;\">\n",
       "      <th></th>\n",
       "      <th>mfg</th>\n",
       "      <th>sell</th>\n",
       "      <th>demand</th>\n",
       "      <th>fcost</th>\n",
       "      <th>rma</th>\n",
       "      <th>performance</th>\n",
       "      <th>RunCumCost</th>\n",
       "      <th>RunCostPerc</th>\n",
       "      <th>Class</th>\n",
       "    </tr>\n",
       "  </thead>\n",
       "  <tbody>\n",
       "    <tr>\n",
       "      <th>0</th>\n",
       "      <td>71</td>\n",
       "      <td>156.91</td>\n",
       "      <td>1595</td>\n",
       "      <td>49.7</td>\n",
       "      <td>3</td>\n",
       "      <td>0.500506</td>\n",
       "      <td>20035.145963</td>\n",
       "      <td>40.033583</td>\n",
       "      <td>C</td>\n",
       "    </tr>\n",
       "    <tr>\n",
       "      <th>1</th>\n",
       "      <td>474</td>\n",
       "      <td>1047.54</td>\n",
       "      <td>6877</td>\n",
       "      <td>331.8</td>\n",
       "      <td>3</td>\n",
       "      <td>0.698912</td>\n",
       "      <td>45792.067588</td>\n",
       "      <td>91.500235</td>\n",
       "      <td>A</td>\n",
       "    </tr>\n",
       "    <tr>\n",
       "      <th>2</th>\n",
       "      <td>70</td>\n",
       "      <td>154.70</td>\n",
       "      <td>5182</td>\n",
       "      <td>49.0</td>\n",
       "      <td>3</td>\n",
       "      <td>0.696419</td>\n",
       "      <td>45583.448850</td>\n",
       "      <td>91.083379</td>\n",
       "      <td>A</td>\n",
       "    </tr>\n",
       "    <tr>\n",
       "      <th>3</th>\n",
       "      <td>417</td>\n",
       "      <td>921.57</td>\n",
       "      <td>3914</td>\n",
       "      <td>291.9</td>\n",
       "      <td>3</td>\n",
       "      <td>0.549959</td>\n",
       "      <td>27976.109958</td>\n",
       "      <td>55.900962</td>\n",
       "      <td>B</td>\n",
       "    </tr>\n",
       "    <tr>\n",
       "      <th>4</th>\n",
       "      <td>239</td>\n",
       "      <td>528.19</td>\n",
       "      <td>4496</td>\n",
       "      <td>167.3</td>\n",
       "      <td>2</td>\n",
       "      <td>0.521354</td>\n",
       "      <td>23532.483611</td>\n",
       "      <td>47.021851</td>\n",
       "      <td>C</td>\n",
       "    </tr>\n",
       "  </tbody>\n",
       "</table>\n",
       "</div>"
      ],
      "text/plain": [
       "   mfg     sell  demand  fcost  rma  performance    RunCumCost  RunCostPerc  \\\n",
       "0   71   156.91    1595   49.7    3     0.500506  20035.145963    40.033583   \n",
       "1  474  1047.54    6877  331.8    3     0.698912  45792.067588    91.500235   \n",
       "2   70   154.70    5182   49.0    3     0.696419  45583.448850    91.083379   \n",
       "3  417   921.57    3914  291.9    3     0.549959  27976.109958    55.900962   \n",
       "4  239   528.19    4496  167.3    2     0.521354  23532.483611    47.021851   \n",
       "\n",
       "  Class  \n",
       "0     C  \n",
       "1     A  \n",
       "2     A  \n",
       "3     B  \n",
       "4     C  "
      ]
     },
     "execution_count": 4,
     "metadata": {},
     "output_type": "execute_result"
    },
    {
     "data": {
      "image/png": "[encoded data removed]",
      "text/plain": [
       "<Figure size 432x288 with 1 Axes>"
      ]
     },
     "metadata": {
      "needs_background": "light"
     },
     "output_type": "display_data"
    }
   ],
   "source": [
    "dn = 0\n",
    "dn = data.copy()\n",
    "del dn['Unnamed: 0']\n",
    "d1 = dn.copy()\n",
    "\n",
    "d2 = pd.DataFrame(columns = d1.columns)\n",
    "d2 = d2.T\n",
    "d2[\"max\"] = 0\n",
    "d2[\"min\"] = 0\n",
    "d2 = d2.T\n",
    "\n",
    "for i in range(len(d2.columns)):\n",
    "    d2.iloc[0,i] = d1.iloc[:,i].max()\n",
    "    d2.iloc[1,i] = d1.iloc[:,i].min()\n",
    "\n",
    "# max-min normalizer = 0\n",
    "# linear normalizer = 1\n",
    "normalizer = 0\n",
    "\n",
    "if normalizer == 0 :\n",
    "    for i in range(len(d1.columns)):\n",
    "        if i==0 or i==3: #Non Beneficial\n",
    "            d1.iloc[:,i] = (d2.iloc[0,i]-d1.iloc[:,i])/(d2.iloc[0,i] - d2.iloc[1,i])\n",
    "\n",
    "        else: #Beneficial\n",
    "            d1.iloc[:,i] = (d1.iloc[:,i]-d2.iloc[1,i])/(d2.iloc[0,i] - d2.iloc[1,i])\n",
    "\n",
    "else:\n",
    "    for i in range(len(d1.columns)):\n",
    "        if i==0 or i==3: #Non Beneficial\n",
    "            d1.iloc[:,i] = d2.iloc[1,i]/d1.iloc[:,i]\n",
    "\n",
    "        else: #Beneficial\n",
    "            d1.iloc[:,i] = d1.iloc[:,i]/ d2.iloc[0,i]\n",
    "\n",
    "w  = [0.15, 0.20, 0.30, 0.15, 0.20]\n",
    "d1 = d1*w\n",
    "\n",
    "d1['performance'] = d1.iloc[:].sum(axis=1)\n",
    "\n",
    "dn['performance'] = d1['performance']\n",
    "dn = dn.sort_values(by=['performance'], ascending=True)\n",
    "\n",
    "dn['RunCumCost']   = dn['performance'].cumsum()\n",
    "TotSum             = dn['performance'].sum()\n",
    "dn['RunCostPerc']  = (dn['RunCumCost']/TotSum)*100\n",
    "\n",
    "def ABC_segmentation(perc):\n",
    "    '''\n",
    "    top A - top 20%, C - last 50% and B - between A & C\n",
    "    \n",
    "    '''\n",
    "    if perc > 80 :\n",
    "        return 'A'\n",
    "    elif perc >= 50 and perc <= 80:\n",
    "        return 'B'\n",
    "    elif perc < 50:\n",
    "        return 'C'\n",
    "\n",
    "dn['Class'] = dn['RunCostPerc'].apply(ABC_segmentation)\n",
    "\n",
    "ax = sns.countplot(x = dn['Class'],data = dn,label= 'Count')\n",
    "dn['Class'].value_counts()\n",
    "\n",
    "dn['productid'] = dn.index\n",
    "dn = dn.sort_values(by=['productid'], ascending=True)\n",
    "del dn['productid']\n",
    "\n",
    "SAW_Class = dn['Class']\n",
    "\n",
    "C,B,A = dn['Class'].value_counts()\n",
    "print(round(100*A/dn['Class'].value_counts().sum(),2),\"% ->\",\"A:\",A)\n",
    "print(round(100*B/dn['Class'].value_counts().sum(),2),\"% ->\",\"B:\",B)\n",
    "print(round(100*C/dn['Class'].value_counts().sum(),2),\"% ->\",\"C:\",C)\n",
    "print(\"Total: \",dn['Class'].value_counts().sum())\n",
    "dn.head()"
   ]
  },
  {
   "cell_type": "code",
   "execution_count": null,
   "metadata": {
    "papermill": {
     "duration": 0.026889,
     "end_time": "2021-03-05T19:51:34.694508",
     "exception": false,
     "start_time": "2021-03-05T19:51:34.667619",
     "status": "completed"
    },
    "tags": []
   },
   "outputs": [],
   "source": []
  },
  {
   "cell_type": "markdown",
   "metadata": {
    "papermill": {
     "duration": 0.034526,
     "end_time": "2021-03-05T19:51:34.756186",
     "exception": false,
     "start_time": "2021-03-05T19:51:34.721660",
     "status": "completed"
    },
    "tags": []
   },
   "source": [
    "# VIKOR"
   ]
  },
  {
   "cell_type": "code",
   "execution_count": 5,
   "metadata": {
    "execution": {
     "iopub.execute_input": "2021-03-05T19:51:34.838005Z",
     "iopub.status.busy": "2021-03-05T19:51:34.837224Z",
     "iopub.status.idle": "2021-03-05T19:51:38.573964Z",
     "shell.execute_reply": "2021-03-05T19:51:38.573374Z"
    },
    "papermill": {
     "duration": 3.790505,
     "end_time": "2021-03-05T19:51:38.574108",
     "exception": false,
     "start_time": "2021-03-05T19:51:34.783603",
     "status": "completed"
    },
    "tags": []
   },
   "outputs": [
    {
     "name": "stdout",
     "output_type": "stream",
     "text": [
      "10.56 % -> A: 10558\n",
      "18.73 % -> B: 18732\n",
      "70.71 % -> C: 70710\n",
      "Total:  100000\n"
     ]
    },
    {
     "data": {
      "text/html": [
       "<div>\n",
       "<style scoped>\n",
       "    .dataframe tbody tr th:only-of-type {\n",
       "        vertical-align: middle;\n",
       "    }\n",
       "\n",
       "    .dataframe tbody tr th {\n",
       "        vertical-align: top;\n",
       "    }\n",
       "\n",
       "    .dataframe thead th {\n",
       "        text-align: right;\n",
       "    }\n",
       "</style>\n",
       "<table border=\"1\" class=\"dataframe\">\n",
       "  <thead>\n",
       "    <tr style=\"text-align: right;\">\n",
       "      <th></th>\n",
       "      <th>mfg</th>\n",
       "      <th>sell</th>\n",
       "      <th>demand</th>\n",
       "      <th>fcost</th>\n",
       "      <th>rma</th>\n",
       "      <th>qi</th>\n",
       "      <th>RunCumCost</th>\n",
       "      <th>RunCostPerc</th>\n",
       "      <th>Rank</th>\n",
       "      <th>RunItemCum</th>\n",
       "      <th>RunItemPerc</th>\n",
       "      <th>Class</th>\n",
       "    </tr>\n",
       "  </thead>\n",
       "  <tbody>\n",
       "    <tr>\n",
       "      <th>0</th>\n",
       "      <td>71</td>\n",
       "      <td>156.91</td>\n",
       "      <td>1595</td>\n",
       "      <td>49.7</td>\n",
       "      <td>3</td>\n",
       "      <td>0.383965</td>\n",
       "      <td>36257.514659</td>\n",
       "      <td>76.779078</td>\n",
       "      <td>59291.0</td>\n",
       "      <td>1.757741e+09</td>\n",
       "      <td>35.154468</td>\n",
       "      <td>C</td>\n",
       "    </tr>\n",
       "    <tr>\n",
       "      <th>1</th>\n",
       "      <td>474</td>\n",
       "      <td>1047.54</td>\n",
       "      <td>6877</td>\n",
       "      <td>331.8</td>\n",
       "      <td>3</td>\n",
       "      <td>0.901189</td>\n",
       "      <td>1962.408386</td>\n",
       "      <td>4.155605</td>\n",
       "      <td>2101.0</td>\n",
       "      <td>2.208151e+06</td>\n",
       "      <td>0.044163</td>\n",
       "      <td>C</td>\n",
       "    </tr>\n",
       "    <tr>\n",
       "      <th>2</th>\n",
       "      <td>70</td>\n",
       "      <td>154.70</td>\n",
       "      <td>5182</td>\n",
       "      <td>49.0</td>\n",
       "      <td>3</td>\n",
       "      <td>0.683190</td>\n",
       "      <td>16176.765170</td>\n",
       "      <td>34.255992</td>\n",
       "      <td>20391.0</td>\n",
       "      <td>2.079066e+08</td>\n",
       "      <td>4.158091</td>\n",
       "      <td>C</td>\n",
       "    </tr>\n",
       "    <tr>\n",
       "      <th>3</th>\n",
       "      <td>417</td>\n",
       "      <td>921.57</td>\n",
       "      <td>3914</td>\n",
       "      <td>291.9</td>\n",
       "      <td>3</td>\n",
       "      <td>0.473220</td>\n",
       "      <td>29837.401955</td>\n",
       "      <td>63.183818</td>\n",
       "      <td>44227.0</td>\n",
       "      <td>9.780359e+08</td>\n",
       "      <td>19.560522</td>\n",
       "      <td>C</td>\n",
       "    </tr>\n",
       "    <tr>\n",
       "      <th>4</th>\n",
       "      <td>239</td>\n",
       "      <td>528.19</td>\n",
       "      <td>4496</td>\n",
       "      <td>167.3</td>\n",
       "      <td>2</td>\n",
       "      <td>0.449204</td>\n",
       "      <td>31487.105629</td>\n",
       "      <td>66.677238</td>\n",
       "      <td>47806.0</td>\n",
       "      <td>1.142731e+09</td>\n",
       "      <td>22.854386</td>\n",
       "      <td>C</td>\n",
       "    </tr>\n",
       "  </tbody>\n",
       "</table>\n",
       "</div>"
      ],
      "text/plain": [
       "   mfg     sell  demand  fcost  rma        qi    RunCumCost  RunCostPerc  \\\n",
       "0   71   156.91    1595   49.7    3  0.383965  36257.514659    76.779078   \n",
       "1  474  1047.54    6877  331.8    3  0.901189   1962.408386     4.155605   \n",
       "2   70   154.70    5182   49.0    3  0.683190  16176.765170    34.255992   \n",
       "3  417   921.57    3914  291.9    3  0.473220  29837.401955    63.183818   \n",
       "4  239   528.19    4496  167.3    2  0.449204  31487.105629    66.677238   \n",
       "\n",
       "      Rank    RunItemCum  RunItemPerc Class  \n",
       "0  59291.0  1.757741e+09    35.154468     C  \n",
       "1   2101.0  2.208151e+06     0.044163     C  \n",
       "2  20391.0  2.079066e+08     4.158091     C  \n",
       "3  44227.0  9.780359e+08    19.560522     C  \n",
       "4  47806.0  1.142731e+09    22.854386     C  "
      ]
     },
     "execution_count": 5,
     "metadata": {},
     "output_type": "execute_result"
    },
    {
     "data": {
      "image/png": "[encoded data removed]",
      "text/plain": [
       "<Figure size 432x288 with 1 Axes>"
      ]
     },
     "metadata": {
      "needs_background": "light"
     },
     "output_type": "display_data"
    }
   ],
   "source": [
    "dn = 0\n",
    "dn = data.copy() #pd.read_csv('file:///home/shatiil/shatiil/DataScience/Thesis/1.DATA/dumy10000.csv')\n",
    "del dn['Unnamed: 0']\n",
    "d1 = dn.copy()\n",
    "\n",
    "d2 = pd.DataFrame(columns = d1.columns)\n",
    "d2 = d2.T\n",
    "d2[\"max\"] = 0\n",
    "d2[\"min\"] = 0\n",
    "d2 = d2.T\n",
    "\n",
    "for i in range(len(d2.columns)):\n",
    "    d2.iloc[0,i] = d1.iloc[:,i].max()\n",
    "    d2.iloc[1,i] = d1.iloc[:,i].min()\n",
    "\n",
    "# max-min normalizer = 0\n",
    "# linear normalizer = 1\n",
    "normalizer = 0\n",
    "\n",
    "if normalizer == 0 :\n",
    "    for i in range(len(d1.columns)):\n",
    "        if i==0 or i==3: #Non Beneficial\n",
    "            d1.iloc[:,i] = (d2.iloc[0,i]-d1.iloc[:,i])/(d2.iloc[0,i] - d2.iloc[1,i])\n",
    "\n",
    "        else: #Beneficial\n",
    "            d1.iloc[:,i] = (d1.iloc[:,i]-d2.iloc[1,i])/(d2.iloc[0,i] - d2.iloc[1,i])\n",
    "\n",
    "else:\n",
    "    for i in range(len(d1.columns)):\n",
    "        if i==0 or i==3: #Non Beneficial\n",
    "            d1.iloc[:,i] = d2.iloc[1,i]/d1.iloc[:,i]\n",
    "\n",
    "        else: #Beneficial\n",
    "            d1.iloc[:,i] = d1.iloc[:,i]/ d2.iloc[0,i]\n",
    "\n",
    "w  = [0.15, 0.20, 0.30, 0.15, 0.20]\n",
    "d1 = d1*w\n",
    "\n",
    "d1['si'] = d1.iloc[:].sum(axis=1)\n",
    "\n",
    "d1['ri'] = d1.iloc[:,0:-2].max(axis=1)\n",
    "\n",
    "s_best  = d1['si'].min()\n",
    "s_worst = d1['si'].max()\n",
    "r_best  = d1['ri'].min()\n",
    "r_worst = d1['ri'].max()\n",
    "neu = 0.5\n",
    "\n",
    "d1['qi'] = d1.apply(lambda row: neu*((row.si-s_best)/(s_worst-s_best))+(1-neu)*((row.ri-r_best)/(r_worst-r_best)) , axis =1 )\n",
    "\n",
    "dn['qi'] = d1['qi']\n",
    "\n",
    "dn = dn.sort_values(by=['qi'], ascending=False)\n",
    "\n",
    "dn['RunCumCost']   = dn['qi'].cumsum()\n",
    "TotSum             = dn['qi'].sum()\n",
    "dn['RunCostPerc']  = (dn['RunCumCost']/TotSum)*100\n",
    "\n",
    "dn['Rank']         = dn['RunCostPerc'].rank()\n",
    "dn['RunItemCum']   = dn['Rank'].cumsum()\n",
    "TotItemSum         = dn['Rank'].sum()\n",
    "dn['RunItemPerc']  = (dn['RunItemCum']/TotItemSum)*100\n",
    "\n",
    "def ABC_segmentation(perc):\n",
    "    '''\n",
    "    top A - top 20%, C - last 50% and B - between A & C\n",
    "    \n",
    "    '''\n",
    "    if perc > 80 :\n",
    "        return 'A'\n",
    "    elif perc >= 50 and perc <= 80:\n",
    "        return 'B'\n",
    "    elif perc < 50:\n",
    "        return 'C'\n",
    "\n",
    "dn['Class'] = dn['RunItemPerc'].apply(ABC_segmentation)\n",
    "\n",
    "ax = sns.countplot(x = dn['Class'],data = dn,label= 'Count')\n",
    "dn['Class'].value_counts()\n",
    "\n",
    "dn['productid'] = dn.index\n",
    "dn = dn.sort_values(by=['productid'], ascending=True)\n",
    "del dn['productid']\n",
    "VIKOR_Class = dn['Class']\n",
    "\n",
    "C,B,A = dn['Class'].value_counts()\n",
    "print(round(100*A/dn['Class'].value_counts().sum(),2),\"% ->\",\"A:\",A)\n",
    "print(round(100*B/dn['Class'].value_counts().sum(),2),\"% ->\",\"B:\",B)\n",
    "print(round(100*C/dn['Class'].value_counts().sum(),2),\"% ->\",\"C:\",C)\n",
    "print(\"Total: \",dn['Class'].value_counts().sum())\n",
    "dn.head()"
   ]
  },
  {
   "cell_type": "code",
   "execution_count": null,
   "metadata": {
    "papermill": {
     "duration": 0.028879,
     "end_time": "2021-03-05T19:51:38.643405",
     "exception": false,
     "start_time": "2021-03-05T19:51:38.614526",
     "status": "completed"
    },
    "tags": []
   },
   "outputs": [],
   "source": []
  },
  {
   "cell_type": "markdown",
   "metadata": {
    "papermill": {
     "duration": 0.028634,
     "end_time": "2021-03-05T19:51:38.701010",
     "exception": false,
     "start_time": "2021-03-05T19:51:38.672376",
     "status": "completed"
    },
    "tags": []
   },
   "source": [
    "# COMBO"
   ]
  },
  {
   "cell_type": "code",
   "execution_count": 6,
   "metadata": {
    "execution": {
     "iopub.execute_input": "2021-03-05T19:51:38.765507Z",
     "iopub.status.busy": "2021-03-05T19:51:38.764762Z",
     "iopub.status.idle": "2021-03-05T19:51:38.777628Z",
     "shell.execute_reply": "2021-03-05T19:51:38.776892Z"
    },
    "papermill": {
     "duration": 0.047865,
     "end_time": "2021-03-05T19:51:38.777773",
     "exception": false,
     "start_time": "2021-03-05T19:51:38.729908",
     "status": "completed"
    },
    "tags": []
   },
   "outputs": [
    {
     "data": {
      "text/html": [
       "<div>\n",
       "<style scoped>\n",
       "    .dataframe tbody tr th:only-of-type {\n",
       "        vertical-align: middle;\n",
       "    }\n",
       "\n",
       "    .dataframe tbody tr th {\n",
       "        vertical-align: top;\n",
       "    }\n",
       "\n",
       "    .dataframe thead th {\n",
       "        text-align: right;\n",
       "    }\n",
       "</style>\n",
       "<table border=\"1\" class=\"dataframe\">\n",
       "  <thead>\n",
       "    <tr style=\"text-align: right;\">\n",
       "      <th></th>\n",
       "      <th>AHP_Class</th>\n",
       "      <th>SAW_Class</th>\n",
       "      <th>VIKOR_Class</th>\n",
       "    </tr>\n",
       "  </thead>\n",
       "  <tbody>\n",
       "    <tr>\n",
       "      <th>0</th>\n",
       "      <td>C</td>\n",
       "      <td>C</td>\n",
       "      <td>C</td>\n",
       "    </tr>\n",
       "    <tr>\n",
       "      <th>1</th>\n",
       "      <td>A</td>\n",
       "      <td>A</td>\n",
       "      <td>C</td>\n",
       "    </tr>\n",
       "    <tr>\n",
       "      <th>2</th>\n",
       "      <td>C</td>\n",
       "      <td>A</td>\n",
       "      <td>C</td>\n",
       "    </tr>\n",
       "    <tr>\n",
       "      <th>3</th>\n",
       "      <td>A</td>\n",
       "      <td>B</td>\n",
       "      <td>C</td>\n",
       "    </tr>\n",
       "    <tr>\n",
       "      <th>4</th>\n",
       "      <td>C</td>\n",
       "      <td>C</td>\n",
       "      <td>C</td>\n",
       "    </tr>\n",
       "  </tbody>\n",
       "</table>\n",
       "</div>"
      ],
      "text/plain": [
       "  AHP_Class SAW_Class VIKOR_Class\n",
       "0         C         C           C\n",
       "1         A         A           C\n",
       "2         C         A           C\n",
       "3         A         B           C\n",
       "4         C         C           C"
      ]
     },
     "execution_count": 6,
     "metadata": {},
     "output_type": "execute_result"
    }
   ],
   "source": [
    "Data = {\n",
    "        \"AHP_Class\"   : AHP_Class, \n",
    "        \"SAW_Class\"   : SAW_Class, \n",
    "        \"VIKOR_Class\" : VIKOR_Class\n",
    "       }\n",
    "combo = pd.DataFrame(Data)\n",
    "combo.head()"
   ]
  },
  {
   "cell_type": "code",
   "execution_count": 7,
   "metadata": {
    "execution": {
     "iopub.execute_input": "2021-03-05T19:51:38.840757Z",
     "iopub.status.busy": "2021-03-05T19:51:38.840051Z",
     "iopub.status.idle": "2021-03-05T19:54:16.805905Z",
     "shell.execute_reply": "2021-03-05T19:54:16.806537Z"
    },
    "papermill": {
     "duration": 157.999485,
     "end_time": "2021-03-05T19:54:16.806758",
     "exception": false,
     "start_time": "2021-03-05T19:51:38.807273",
     "status": "completed"
    },
    "tags": []
   },
   "outputs": [
    {
     "data": {
      "text/html": [
       "<div>\n",
       "<style scoped>\n",
       "    .dataframe tbody tr th:only-of-type {\n",
       "        vertical-align: middle;\n",
       "    }\n",
       "\n",
       "    .dataframe tbody tr th {\n",
       "        vertical-align: top;\n",
       "    }\n",
       "\n",
       "    .dataframe thead th {\n",
       "        text-align: right;\n",
       "    }\n",
       "</style>\n",
       "<table border=\"1\" class=\"dataframe\">\n",
       "  <thead>\n",
       "    <tr style=\"text-align: right;\">\n",
       "      <th></th>\n",
       "      <th>AHP_Class</th>\n",
       "      <th>SAW_Class</th>\n",
       "      <th>VIKOR_Class</th>\n",
       "      <th>ComboClass</th>\n",
       "    </tr>\n",
       "  </thead>\n",
       "  <tbody>\n",
       "    <tr>\n",
       "      <th>0</th>\n",
       "      <td>C</td>\n",
       "      <td>C</td>\n",
       "      <td>C</td>\n",
       "      <td>C</td>\n",
       "    </tr>\n",
       "    <tr>\n",
       "      <th>1</th>\n",
       "      <td>A</td>\n",
       "      <td>A</td>\n",
       "      <td>C</td>\n",
       "      <td>A</td>\n",
       "    </tr>\n",
       "    <tr>\n",
       "      <th>2</th>\n",
       "      <td>C</td>\n",
       "      <td>A</td>\n",
       "      <td>C</td>\n",
       "      <td>C</td>\n",
       "    </tr>\n",
       "    <tr>\n",
       "      <th>3</th>\n",
       "      <td>A</td>\n",
       "      <td>B</td>\n",
       "      <td>C</td>\n",
       "      <td>ABC</td>\n",
       "    </tr>\n",
       "    <tr>\n",
       "      <th>4</th>\n",
       "      <td>C</td>\n",
       "      <td>C</td>\n",
       "      <td>C</td>\n",
       "      <td>C</td>\n",
       "    </tr>\n",
       "  </tbody>\n",
       "</table>\n",
       "</div>"
      ],
      "text/plain": [
       "  AHP_Class SAW_Class VIKOR_Class ComboClass\n",
       "0         C         C           C          C\n",
       "1         A         A           C          A\n",
       "2         C         A           C          C\n",
       "3         A         B           C        ABC\n",
       "4         C         C           C          C"
      ]
     },
     "execution_count": 7,
     "metadata": {},
     "output_type": "execute_result"
    }
   ],
   "source": [
    "combo['ComboClass'] = 0\n",
    "m_c = 1\n",
    "for i in range(len(combo.index)):\n",
    "    \n",
    "    if combo.iloc[i,0] == combo.iloc[i,1] or combo.iloc[i,0] == combo.iloc[i,2]:\n",
    "        combo.iloc[i,3] = combo.iloc[i,0]\n",
    "        \n",
    "    elif combo.iloc[i,1] == combo.iloc[i,0] or combo.iloc[i,1] == combo.iloc[i,2]:\n",
    "        combo.iloc[i,3] = combo.iloc[i,1]\n",
    "            \n",
    "    else :\n",
    "        combo.iloc[i,3] = \"ABC\"#combo.iloc[i,m_c] #\n",
    "combo.head()"
   ]
  },
  {
   "cell_type": "code",
   "execution_count": 8,
   "metadata": {
    "execution": {
     "iopub.execute_input": "2021-03-05T19:54:16.896860Z",
     "iopub.status.busy": "2021-03-05T19:54:16.894063Z",
     "iopub.status.idle": "2021-03-05T19:54:16.901349Z",
     "shell.execute_reply": "2021-03-05T19:54:16.900806Z"
    },
    "papermill": {
     "duration": 0.064738,
     "end_time": "2021-03-05T19:54:16.901497",
     "exception": false,
     "start_time": "2021-03-05T19:54:16.836759",
     "status": "completed"
    },
    "tags": []
   },
   "outputs": [
    {
     "data": {
      "text/plain": [
       "C      76227\n",
       "ABC    11252\n",
       "B       7438\n",
       "A       5083\n",
       "Name: ComboClass, dtype: int64"
      ]
     },
     "execution_count": 8,
     "metadata": {},
     "output_type": "execute_result"
    }
   ],
   "source": [
    "combo['ComboClass'].value_counts()"
   ]
  },
  {
   "cell_type": "code",
   "execution_count": 9,
   "metadata": {
    "execution": {
     "iopub.execute_input": "2021-03-05T19:54:16.967906Z",
     "iopub.status.busy": "2021-03-05T19:54:16.967199Z",
     "iopub.status.idle": "2021-03-05T19:54:34.997824Z",
     "shell.execute_reply": "2021-03-05T19:54:34.997210Z"
    },
    "papermill": {
     "duration": 18.066687,
     "end_time": "2021-03-05T19:54:34.998020",
     "exception": false,
     "start_time": "2021-03-05T19:54:16.931333",
     "status": "completed"
    },
    "tags": []
   },
   "outputs": [
    {
     "data": {
      "text/html": [
       "<div>\n",
       "<style scoped>\n",
       "    .dataframe tbody tr th:only-of-type {\n",
       "        vertical-align: middle;\n",
       "    }\n",
       "\n",
       "    .dataframe tbody tr th {\n",
       "        vertical-align: top;\n",
       "    }\n",
       "\n",
       "    .dataframe thead th {\n",
       "        text-align: right;\n",
       "    }\n",
       "</style>\n",
       "<table border=\"1\" class=\"dataframe\">\n",
       "  <thead>\n",
       "    <tr style=\"text-align: right;\">\n",
       "      <th></th>\n",
       "      <th>AHP_Class</th>\n",
       "      <th>SAW_Class</th>\n",
       "      <th>VIKOR_Class</th>\n",
       "      <th>ComboClass</th>\n",
       "    </tr>\n",
       "  </thead>\n",
       "  <tbody>\n",
       "    <tr>\n",
       "      <th>0</th>\n",
       "      <td>C</td>\n",
       "      <td>C</td>\n",
       "      <td>C</td>\n",
       "      <td>C</td>\n",
       "    </tr>\n",
       "    <tr>\n",
       "      <th>1</th>\n",
       "      <td>A</td>\n",
       "      <td>A</td>\n",
       "      <td>C</td>\n",
       "      <td>A</td>\n",
       "    </tr>\n",
       "    <tr>\n",
       "      <th>2</th>\n",
       "      <td>C</td>\n",
       "      <td>A</td>\n",
       "      <td>C</td>\n",
       "      <td>C</td>\n",
       "    </tr>\n",
       "    <tr>\n",
       "      <th>3</th>\n",
       "      <td>A</td>\n",
       "      <td>B</td>\n",
       "      <td>C</td>\n",
       "      <td>B</td>\n",
       "    </tr>\n",
       "    <tr>\n",
       "      <th>4</th>\n",
       "      <td>C</td>\n",
       "      <td>C</td>\n",
       "      <td>C</td>\n",
       "      <td>C</td>\n",
       "    </tr>\n",
       "  </tbody>\n",
       "</table>\n",
       "</div>"
      ],
      "text/plain": [
       "  AHP_Class SAW_Class VIKOR_Class ComboClass\n",
       "0         C         C           C          C\n",
       "1         A         A           C          A\n",
       "2         C         A           C          C\n",
       "3         A         B           C          B\n",
       "4         C         C           C          C"
      ]
     },
     "execution_count": 9,
     "metadata": {},
     "output_type": "execute_result"
    }
   ],
   "source": [
    "m_c = 1 #ANN-SAW with best accuracy\n",
    "for i in range(len(combo.index)):\n",
    "    \n",
    "    if combo.iloc[i,-1] == 'ABC':\n",
    "        combo.iloc[i,-1] = combo.iloc[i,m_c]\n",
    "combo.head()"
   ]
  },
  {
   "cell_type": "code",
   "execution_count": 10,
   "metadata": {
    "execution": {
     "iopub.execute_input": "2021-03-05T19:54:35.091639Z",
     "iopub.status.busy": "2021-03-05T19:54:35.078077Z",
     "iopub.status.idle": "2021-03-05T19:54:35.096503Z",
     "shell.execute_reply": "2021-03-05T19:54:35.095803Z"
    },
    "papermill": {
     "duration": 0.066283,
     "end_time": "2021-03-05T19:54:35.096649",
     "exception": false,
     "start_time": "2021-03-05T19:54:35.030366",
     "status": "completed"
    },
    "tags": []
   },
   "outputs": [
    {
     "data": {
      "text/plain": [
       "C    76227\n",
       "B    13543\n",
       "A    10230\n",
       "Name: ComboClass, dtype: int64"
      ]
     },
     "execution_count": 10,
     "metadata": {},
     "output_type": "execute_result"
    }
   ],
   "source": [
    "combo['ComboClass'].value_counts()"
   ]
  },
  {
   "cell_type": "code",
   "execution_count": 11,
   "metadata": {
    "execution": {
     "iopub.execute_input": "2021-03-05T19:54:35.200810Z",
     "iopub.status.busy": "2021-03-05T19:54:35.177586Z",
     "iopub.status.idle": "2021-03-05T19:54:35.629179Z",
     "shell.execute_reply": "2021-03-05T19:54:35.629717Z"
    },
    "papermill": {
     "duration": 0.501544,
     "end_time": "2021-03-05T19:54:35.629894",
     "exception": false,
     "start_time": "2021-03-05T19:54:35.128350",
     "status": "completed"
    },
    "tags": []
   },
   "outputs": [
    {
     "name": "stdout",
     "output_type": "stream",
     "text": [
      "10.23 % -> A: 10230\n",
      "13.54 % -> B: 13543\n",
      "76.23 % -> C: 76227\n",
      "Total:  100000\n"
     ]
    },
    {
     "data": {
      "text/html": [
       "<div>\n",
       "<style scoped>\n",
       "    .dataframe tbody tr th:only-of-type {\n",
       "        vertical-align: middle;\n",
       "    }\n",
       "\n",
       "    .dataframe tbody tr th {\n",
       "        vertical-align: top;\n",
       "    }\n",
       "\n",
       "    .dataframe thead th {\n",
       "        text-align: right;\n",
       "    }\n",
       "</style>\n",
       "<table border=\"1\" class=\"dataframe\">\n",
       "  <thead>\n",
       "    <tr style=\"text-align: right;\">\n",
       "      <th></th>\n",
       "      <th>AHP_Class</th>\n",
       "      <th>SAW_Class</th>\n",
       "      <th>VIKOR_Class</th>\n",
       "      <th>ComboClass</th>\n",
       "    </tr>\n",
       "  </thead>\n",
       "  <tbody>\n",
       "    <tr>\n",
       "      <th>0</th>\n",
       "      <td>C</td>\n",
       "      <td>C</td>\n",
       "      <td>C</td>\n",
       "      <td>C</td>\n",
       "    </tr>\n",
       "    <tr>\n",
       "      <th>1</th>\n",
       "      <td>A</td>\n",
       "      <td>A</td>\n",
       "      <td>C</td>\n",
       "      <td>A</td>\n",
       "    </tr>\n",
       "    <tr>\n",
       "      <th>2</th>\n",
       "      <td>C</td>\n",
       "      <td>A</td>\n",
       "      <td>C</td>\n",
       "      <td>C</td>\n",
       "    </tr>\n",
       "    <tr>\n",
       "      <th>3</th>\n",
       "      <td>A</td>\n",
       "      <td>B</td>\n",
       "      <td>C</td>\n",
       "      <td>B</td>\n",
       "    </tr>\n",
       "    <tr>\n",
       "      <th>4</th>\n",
       "      <td>C</td>\n",
       "      <td>C</td>\n",
       "      <td>C</td>\n",
       "      <td>C</td>\n",
       "    </tr>\n",
       "  </tbody>\n",
       "</table>\n",
       "</div>"
      ],
      "text/plain": [
       "  AHP_Class SAW_Class VIKOR_Class ComboClass\n",
       "0         C         C           C          C\n",
       "1         A         A           C          A\n",
       "2         C         A           C          C\n",
       "3         A         B           C          B\n",
       "4         C         C           C          C"
      ]
     },
     "execution_count": 11,
     "metadata": {},
     "output_type": "execute_result"
    },
    {
     "data": {
      "image/png": "[encoded data removed]",
      "text/plain": [
       "<Figure size 432x288 with 1 Axes>"
      ]
     },
     "metadata": {
      "needs_background": "light"
     },
     "output_type": "display_data"
    }
   ],
   "source": [
    "ax = sns.countplot(x = combo['ComboClass'],data = combo,label= 'Count')\n",
    "C,B,A = combo['ComboClass'].value_counts()\n",
    "print(round(100*A/combo['ComboClass'].value_counts().sum(),2),\"% ->\",\"A:\",A)\n",
    "print(round(100*B/combo['ComboClass'].value_counts().sum(),2),\"% ->\",\"B:\",B)\n",
    "print(round(100*C/combo['ComboClass'].value_counts().sum(),2),\"% ->\",\"C:\",C)\n",
    "print(\"Total: \"  ,combo['ComboClass'].value_counts().sum())\n",
    "combo.head()"
   ]
  },
  {
   "cell_type": "code",
   "execution_count": 12,
   "metadata": {
    "execution": {
     "iopub.execute_input": "2021-03-05T19:54:35.701631Z",
     "iopub.status.busy": "2021-03-05T19:54:35.700907Z",
     "iopub.status.idle": "2021-03-05T19:54:35.718151Z",
     "shell.execute_reply": "2021-03-05T19:54:35.717422Z"
    },
    "papermill": {
     "duration": 0.055206,
     "end_time": "2021-03-05T19:54:35.718315",
     "exception": false,
     "start_time": "2021-03-05T19:54:35.663109",
     "status": "completed"
    },
    "tags": []
   },
   "outputs": [
    {
     "data": {
      "text/html": [
       "<div>\n",
       "<style scoped>\n",
       "    .dataframe tbody tr th:only-of-type {\n",
       "        vertical-align: middle;\n",
       "    }\n",
       "\n",
       "    .dataframe tbody tr th {\n",
       "        vertical-align: top;\n",
       "    }\n",
       "\n",
       "    .dataframe thead th {\n",
       "        text-align: right;\n",
       "    }\n",
       "</style>\n",
       "<table border=\"1\" class=\"dataframe\">\n",
       "  <thead>\n",
       "    <tr style=\"text-align: right;\">\n",
       "      <th></th>\n",
       "      <th>mfg</th>\n",
       "      <th>sell</th>\n",
       "      <th>demand</th>\n",
       "      <th>fcost</th>\n",
       "      <th>rma</th>\n",
       "      <th>ComboClass</th>\n",
       "    </tr>\n",
       "  </thead>\n",
       "  <tbody>\n",
       "    <tr>\n",
       "      <th>0</th>\n",
       "      <td>71</td>\n",
       "      <td>156.91</td>\n",
       "      <td>1595</td>\n",
       "      <td>49.7</td>\n",
       "      <td>3</td>\n",
       "      <td>C</td>\n",
       "    </tr>\n",
       "    <tr>\n",
       "      <th>1</th>\n",
       "      <td>474</td>\n",
       "      <td>1047.54</td>\n",
       "      <td>6877</td>\n",
       "      <td>331.8</td>\n",
       "      <td>3</td>\n",
       "      <td>A</td>\n",
       "    </tr>\n",
       "    <tr>\n",
       "      <th>2</th>\n",
       "      <td>70</td>\n",
       "      <td>154.70</td>\n",
       "      <td>5182</td>\n",
       "      <td>49.0</td>\n",
       "      <td>3</td>\n",
       "      <td>C</td>\n",
       "    </tr>\n",
       "    <tr>\n",
       "      <th>3</th>\n",
       "      <td>417</td>\n",
       "      <td>921.57</td>\n",
       "      <td>3914</td>\n",
       "      <td>291.9</td>\n",
       "      <td>3</td>\n",
       "      <td>B</td>\n",
       "    </tr>\n",
       "    <tr>\n",
       "      <th>4</th>\n",
       "      <td>239</td>\n",
       "      <td>528.19</td>\n",
       "      <td>4496</td>\n",
       "      <td>167.3</td>\n",
       "      <td>2</td>\n",
       "      <td>C</td>\n",
       "    </tr>\n",
       "  </tbody>\n",
       "</table>\n",
       "</div>"
      ],
      "text/plain": [
       "   mfg     sell  demand  fcost  rma ComboClass\n",
       "0   71   156.91    1595   49.7    3          C\n",
       "1  474  1047.54    6877  331.8    3          A\n",
       "2   70   154.70    5182   49.0    3          C\n",
       "3  417   921.57    3914  291.9    3          B\n",
       "4  239   528.19    4496  167.3    2          C"
      ]
     },
     "execution_count": 12,
     "metadata": {},
     "output_type": "execute_result"
    }
   ],
   "source": [
    "dn = 0\n",
    "dn = data.copy()\n",
    "dn['ComboClass'] = combo['ComboClass']\n",
    "del dn['Unnamed: 0']\n",
    "dn.head()"
   ]
  },
  {
   "cell_type": "markdown",
   "metadata": {
    "papermill": {
     "duration": 0.034351,
     "end_time": "2021-03-05T19:54:35.786851",
     "exception": false,
     "start_time": "2021-03-05T19:54:35.752500",
     "status": "completed"
    },
    "tags": []
   },
   "source": [
    "# Machine Learning"
   ]
  },
  {
   "cell_type": "code",
   "execution_count": 13,
   "metadata": {
    "execution": {
     "iopub.execute_input": "2021-03-05T19:54:35.865249Z",
     "iopub.status.busy": "2021-03-05T19:54:35.864157Z",
     "iopub.status.idle": "2021-03-05T19:54:35.868037Z",
     "shell.execute_reply": "2021-03-05T19:54:35.867360Z"
    },
    "papermill": {
     "duration": 0.047573,
     "end_time": "2021-03-05T19:54:35.868198",
     "exception": false,
     "start_time": "2021-03-05T19:54:35.820625",
     "status": "completed"
    },
    "tags": []
   },
   "outputs": [],
   "source": [
    "iteration = 5\n",
    "row_col = np.zeros([iteration,])\n",
    "\n",
    "acc = pd.DataFrame()\n",
    "acc['train_Acc'] = row_col\n",
    "acc['test_Acc']  = row_col\n",
    "acc['time']      = row_col\n",
    "acc['test_size'] = row_col\n",
    "start_time  = 0\n",
    "end_time    = 0\n",
    "train_score = 0\n",
    "test_score  = 0\n",
    "\n",
    "#split_size \n",
    "n = .1"
   ]
  },
  {
   "cell_type": "markdown",
   "metadata": {
    "papermill": {
     "duration": 0.033487,
     "end_time": "2021-03-05T19:54:35.936114",
     "exception": false,
     "start_time": "2021-03-05T19:54:35.902627",
     "status": "completed"
    },
    "tags": []
   },
   "source": [
    "# ANN"
   ]
  },
  {
   "cell_type": "code",
   "execution_count": 14,
   "metadata": {
    "execution": {
     "iopub.execute_input": "2021-03-05T19:54:36.019871Z",
     "iopub.status.busy": "2021-03-05T19:54:36.013269Z",
     "iopub.status.idle": "2021-03-05T19:56:15.833734Z",
     "shell.execute_reply": "2021-03-05T19:56:15.834383Z"
    },
    "papermill": {
     "duration": 99.86415,
     "end_time": "2021-03-05T19:56:15.834603",
     "exception": false,
     "start_time": "2021-03-05T19:54:35.970453",
     "status": "completed"
    },
    "tags": []
   },
   "outputs": [
    {
     "name": "stdout",
     "output_type": "stream",
     "text": [
      "Epoch 1/20\n",
      "633/633 [==============================] - 2s 2ms/step - loss: 0.7664 - accuracy: 0.5902 - val_loss: 0.3453 - val_accuracy: 0.8377\n",
      "Epoch 2/20\n",
      "633/633 [==============================] - 1s 1ms/step - loss: 0.3121 - accuracy: 0.8528 - val_loss: 0.2387 - val_accuracy: 0.9223\n",
      "Epoch 3/20\n",
      "633/633 [==============================] - 1s 1ms/step - loss: 0.2101 - accuracy: 0.9391 - val_loss: 0.1385 - val_accuracy: 0.9640\n",
      "Epoch 4/20\n",
      "633/633 [==============================] - 1s 1ms/step - loss: 0.1204 - accuracy: 0.9688 - val_loss: 0.0967 - val_accuracy: 0.9722\n",
      "Epoch 5/20\n",
      "633/633 [==============================] - 1s 1ms/step - loss: 0.0864 - accuracy: 0.9749 - val_loss: 0.0777 - val_accuracy: 0.9736\n",
      "Epoch 6/20\n",
      "633/633 [==============================] - 1s 1ms/step - loss: 0.0712 - accuracy: 0.9772 - val_loss: 0.0681 - val_accuracy: 0.9754\n",
      "Epoch 7/20\n",
      "633/633 [==============================] - 1s 1ms/step - loss: 0.0629 - accuracy: 0.9792 - val_loss: 0.0624 - val_accuracy: 0.9754\n",
      "Epoch 8/20\n",
      "633/633 [==============================] - 1s 1ms/step - loss: 0.0578 - accuracy: 0.9800 - val_loss: 0.0584 - val_accuracy: 0.9769\n",
      "Epoch 9/20\n",
      "633/633 [==============================] - 1s 1ms/step - loss: 0.0532 - accuracy: 0.9810 - val_loss: 0.0556 - val_accuracy: 0.9768\n",
      "Epoch 10/20\n",
      "633/633 [==============================] - 1s 1ms/step - loss: 0.0510 - accuracy: 0.9806 - val_loss: 0.0538 - val_accuracy: 0.9764\n",
      "Epoch 11/20\n",
      "633/633 [==============================] - 1s 1ms/step - loss: 0.0465 - accuracy: 0.9827 - val_loss: 0.0521 - val_accuracy: 0.9754\n",
      "Epoch 12/20\n",
      "633/633 [==============================] - 1s 1ms/step - loss: 0.0465 - accuracy: 0.9819 - val_loss: 0.0503 - val_accuracy: 0.9779\n",
      "Epoch 13/20\n",
      "633/633 [==============================] - 1s 1ms/step - loss: 0.0437 - accuracy: 0.9831 - val_loss: 0.0511 - val_accuracy: 0.9763\n",
      "Epoch 14/20\n",
      "633/633 [==============================] - 1s 1ms/step - loss: 0.0429 - accuracy: 0.9829 - val_loss: 0.0491 - val_accuracy: 0.9766\n",
      "Epoch 15/20\n",
      "633/633 [==============================] - 1s 1ms/step - loss: 0.0425 - accuracy: 0.9830 - val_loss: 0.0473 - val_accuracy: 0.9780\n",
      "Epoch 16/20\n",
      "633/633 [==============================] - 1s 1ms/step - loss: 0.0416 - accuracy: 0.9835 - val_loss: 0.0489 - val_accuracy: 0.9764\n",
      "Epoch 17/20\n",
      "633/633 [==============================] - 1s 1ms/step - loss: 0.0412 - accuracy: 0.9834 - val_loss: 0.0462 - val_accuracy: 0.9786\n",
      "Epoch 18/20\n",
      "633/633 [==============================] - 1s 1ms/step - loss: 0.0405 - accuracy: 0.9832 - val_loss: 0.0454 - val_accuracy: 0.9792\n",
      "Epoch 19/20\n",
      "633/633 [==============================] - 1s 1ms/step - loss: 0.0401 - accuracy: 0.9833 - val_loss: 0.0455 - val_accuracy: 0.9783\n",
      "Epoch 20/20\n",
      "633/633 [==============================] - 1s 1ms/step - loss: 0.0391 - accuracy: 0.9839 - val_loss: 0.0470 - val_accuracy: 0.9773\n",
      "Epoch 1/20\n",
      "500/500 [==============================] - 1s 2ms/step - loss: 0.9987 - accuracy: 0.4787 - val_loss: 0.4389 - val_accuracy: 0.7568\n",
      "Epoch 2/20\n",
      "500/500 [==============================] - 1s 2ms/step - loss: 0.3852 - accuracy: 0.7739 - val_loss: 0.3018 - val_accuracy: 0.8502\n",
      "Epoch 3/20\n",
      "500/500 [==============================] - 1s 2ms/step - loss: 0.2799 - accuracy: 0.8650 - val_loss: 0.2297 - val_accuracy: 0.8883\n",
      "Epoch 4/20\n",
      "500/500 [==============================] - 1s 2ms/step - loss: 0.2152 - accuracy: 0.9123 - val_loss: 0.1759 - val_accuracy: 0.9323\n",
      "Epoch 5/20\n",
      "500/500 [==============================] - 1s 2ms/step - loss: 0.1681 - accuracy: 0.9383 - val_loss: 0.1515 - val_accuracy: 0.9396\n",
      "Epoch 6/20\n",
      "500/500 [==============================] - 1s 1ms/step - loss: 0.1484 - accuracy: 0.9421 - val_loss: 0.1351 - val_accuracy: 0.9460\n",
      "Epoch 7/20\n",
      "500/500 [==============================] - 1s 2ms/step - loss: 0.1334 - accuracy: 0.9449 - val_loss: 0.1225 - val_accuracy: 0.9506\n",
      "Epoch 8/20\n",
      "500/500 [==============================] - 1s 2ms/step - loss: 0.1201 - accuracy: 0.9516 - val_loss: 0.1109 - val_accuracy: 0.9566\n",
      "Epoch 9/20\n",
      "500/500 [==============================] - 1s 2ms/step - loss: 0.1095 - accuracy: 0.9548 - val_loss: 0.0999 - val_accuracy: 0.9612\n",
      "Epoch 10/20\n",
      "500/500 [==============================] - 1s 2ms/step - loss: 0.0972 - accuracy: 0.9599 - val_loss: 0.0894 - val_accuracy: 0.9657\n",
      "Epoch 11/20\n",
      "500/500 [==============================] - 1s 2ms/step - loss: 0.0871 - accuracy: 0.9654 - val_loss: 0.0810 - val_accuracy: 0.9702\n",
      "Epoch 12/20\n",
      "500/500 [==============================] - 1s 2ms/step - loss: 0.0801 - accuracy: 0.9701 - val_loss: 0.0757 - val_accuracy: 0.9737\n",
      "Epoch 13/20\n",
      "500/500 [==============================] - 1s 2ms/step - loss: 0.0746 - accuracy: 0.9741 - val_loss: 0.0691 - val_accuracy: 0.9761\n",
      "Epoch 14/20\n",
      "500/500 [==============================] - 1s 1ms/step - loss: 0.0702 - accuracy: 0.9757 - val_loss: 0.0648 - val_accuracy: 0.9786\n",
      "Epoch 15/20\n",
      "500/500 [==============================] - 1s 2ms/step - loss: 0.0660 - accuracy: 0.9777 - val_loss: 0.0587 - val_accuracy: 0.9825\n",
      "Epoch 16/20\n",
      "500/500 [==============================] - 1s 2ms/step - loss: 0.0586 - accuracy: 0.9839 - val_loss: 0.0547 - val_accuracy: 0.9849\n",
      "Epoch 17/20\n",
      "500/500 [==============================] - 1s 1ms/step - loss: 0.0551 - accuracy: 0.9846 - val_loss: 0.0494 - val_accuracy: 0.9884\n",
      "Epoch 18/20\n",
      "500/500 [==============================] - 1s 1ms/step - loss: 0.0527 - accuracy: 0.9856 - val_loss: 0.0469 - val_accuracy: 0.9891\n",
      "Epoch 19/20\n",
      "500/500 [==============================] - 1s 1ms/step - loss: 0.0488 - accuracy: 0.9879 - val_loss: 0.0461 - val_accuracy: 0.9866\n",
      "Epoch 20/20\n",
      "500/500 [==============================] - 1s 1ms/step - loss: 0.0471 - accuracy: 0.9877 - val_loss: 0.0427 - val_accuracy: 0.9889\n",
      "Epoch 1/20\n",
      "633/633 [==============================] - 1s 2ms/step - loss: 0.7476 - accuracy: 0.7289 - val_loss: 0.3408 - val_accuracy: 0.7602\n",
      "Epoch 2/20\n",
      "633/633 [==============================] - 1s 1ms/step - loss: 0.3026 - accuracy: 0.8423 - val_loss: 0.2284 - val_accuracy: 0.9554\n",
      "Epoch 3/20\n",
      "633/633 [==============================] - 1s 1ms/step - loss: 0.2048 - accuracy: 0.9633 - val_loss: 0.1590 - val_accuracy: 0.9672\n",
      "Epoch 4/20\n",
      "633/633 [==============================] - 1s 1ms/step - loss: 0.1466 - accuracy: 0.9712 - val_loss: 0.1249 - val_accuracy: 0.9701\n",
      "Epoch 5/20\n",
      "633/633 [==============================] - 1s 1ms/step - loss: 0.1152 - accuracy: 0.9722 - val_loss: 0.1035 - val_accuracy: 0.9698\n",
      "Epoch 6/20\n",
      "633/633 [==============================] - 1s 1ms/step - loss: 0.0963 - accuracy: 0.9724 - val_loss: 0.0908 - val_accuracy: 0.9713\n",
      "Epoch 7/20\n",
      "633/633 [==============================] - 1s 1ms/step - loss: 0.0825 - accuracy: 0.9743 - val_loss: 0.0823 - val_accuracy: 0.9716\n",
      "Epoch 8/20\n",
      "633/633 [==============================] - 1s 1ms/step - loss: 0.0745 - accuracy: 0.9753 - val_loss: 0.0775 - val_accuracy: 0.9709\n",
      "Epoch 9/20\n",
      "633/633 [==============================] - 1s 1ms/step - loss: 0.0681 - accuracy: 0.9758 - val_loss: 0.0724 - val_accuracy: 0.9718\n",
      "Epoch 10/20\n",
      "633/633 [==============================] - 1s 1ms/step - loss: 0.0636 - accuracy: 0.9767 - val_loss: 0.0694 - val_accuracy: 0.9713\n",
      "Epoch 11/20\n",
      "633/633 [==============================] - 1s 1ms/step - loss: 0.0606 - accuracy: 0.9773 - val_loss: 0.0678 - val_accuracy: 0.9730\n",
      "Epoch 12/20\n",
      "633/633 [==============================] - 1s 1ms/step - loss: 0.0606 - accuracy: 0.9763 - val_loss: 0.0647 - val_accuracy: 0.9734\n",
      "Epoch 13/20\n",
      "633/633 [==============================] - 1s 1ms/step - loss: 0.0577 - accuracy: 0.9774 - val_loss: 0.0638 - val_accuracy: 0.9729\n",
      "Epoch 14/20\n",
      "633/633 [==============================] - 1s 1ms/step - loss: 0.0565 - accuracy: 0.9775 - val_loss: 0.0645 - val_accuracy: 0.9709\n",
      "Epoch 15/20\n",
      "633/633 [==============================] - 1s 1ms/step - loss: 0.0546 - accuracy: 0.9783 - val_loss: 0.0614 - val_accuracy: 0.9742\n",
      "Epoch 16/20\n",
      "633/633 [==============================] - 1s 1ms/step - loss: 0.0527 - accuracy: 0.9791 - val_loss: 0.0617 - val_accuracy: 0.9731\n",
      "Epoch 17/20\n",
      "633/633 [==============================] - 1s 1ms/step - loss: 0.0537 - accuracy: 0.9783 - val_loss: 0.0602 - val_accuracy: 0.9749\n",
      "Epoch 18/20\n",
      "633/633 [==============================] - 1s 1ms/step - loss: 0.0527 - accuracy: 0.9792 - val_loss: 0.0594 - val_accuracy: 0.9737\n",
      "Epoch 19/20\n",
      "633/633 [==============================] - 1s 1ms/step - loss: 0.0509 - accuracy: 0.9796 - val_loss: 0.0578 - val_accuracy: 0.9741\n",
      "Epoch 20/20\n",
      "633/633 [==============================] - 1s 1ms/step - loss: 0.0507 - accuracy: 0.9793 - val_loss: 0.0580 - val_accuracy: 0.9766\n",
      "Epoch 1/20\n",
      "500/500 [==============================] - 1s 2ms/step - loss: 0.7736 - accuracy: 0.6611 - val_loss: 0.3769 - val_accuracy: 0.7568\n",
      "Epoch 2/20\n",
      "500/500 [==============================] - 1s 1ms/step - loss: 0.3439 - accuracy: 0.7778 - val_loss: 0.3008 - val_accuracy: 0.8654\n",
      "Epoch 3/20\n",
      "500/500 [==============================] - 1s 1ms/step - loss: 0.2823 - accuracy: 0.8747 - val_loss: 0.2666 - val_accuracy: 0.8739\n",
      "Epoch 4/20\n",
      "500/500 [==============================] - 1s 2ms/step - loss: 0.2562 - accuracy: 0.8769 - val_loss: 0.2426 - val_accuracy: 0.8751\n",
      "Epoch 5/20\n",
      "500/500 [==============================] - 1s 1ms/step - loss: 0.2279 - accuracy: 0.8842 - val_loss: 0.2228 - val_accuracy: 0.8809\n",
      "Epoch 6/20\n",
      "500/500 [==============================] - 1s 1ms/step - loss: 0.2115 - accuracy: 0.8879 - val_loss: 0.1811 - val_accuracy: 0.9556\n",
      "Epoch 7/20\n",
      "500/500 [==============================] - 1s 1ms/step - loss: 0.1632 - accuracy: 0.9608 - val_loss: 0.1219 - val_accuracy: 0.9751\n",
      "Epoch 8/20\n",
      "500/500 [==============================] - 1s 2ms/step - loss: 0.1129 - accuracy: 0.9769 - val_loss: 0.0938 - val_accuracy: 0.9775\n",
      "Epoch 9/20\n",
      "500/500 [==============================] - 1s 2ms/step - loss: 0.0864 - accuracy: 0.9836 - val_loss: 0.0772 - val_accuracy: 0.9829\n",
      "Epoch 10/20\n",
      "500/500 [==============================] - 1s 2ms/step - loss: 0.0749 - accuracy: 0.9839 - val_loss: 0.0672 - val_accuracy: 0.9838\n",
      "Epoch 11/20\n",
      "500/500 [==============================] - 1s 1ms/step - loss: 0.0661 - accuracy: 0.9845 - val_loss: 0.0600 - val_accuracy: 0.9846\n",
      "Epoch 12/20\n",
      "500/500 [==============================] - 1s 2ms/step - loss: 0.0590 - accuracy: 0.9849 - val_loss: 0.0547 - val_accuracy: 0.9845\n",
      "Epoch 13/20\n",
      "500/500 [==============================] - 1s 1ms/step - loss: 0.0537 - accuracy: 0.9865 - val_loss: 0.0515 - val_accuracy: 0.9839\n",
      "Epoch 14/20\n",
      "500/500 [==============================] - 1s 1ms/step - loss: 0.0504 - accuracy: 0.9855 - val_loss: 0.0470 - val_accuracy: 0.9851\n",
      "Epoch 15/20\n",
      "500/500 [==============================] - 1s 1ms/step - loss: 0.0479 - accuracy: 0.9860 - val_loss: 0.0447 - val_accuracy: 0.9854\n",
      "Epoch 16/20\n",
      "500/500 [==============================] - 1s 1ms/step - loss: 0.0453 - accuracy: 0.9872 - val_loss: 0.0417 - val_accuracy: 0.9868\n",
      "Epoch 17/20\n",
      "500/500 [==============================] - 1s 1ms/step - loss: 0.0417 - accuracy: 0.9881 - val_loss: 0.0396 - val_accuracy: 0.9881\n",
      "Epoch 18/20\n",
      "500/500 [==============================] - 1s 2ms/step - loss: 0.0398 - accuracy: 0.9877 - val_loss: 0.0382 - val_accuracy: 0.9872\n",
      "Epoch 19/20\n",
      "500/500 [==============================] - 1s 1ms/step - loss: 0.0386 - accuracy: 0.9886 - val_loss: 0.0387 - val_accuracy: 0.9856\n",
      "Epoch 20/20\n",
      "500/500 [==============================] - 1s 1ms/step - loss: 0.0378 - accuracy: 0.9878 - val_loss: 0.0350 - val_accuracy: 0.9893\n",
      "Epoch 1/20\n",
      "633/633 [==============================] - 1s 2ms/step - loss: 0.7733 - accuracy: 0.6439 - val_loss: 0.3701 - val_accuracy: 0.7602\n",
      "Epoch 2/20\n",
      "633/633 [==============================] - 1s 1ms/step - loss: 0.3244 - accuracy: 0.8036 - val_loss: 0.2370 - val_accuracy: 0.9373\n",
      "Epoch 3/20\n",
      "633/633 [==============================] - 1s 1ms/step - loss: 0.2160 - accuracy: 0.9452 - val_loss: 0.1764 - val_accuracy: 0.9496\n",
      "Epoch 4/20\n",
      "633/633 [==============================] - 1s 1ms/step - loss: 0.1609 - accuracy: 0.9579 - val_loss: 0.1406 - val_accuracy: 0.9582\n",
      "Epoch 5/20\n",
      "633/633 [==============================] - 1s 1ms/step - loss: 0.1283 - accuracy: 0.9639 - val_loss: 0.1177 - val_accuracy: 0.9621\n",
      "Epoch 6/20\n",
      "633/633 [==============================] - 1s 1ms/step - loss: 0.1077 - accuracy: 0.9687 - val_loss: 0.1022 - val_accuracy: 0.9641\n",
      "Epoch 7/20\n",
      "633/633 [==============================] - 1s 1ms/step - loss: 0.0919 - accuracy: 0.9725 - val_loss: 0.0898 - val_accuracy: 0.9686\n",
      "Epoch 8/20\n",
      "633/633 [==============================] - 1s 1ms/step - loss: 0.0829 - accuracy: 0.9738 - val_loss: 0.0812 - val_accuracy: 0.9698\n",
      "Epoch 9/20\n",
      "633/633 [==============================] - 1s 1ms/step - loss: 0.0746 - accuracy: 0.9757 - val_loss: 0.0748 - val_accuracy: 0.9709\n",
      "Epoch 10/20\n",
      "633/633 [==============================] - 1s 1ms/step - loss: 0.0655 - accuracy: 0.9788 - val_loss: 0.0690 - val_accuracy: 0.9730\n",
      "Epoch 11/20\n",
      "633/633 [==============================] - 1s 1ms/step - loss: 0.0617 - accuracy: 0.9780 - val_loss: 0.0648 - val_accuracy: 0.9737\n",
      "Epoch 12/20\n",
      "633/633 [==============================] - 1s 1ms/step - loss: 0.0580 - accuracy: 0.9789 - val_loss: 0.0625 - val_accuracy: 0.9732\n",
      "Epoch 13/20\n",
      "633/633 [==============================] - 1s 1ms/step - loss: 0.0559 - accuracy: 0.9791 - val_loss: 0.0610 - val_accuracy: 0.9719\n",
      "Epoch 14/20\n",
      "633/633 [==============================] - 1s 2ms/step - loss: 0.0537 - accuracy: 0.9799 - val_loss: 0.0567 - val_accuracy: 0.9762\n",
      "Epoch 15/20\n",
      "633/633 [==============================] - 1s 1ms/step - loss: 0.0507 - accuracy: 0.9810 - val_loss: 0.0565 - val_accuracy: 0.9740\n",
      "Epoch 16/20\n",
      "633/633 [==============================] - 1s 1ms/step - loss: 0.0492 - accuracy: 0.9806 - val_loss: 0.0554 - val_accuracy: 0.9750\n",
      "Epoch 17/20\n",
      "633/633 [==============================] - 1s 1ms/step - loss: 0.0477 - accuracy: 0.9810 - val_loss: 0.0534 - val_accuracy: 0.9756\n",
      "Epoch 18/20\n",
      "633/633 [==============================] - 1s 1ms/step - loss: 0.0473 - accuracy: 0.9809 - val_loss: 0.0520 - val_accuracy: 0.9762\n",
      "Epoch 19/20\n",
      "633/633 [==============================] - 1s 1ms/step - loss: 0.0460 - accuracy: 0.9811 - val_loss: 0.0539 - val_accuracy: 0.9733\n",
      "Epoch 20/20\n",
      "633/633 [==============================] - 1s 1ms/step - loss: 0.0453 - accuracy: 0.9817 - val_loss: 0.0519 - val_accuracy: 0.9737\n"
     ]
    }
   ],
   "source": [
    "for i in range(iteration):\n",
    "      \n",
    "    X = dn.iloc[:,0:5].astype('float32')\n",
    "    y = dn['ComboClass'] #.iloc[0:100,-1] \n",
    "\n",
    "    encoder = LabelEncoder()\n",
    "    encoder.fit(y)\n",
    "    y = encoder.transform(y)\n",
    "\n",
    "    y = to_categorical(y)\n",
    "\n",
    "    X_train,X_test,y_train,y_test = train_test_split(X, y ,test_size = n, random_state=0)\n",
    "    X_train,X_val,y_train,y_val = train_test_split(X_train, y_train ,test_size = n, random_state=0)\n",
    "\n",
    "    sc = StandardScaler()\n",
    "    X_train = sc.fit_transform(X_train)\n",
    "    X_test  = sc.fit_transform(X_test)\n",
    "    X_val  = sc.fit_transform(X_val)\n",
    "           \n",
    "    #time start\n",
    "    start_time = time.time()\n",
    "    \n",
    "    model = Sequential()\n",
    "    model.add(Dense(5, activation='relu', input_shape=(X_train.shape[1],)))\n",
    "    model.add(Dense(3, activation='relu'))\n",
    "    model.add(Dense(3, activation='softmax'))\n",
    "    model.compile(loss='categorical_crossentropy', optimizer='adam', metrics=['accuracy'])\n",
    "    model.fit(X_train,y_train,batch_size = 128, epochs = 20, validation_data = (X_val,y_val))\n",
    "\n",
    "    #time end\n",
    "    end_time = time.time()\n",
    "        \n",
    "    train_score = model.evaluate(X_train,y_train,verbose=0)\n",
    "    test_score = model.evaluate(X_test,y_test,verbose=0)\n",
    "       \n",
    "    #time calculation \n",
    "    acc.iloc[i,2] = end_time - start_time\n",
    "    \n",
    "    #Accuracy\n",
    "    acc.iloc[i,0] = train_score[1]\n",
    "    acc.iloc[i,1] = train_score[1]\n",
    "    \n",
    "    #test size\n",
    "    acc.iloc[i,3] = n*100\n",
    "    \n",
    "    if n == .1:\n",
    "        n = .2\n",
    "    else :\n",
    "        n = .1"
   ]
  },
  {
   "cell_type": "code",
   "execution_count": 15,
   "metadata": {
    "execution": {
     "iopub.execute_input": "2021-03-05T19:56:16.855657Z",
     "iopub.status.busy": "2021-03-05T19:56:16.854931Z",
     "iopub.status.idle": "2021-03-05T19:56:16.859536Z",
     "shell.execute_reply": "2021-03-05T19:56:16.859006Z"
    },
    "papermill": {
     "duration": 0.5147,
     "end_time": "2021-03-05T19:56:16.859678",
     "exception": false,
     "start_time": "2021-03-05T19:56:16.344978",
     "status": "completed"
    },
    "tags": []
   },
   "outputs": [
    {
     "data": {
      "text/html": [
       "<div>\n",
       "<style scoped>\n",
       "    .dataframe tbody tr th:only-of-type {\n",
       "        vertical-align: middle;\n",
       "    }\n",
       "\n",
       "    .dataframe tbody tr th {\n",
       "        vertical-align: top;\n",
       "    }\n",
       "\n",
       "    .dataframe thead th {\n",
       "        text-align: right;\n",
       "    }\n",
       "</style>\n",
       "<table border=\"1\" class=\"dataframe\">\n",
       "  <thead>\n",
       "    <tr style=\"text-align: right;\">\n",
       "      <th></th>\n",
       "      <th>train_Acc</th>\n",
       "      <th>test_Acc</th>\n",
       "      <th>time</th>\n",
       "      <th>test_size</th>\n",
       "    </tr>\n",
       "  </thead>\n",
       "  <tbody>\n",
       "    <tr>\n",
       "      <th>0</th>\n",
       "      <td>0.98</td>\n",
       "      <td>0.98</td>\n",
       "      <td>18.95</td>\n",
       "      <td>10.0</td>\n",
       "    </tr>\n",
       "    <tr>\n",
       "      <th>1</th>\n",
       "      <td>0.99</td>\n",
       "      <td>0.99</td>\n",
       "      <td>16.02</td>\n",
       "      <td>20.0</td>\n",
       "    </tr>\n",
       "    <tr>\n",
       "      <th>2</th>\n",
       "      <td>0.98</td>\n",
       "      <td>0.98</td>\n",
       "      <td>18.02</td>\n",
       "      <td>10.0</td>\n",
       "    </tr>\n",
       "    <tr>\n",
       "      <th>3</th>\n",
       "      <td>0.99</td>\n",
       "      <td>0.99</td>\n",
       "      <td>15.62</td>\n",
       "      <td>20.0</td>\n",
       "    </tr>\n",
       "    <tr>\n",
       "      <th>4</th>\n",
       "      <td>0.98</td>\n",
       "      <td>0.98</td>\n",
       "      <td>18.16</td>\n",
       "      <td>10.0</td>\n",
       "    </tr>\n",
       "  </tbody>\n",
       "</table>\n",
       "</div>"
      ],
      "text/plain": [
       "   train_Acc  test_Acc   time  test_size\n",
       "0       0.98      0.98  18.95       10.0\n",
       "1       0.99      0.99  16.02       20.0\n",
       "2       0.98      0.98  18.02       10.0\n",
       "3       0.99      0.99  15.62       20.0\n",
       "4       0.98      0.98  18.16       10.0"
      ]
     },
     "execution_count": 15,
     "metadata": {},
     "output_type": "execute_result"
    }
   ],
   "source": [
    "acc = acc.round(2)\n",
    "acc"
   ]
  },
  {
   "cell_type": "code",
   "execution_count": 16,
   "metadata": {
    "execution": {
     "iopub.execute_input": "2021-03-05T19:56:17.857743Z",
     "iopub.status.busy": "2021-03-05T19:56:17.856857Z",
     "iopub.status.idle": "2021-03-05T19:56:17.861539Z",
     "shell.execute_reply": "2021-03-05T19:56:17.860879Z"
    },
    "papermill": {
     "duration": 0.506285,
     "end_time": "2021-03-05T19:56:17.861683",
     "exception": false,
     "start_time": "2021-03-05T19:56:17.355398",
     "status": "completed"
    },
    "tags": []
   },
   "outputs": [
    {
     "data": {
      "text/plain": [
       "train_Acc     0.984\n",
       "test_Acc      0.984\n",
       "time         17.354\n",
       "test_size    14.000\n",
       "dtype: float64"
      ]
     },
     "execution_count": 16,
     "metadata": {},
     "output_type": "execute_result"
    }
   ],
   "source": [
    "ANNAcc = acc.mean()\n",
    "ANNAcc"
   ]
  },
  {
   "cell_type": "markdown",
   "metadata": {
    "papermill": {
     "duration": 0.497371,
     "end_time": "2021-03-05T19:56:18.858622",
     "exception": false,
     "start_time": "2021-03-05T19:56:18.361251",
     "status": "completed"
    },
    "tags": []
   },
   "source": [
    "# SVM"
   ]
  },
  {
   "cell_type": "code",
   "execution_count": 17,
   "metadata": {
    "execution": {
     "iopub.execute_input": "2021-03-05T19:56:19.862711Z",
     "iopub.status.busy": "2021-03-05T19:56:19.861514Z",
     "iopub.status.idle": "2021-03-05T20:20:28.313376Z",
     "shell.execute_reply": "2021-03-05T20:20:28.313926Z"
    },
    "papermill": {
     "duration": 1448.95918,
     "end_time": "2021-03-05T20:20:28.314146",
     "exception": false,
     "start_time": "2021-03-05T19:56:19.354966",
     "status": "completed"
    },
    "tags": []
   },
   "outputs": [
    {
     "name": "stdout",
     "output_type": "stream",
     "text": [
      "1  run\n",
      "2  run\n",
      "3  run\n",
      "4  run\n",
      "5  run\n"
     ]
    }
   ],
   "source": [
    "n = .1\n",
    "for i in range(iteration):\n",
    "    \n",
    "    X = dn.iloc[:,0:5].astype('float32')\n",
    "    y = dn['ComboClass']\n",
    "\n",
    "    encoder = LabelEncoder()\n",
    "    encoder.fit(y)\n",
    "    y = encoder.transform(y)\n",
    "\n",
    "    X_train, X_test, y_train, y_test = train_test_split(X, y, test_size = n, random_state=0)\n",
    "    \n",
    "    #time start\n",
    "    start_time = time.time()\n",
    "    \n",
    "    \n",
    "    model = SVC(kernel='poly')\n",
    "    model.fit(X_train,y_train)\n",
    "    \n",
    "    #time end\n",
    "    end_time = time.time()\n",
    "\n",
    "    train_score = model.score(X_train,y_train)\n",
    "    test_score  = model.score(X_test,y_test)\n",
    "    \n",
    "    #time calculation \n",
    "    acc.iloc[i,2] = end_time - start_time\n",
    "    \n",
    "    #Accuracy\n",
    "    acc.iloc[i,0] = train_score\n",
    "    acc.iloc[i,1] = test_score\n",
    "    \n",
    "    #test size\n",
    "    acc.iloc[i,3] = n*100\n",
    "\n",
    "    if n == .1:\n",
    "        n = .2\n",
    "    else :\n",
    "        n = .1\n",
    "    print(i+1,\" run\")"
   ]
  },
  {
   "cell_type": "code",
   "execution_count": 18,
   "metadata": {
    "execution": {
     "iopub.execute_input": "2021-03-05T20:20:29.320195Z",
     "iopub.status.busy": "2021-03-05T20:20:29.319282Z",
     "iopub.status.idle": "2021-03-05T20:20:29.324447Z",
     "shell.execute_reply": "2021-03-05T20:20:29.323806Z"
    },
    "papermill": {
     "duration": 0.517872,
     "end_time": "2021-03-05T20:20:29.324599",
     "exception": false,
     "start_time": "2021-03-05T20:20:28.806727",
     "status": "completed"
    },
    "tags": []
   },
   "outputs": [
    {
     "data": {
      "text/html": [
       "<div>\n",
       "<style scoped>\n",
       "    .dataframe tbody tr th:only-of-type {\n",
       "        vertical-align: middle;\n",
       "    }\n",
       "\n",
       "    .dataframe tbody tr th {\n",
       "        vertical-align: top;\n",
       "    }\n",
       "\n",
       "    .dataframe thead th {\n",
       "        text-align: right;\n",
       "    }\n",
       "</style>\n",
       "<table border=\"1\" class=\"dataframe\">\n",
       "  <thead>\n",
       "    <tr style=\"text-align: right;\">\n",
       "      <th></th>\n",
       "      <th>train_Acc</th>\n",
       "      <th>test_Acc</th>\n",
       "      <th>time</th>\n",
       "      <th>test_size</th>\n",
       "    </tr>\n",
       "  </thead>\n",
       "  <tbody>\n",
       "    <tr>\n",
       "      <th>0</th>\n",
       "      <td>0.77</td>\n",
       "      <td>0.78</td>\n",
       "      <td>212.65</td>\n",
       "      <td>10.0</td>\n",
       "    </tr>\n",
       "    <tr>\n",
       "      <th>1</th>\n",
       "      <td>0.77</td>\n",
       "      <td>0.78</td>\n",
       "      <td>175.65</td>\n",
       "      <td>20.0</td>\n",
       "    </tr>\n",
       "    <tr>\n",
       "      <th>2</th>\n",
       "      <td>0.77</td>\n",
       "      <td>0.78</td>\n",
       "      <td>212.85</td>\n",
       "      <td>10.0</td>\n",
       "    </tr>\n",
       "    <tr>\n",
       "      <th>3</th>\n",
       "      <td>0.77</td>\n",
       "      <td>0.78</td>\n",
       "      <td>175.44</td>\n",
       "      <td>20.0</td>\n",
       "    </tr>\n",
       "    <tr>\n",
       "      <th>4</th>\n",
       "      <td>0.77</td>\n",
       "      <td>0.78</td>\n",
       "      <td>212.13</td>\n",
       "      <td>10.0</td>\n",
       "    </tr>\n",
       "  </tbody>\n",
       "</table>\n",
       "</div>"
      ],
      "text/plain": [
       "   train_Acc  test_Acc    time  test_size\n",
       "0       0.77      0.78  212.65       10.0\n",
       "1       0.77      0.78  175.65       20.0\n",
       "2       0.77      0.78  212.85       10.0\n",
       "3       0.77      0.78  175.44       20.0\n",
       "4       0.77      0.78  212.13       10.0"
      ]
     },
     "execution_count": 18,
     "metadata": {},
     "output_type": "execute_result"
    }
   ],
   "source": [
    "acc = acc.round(2)\n",
    "acc"
   ]
  },
  {
   "cell_type": "code",
   "execution_count": 19,
   "metadata": {
    "execution": {
     "iopub.execute_input": "2021-03-05T20:20:30.332343Z",
     "iopub.status.busy": "2021-03-05T20:20:30.331621Z",
     "iopub.status.idle": "2021-03-05T20:20:30.339155Z",
     "shell.execute_reply": "2021-03-05T20:20:30.339658Z"
    },
    "papermill": {
     "duration": 0.511699,
     "end_time": "2021-03-05T20:20:30.339831",
     "exception": false,
     "start_time": "2021-03-05T20:20:29.828132",
     "status": "completed"
    },
    "tags": []
   },
   "outputs": [
    {
     "data": {
      "text/plain": [
       "train_Acc      0.770\n",
       "test_Acc       0.780\n",
       "time         197.744\n",
       "test_size     14.000\n",
       "dtype: float64"
      ]
     },
     "execution_count": 19,
     "metadata": {},
     "output_type": "execute_result"
    }
   ],
   "source": [
    "SVMAcc = acc.mean()\n",
    "SVMAcc"
   ]
  },
  {
   "cell_type": "markdown",
   "metadata": {
    "papermill": {
     "duration": 0.502249,
     "end_time": "2021-03-05T20:20:31.337635",
     "exception": false,
     "start_time": "2021-03-05T20:20:30.835386",
     "status": "completed"
    },
    "tags": []
   },
   "source": [
    "# KNN"
   ]
  },
  {
   "cell_type": "code",
   "execution_count": 20,
   "metadata": {
    "execution": {
     "iopub.execute_input": "2021-03-05T20:20:32.332630Z",
     "iopub.status.busy": "2021-03-05T20:20:32.331841Z",
     "iopub.status.idle": "2021-03-05T20:20:52.142611Z",
     "shell.execute_reply": "2021-03-05T20:20:52.143136Z"
    },
    "papermill": {
     "duration": 20.312784,
     "end_time": "2021-03-05T20:20:52.143323",
     "exception": false,
     "start_time": "2021-03-05T20:20:31.830539",
     "status": "completed"
    },
    "tags": []
   },
   "outputs": [
    {
     "name": "stdout",
     "output_type": "stream",
     "text": [
      "1  run\n",
      "2  run\n",
      "3  run\n",
      "4  run\n",
      "5  run\n"
     ]
    }
   ],
   "source": [
    "n = .1\n",
    "for i in range(iteration):\n",
    "    \n",
    "    X = dn.iloc[:,0:5].astype('float32')\n",
    "    y = dn['ComboClass']\n",
    "\n",
    "    encoder = LabelEncoder()\n",
    "    encoder.fit(y)\n",
    "    y = encoder.transform(y)\n",
    "\n",
    "    X_train, X_test, y_train, y_test = train_test_split(X, y, test_size = n, random_state=0)\n",
    "\n",
    "    \n",
    "    #time start\n",
    "    start_time = time.time()\n",
    "        \n",
    "    model = KNeighborsClassifier(n_neighbors=3)\n",
    "    model.fit(X_train,y_train)\n",
    "    \n",
    "    #time end\n",
    "    end_time = time.time()\n",
    "\n",
    "    train_score = model.score(X_train,y_train)\n",
    "    test_score  = model.score(X_test,y_test)\n",
    "    \n",
    "    #time calculation \n",
    "    acc.iloc[i,2] = end_time - start_time\n",
    "    \n",
    "    #Accuracy\n",
    "    acc.iloc[i,0] = train_score\n",
    "    acc.iloc[i,1] = test_score\n",
    "    \n",
    "    #test size\n",
    "    acc.iloc[i,3] = n*100\n",
    "    \n",
    "    if n == .1:\n",
    "        n = .2\n",
    "    else :\n",
    "        n = .1\n",
    "    print(i+1,\" run\")"
   ]
  },
  {
   "cell_type": "code",
   "execution_count": 21,
   "metadata": {
    "execution": {
     "iopub.execute_input": "2021-03-05T20:20:53.154267Z",
     "iopub.status.busy": "2021-03-05T20:20:53.153541Z",
     "iopub.status.idle": "2021-03-05T20:20:53.157037Z",
     "shell.execute_reply": "2021-03-05T20:20:53.157558Z"
    },
    "papermill": {
     "duration": 0.517588,
     "end_time": "2021-03-05T20:20:53.157734",
     "exception": false,
     "start_time": "2021-03-05T20:20:52.640146",
     "status": "completed"
    },
    "tags": []
   },
   "outputs": [
    {
     "data": {
      "text/html": [
       "<div>\n",
       "<style scoped>\n",
       "    .dataframe tbody tr th:only-of-type {\n",
       "        vertical-align: middle;\n",
       "    }\n",
       "\n",
       "    .dataframe tbody tr th {\n",
       "        vertical-align: top;\n",
       "    }\n",
       "\n",
       "    .dataframe thead th {\n",
       "        text-align: right;\n",
       "    }\n",
       "</style>\n",
       "<table border=\"1\" class=\"dataframe\">\n",
       "  <thead>\n",
       "    <tr style=\"text-align: right;\">\n",
       "      <th></th>\n",
       "      <th>train_Acc</th>\n",
       "      <th>test_Acc</th>\n",
       "      <th>time</th>\n",
       "      <th>test_size</th>\n",
       "    </tr>\n",
       "  </thead>\n",
       "  <tbody>\n",
       "    <tr>\n",
       "      <th>0</th>\n",
       "      <td>0.87</td>\n",
       "      <td>0.76</td>\n",
       "      <td>0.11</td>\n",
       "      <td>10.0</td>\n",
       "    </tr>\n",
       "    <tr>\n",
       "      <th>1</th>\n",
       "      <td>0.87</td>\n",
       "      <td>0.75</td>\n",
       "      <td>0.10</td>\n",
       "      <td>20.0</td>\n",
       "    </tr>\n",
       "    <tr>\n",
       "      <th>2</th>\n",
       "      <td>0.87</td>\n",
       "      <td>0.76</td>\n",
       "      <td>0.11</td>\n",
       "      <td>10.0</td>\n",
       "    </tr>\n",
       "    <tr>\n",
       "      <th>3</th>\n",
       "      <td>0.87</td>\n",
       "      <td>0.75</td>\n",
       "      <td>0.10</td>\n",
       "      <td>20.0</td>\n",
       "    </tr>\n",
       "    <tr>\n",
       "      <th>4</th>\n",
       "      <td>0.87</td>\n",
       "      <td>0.76</td>\n",
       "      <td>0.11</td>\n",
       "      <td>10.0</td>\n",
       "    </tr>\n",
       "  </tbody>\n",
       "</table>\n",
       "</div>"
      ],
      "text/plain": [
       "   train_Acc  test_Acc  time  test_size\n",
       "0       0.87      0.76  0.11       10.0\n",
       "1       0.87      0.75  0.10       20.0\n",
       "2       0.87      0.76  0.11       10.0\n",
       "3       0.87      0.75  0.10       20.0\n",
       "4       0.87      0.76  0.11       10.0"
      ]
     },
     "execution_count": 21,
     "metadata": {},
     "output_type": "execute_result"
    }
   ],
   "source": [
    "acc = acc.round(2)\n",
    "acc"
   ]
  },
  {
   "cell_type": "code",
   "execution_count": 22,
   "metadata": {
    "execution": {
     "iopub.execute_input": "2021-03-05T20:20:54.159100Z",
     "iopub.status.busy": "2021-03-05T20:20:54.158383Z",
     "iopub.status.idle": "2021-03-05T20:20:54.166086Z",
     "shell.execute_reply": "2021-03-05T20:20:54.166624Z"
    },
    "papermill": {
     "duration": 0.512025,
     "end_time": "2021-03-05T20:20:54.166803",
     "exception": false,
     "start_time": "2021-03-05T20:20:53.654778",
     "status": "completed"
    },
    "tags": []
   },
   "outputs": [
    {
     "data": {
      "text/plain": [
       "train_Acc     0.870\n",
       "test_Acc      0.756\n",
       "time          0.106\n",
       "test_size    14.000\n",
       "dtype: float64"
      ]
     },
     "execution_count": 22,
     "metadata": {},
     "output_type": "execute_result"
    }
   ],
   "source": [
    "KNNAcc = acc.mean()\n",
    "KNNAcc"
   ]
  },
  {
   "cell_type": "markdown",
   "metadata": {
    "papermill": {
     "duration": 0.513068,
     "end_time": "2021-03-05T20:20:55.240418",
     "exception": false,
     "start_time": "2021-03-05T20:20:54.727350",
     "status": "completed"
    },
    "tags": []
   },
   "source": [
    "# GPC"
   ]
  },
  {
   "cell_type": "code",
   "execution_count": 23,
   "metadata": {
    "execution": {
     "iopub.execute_input": "2021-03-05T20:20:56.246247Z",
     "iopub.status.busy": "2021-03-05T20:20:56.245269Z",
     "iopub.status.idle": "2021-03-05T20:37:24.317437Z",
     "shell.execute_reply": "2021-03-05T20:37:24.318320Z"
    },
    "papermill": {
     "duration": 988.575893,
     "end_time": "2021-03-05T20:37:24.318671",
     "exception": false,
     "start_time": "2021-03-05T20:20:55.742778",
     "status": "completed"
    },
    "tags": []
   },
   "outputs": [
    {
     "name": "stdout",
     "output_type": "stream",
     "text": [
      "1  run\n",
      "2  run\n",
      "3  run\n",
      "4  run\n",
      "5  run\n"
     ]
    }
   ],
   "source": [
    "n = .1\n",
    "for i in range(iteration):\n",
    "    \n",
    "    X = dn.iloc[:,0:5].astype('float32')\n",
    "    y = dn['Class'] #.iloc[0:100,-1]\n",
    "\n",
    "    encoder = LabelEncoder()\n",
    "    encoder.fit(y)\n",
    "    y = encoder.transform(y)\n",
    "\n",
    "    X_train, X_test, y_train, y_test = train_test_split(X, y, test_size = n, random_state=0)\n",
    "\n",
    "    \n",
    "    #time start\n",
    "    start_time = time.time()\n",
    "        \n",
    "    model = GaussianProcessClassifier(multi_class='one_vs_one')\n",
    "    model.fit(X_train,y_train)\n",
    "    \n",
    "    #time end\n",
    "    end_time = time.time()\n",
    "\n",
    "    train_score = model.score(X_train,y_train)\n",
    "    test_score  = model.score(X_test,y_test)\n",
    "    \n",
    "    #time calculation \n",
    "    acc.iloc[i,2] = end_time - start_time\n",
    "    \n",
    "    #Accuracy\n",
    "    acc.iloc[i,0] = train_score\n",
    "    acc.iloc[i,1] = test_score\n",
    "    \n",
    "    #test size\n",
    "    acc.iloc[i,3] = n*100\n",
    "\n",
    "    if n == .1:\n",
    "        n = .2\n",
    "    else :\n",
    "        n = .1\n",
    "    print(i+1,\" run\")"
   ]
  },
  {
   "cell_type": "code",
   "execution_count": 24,
   "metadata": {
    "execution": {
     "iopub.execute_input": "2021-03-05T20:37:25.355335Z",
     "iopub.status.busy": "2021-03-05T20:37:25.354541Z",
     "iopub.status.idle": "2021-03-05T20:37:25.357660Z",
     "shell.execute_reply": "2021-03-05T20:37:25.358208Z"
    },
    "papermill": {
     "duration": 0.525825,
     "end_time": "2021-03-05T20:37:25.358391",
     "exception": false,
     "start_time": "2021-03-05T20:37:24.832566",
     "status": "completed"
    },
    "tags": []
   },
   "outputs": [
    {
     "data": {
      "text/html": [
       "<div>\n",
       "<style scoped>\n",
       "    .dataframe tbody tr th:only-of-type {\n",
       "        vertical-align: middle;\n",
       "    }\n",
       "\n",
       "    .dataframe tbody tr th {\n",
       "        vertical-align: top;\n",
       "    }\n",
       "\n",
       "    .dataframe thead th {\n",
       "        text-align: right;\n",
       "    }\n",
       "</style>\n",
       "<table border=\"1\" class=\"dataframe\">\n",
       "  <thead>\n",
       "    <tr style=\"text-align: right;\">\n",
       "      <th></th>\n",
       "      <th>train_Acc</th>\n",
       "      <th>test_Acc</th>\n",
       "      <th>time</th>\n",
       "      <th>test_size</th>\n",
       "    </tr>\n",
       "  </thead>\n",
       "  <tbody>\n",
       "    <tr>\n",
       "      <th>0</th>\n",
       "      <td>1.0</td>\n",
       "      <td>0.75</td>\n",
       "      <td>144.81</td>\n",
       "      <td>10.0</td>\n",
       "    </tr>\n",
       "    <tr>\n",
       "      <th>1</th>\n",
       "      <td>1.0</td>\n",
       "      <td>0.76</td>\n",
       "      <td>102.65</td>\n",
       "      <td>20.0</td>\n",
       "    </tr>\n",
       "    <tr>\n",
       "      <th>2</th>\n",
       "      <td>1.0</td>\n",
       "      <td>0.75</td>\n",
       "      <td>138.78</td>\n",
       "      <td>10.0</td>\n",
       "    </tr>\n",
       "    <tr>\n",
       "      <th>3</th>\n",
       "      <td>1.0</td>\n",
       "      <td>0.76</td>\n",
       "      <td>102.15</td>\n",
       "      <td>20.0</td>\n",
       "    </tr>\n",
       "    <tr>\n",
       "      <th>4</th>\n",
       "      <td>1.0</td>\n",
       "      <td>0.75</td>\n",
       "      <td>152.64</td>\n",
       "      <td>10.0</td>\n",
       "    </tr>\n",
       "  </tbody>\n",
       "</table>\n",
       "</div>"
      ],
      "text/plain": [
       "   train_Acc  test_Acc    time  test_size\n",
       "0        1.0      0.75  144.81       10.0\n",
       "1        1.0      0.76  102.65       20.0\n",
       "2        1.0      0.75  138.78       10.0\n",
       "3        1.0      0.76  102.15       20.0\n",
       "4        1.0      0.75  152.64       10.0"
      ]
     },
     "execution_count": 24,
     "metadata": {},
     "output_type": "execute_result"
    }
   ],
   "source": [
    "acc = acc.round(2)\n",
    "acc"
   ]
  },
  {
   "cell_type": "code",
   "execution_count": 25,
   "metadata": {
    "execution": {
     "iopub.execute_input": "2021-03-05T20:37:26.373077Z",
     "iopub.status.busy": "2021-03-05T20:37:26.372327Z",
     "iopub.status.idle": "2021-03-05T20:37:26.376731Z",
     "shell.execute_reply": "2021-03-05T20:37:26.376189Z"
    },
    "papermill": {
     "duration": 0.516957,
     "end_time": "2021-03-05T20:37:26.376880",
     "exception": false,
     "start_time": "2021-03-05T20:37:25.859923",
     "status": "completed"
    },
    "tags": []
   },
   "outputs": [
    {
     "data": {
      "text/plain": [
       "train_Acc      1.000\n",
       "test_Acc       0.754\n",
       "time         128.206\n",
       "test_size     14.000\n",
       "dtype: float64"
      ]
     },
     "execution_count": 25,
     "metadata": {},
     "output_type": "execute_result"
    }
   ],
   "source": [
    "GPCAcc = acc.mean()\n",
    "GPCAcc"
   ]
  },
  {
   "cell_type": "code",
   "execution_count": 26,
   "metadata": {
    "execution": {
     "iopub.execute_input": "2021-03-05T20:37:27.408049Z",
     "iopub.status.busy": "2021-03-05T20:37:27.407354Z",
     "iopub.status.idle": "2021-03-05T20:37:27.411071Z",
     "shell.execute_reply": "2021-03-05T20:37:27.411680Z"
    },
    "papermill": {
     "duration": 0.530876,
     "end_time": "2021-03-05T20:37:27.411853",
     "exception": false,
     "start_time": "2021-03-05T20:37:26.880977",
     "status": "completed"
    },
    "tags": []
   },
   "outputs": [
    {
     "data": {
      "text/html": [
       "<div>\n",
       "<style scoped>\n",
       "    .dataframe tbody tr th:only-of-type {\n",
       "        vertical-align: middle;\n",
       "    }\n",
       "\n",
       "    .dataframe tbody tr th {\n",
       "        vertical-align: top;\n",
       "    }\n",
       "\n",
       "    .dataframe thead th {\n",
       "        text-align: right;\n",
       "    }\n",
       "</style>\n",
       "<table border=\"1\" class=\"dataframe\">\n",
       "  <thead>\n",
       "    <tr style=\"text-align: right;\">\n",
       "      <th></th>\n",
       "      <th>Performance</th>\n",
       "      <th>ANN</th>\n",
       "      <th>SVM</th>\n",
       "      <th>KNN</th>\n",
       "      <th>GPC</th>\n",
       "    </tr>\n",
       "  </thead>\n",
       "  <tbody>\n",
       "    <tr>\n",
       "      <th>train_Acc</th>\n",
       "      <td>Avg Train Accuracy</td>\n",
       "      <td>0.98</td>\n",
       "      <td>0.77</td>\n",
       "      <td>0.87</td>\n",
       "      <td>1.00</td>\n",
       "    </tr>\n",
       "    <tr>\n",
       "      <th>test_Acc</th>\n",
       "      <td>Avg Test Accuracy</td>\n",
       "      <td>0.98</td>\n",
       "      <td>0.78</td>\n",
       "      <td>0.76</td>\n",
       "      <td>0.75</td>\n",
       "    </tr>\n",
       "    <tr>\n",
       "      <th>time</th>\n",
       "      <td>Avg Run Time</td>\n",
       "      <td>17.35</td>\n",
       "      <td>197.74</td>\n",
       "      <td>0.11</td>\n",
       "      <td>128.21</td>\n",
       "    </tr>\n",
       "    <tr>\n",
       "      <th>test_size</th>\n",
       "      <td>Avg Test size</td>\n",
       "      <td>14.00</td>\n",
       "      <td>14.00</td>\n",
       "      <td>14.00</td>\n",
       "      <td>14.00</td>\n",
       "    </tr>\n",
       "  </tbody>\n",
       "</table>\n",
       "</div>"
      ],
      "text/plain": [
       "                  Performance    ANN     SVM    KNN     GPC\n",
       "train_Acc  Avg Train Accuracy   0.98    0.77   0.87    1.00\n",
       "test_Acc    Avg Test Accuracy   0.98    0.78   0.76    0.75\n",
       "time             Avg Run Time  17.35  197.74   0.11  128.21\n",
       "test_size       Avg Test size  14.00   14.00  14.00   14.00"
      ]
     },
     "execution_count": 26,
     "metadata": {},
     "output_type": "execute_result"
    }
   ],
   "source": [
    "performance = {\n",
    "    \"Performance\" : ['Avg Train Accuracy','Avg Test Accuracy','Avg Run Time','Avg Test size'],\n",
    "    \"ANN\"         : ANNAcc,\n",
    "    \"SVM\"         : SVMAcc,\n",
    "    \"KNN\"         : KNNAcc,\n",
    "    \"GPC\"         : GPCAcc\n",
    "}\n",
    "Performance = pd.DataFrame(performance)\n",
    "Performance = Performance.round(2)\n",
    "Performance"
   ]
  },
  {
   "cell_type": "code",
   "execution_count": 27,
   "metadata": {
    "execution": {
     "iopub.execute_input": "2021-03-05T20:37:28.469392Z",
     "iopub.status.busy": "2021-03-05T20:37:28.468593Z",
     "iopub.status.idle": "2021-03-05T20:37:28.503758Z",
     "shell.execute_reply": "2021-03-05T20:37:28.504339Z"
    },
    "papermill": {
     "duration": 0.547779,
     "end_time": "2021-03-05T20:37:28.504530",
     "exception": false,
     "start_time": "2021-03-05T20:37:27.956751",
     "status": "completed"
    },
    "tags": []
   },
   "outputs": [
    {
     "data": {
      "text/html": [
       "<div>\n",
       "<style scoped>\n",
       "    .dataframe tbody tr th:only-of-type {\n",
       "        vertical-align: middle;\n",
       "    }\n",
       "\n",
       "    .dataframe tbody tr th {\n",
       "        vertical-align: top;\n",
       "    }\n",
       "\n",
       "    .dataframe thead th {\n",
       "        text-align: right;\n",
       "    }\n",
       "</style>\n",
       "<table border=\"1\" class=\"dataframe\">\n",
       "  <thead>\n",
       "    <tr style=\"text-align: right;\">\n",
       "      <th></th>\n",
       "      <th>train_Acc</th>\n",
       "      <th>test_Acc</th>\n",
       "      <th>time</th>\n",
       "      <th>p-w</th>\n",
       "    </tr>\n",
       "  </thead>\n",
       "  <tbody>\n",
       "    <tr>\n",
       "      <th>ANN</th>\n",
       "      <td>0.913043</td>\n",
       "      <td>1.000000</td>\n",
       "      <td>0.912766</td>\n",
       "      <td>0.939075</td>\n",
       "    </tr>\n",
       "    <tr>\n",
       "      <th>SVM</th>\n",
       "      <td>0.000000</td>\n",
       "      <td>0.130435</td>\n",
       "      <td>0.000000</td>\n",
       "      <td>0.039130</td>\n",
       "    </tr>\n",
       "    <tr>\n",
       "      <th>KNN</th>\n",
       "      <td>0.434783</td>\n",
       "      <td>0.043478</td>\n",
       "      <td>1.000000</td>\n",
       "      <td>0.430435</td>\n",
       "    </tr>\n",
       "    <tr>\n",
       "      <th>GPC</th>\n",
       "      <td>1.000000</td>\n",
       "      <td>0.000000</td>\n",
       "      <td>0.351819</td>\n",
       "      <td>0.570364</td>\n",
       "    </tr>\n",
       "  </tbody>\n",
       "</table>\n",
       "</div>"
      ],
      "text/plain": [
       "     train_Acc  test_Acc      time       p-w\n",
       "ANN   0.913043  1.000000  0.912766  0.939075\n",
       "SVM   0.000000  0.130435  0.000000  0.039130\n",
       "KNN   0.434783  0.043478  1.000000  0.430435\n",
       "GPC   1.000000  0.000000  0.351819  0.570364"
      ]
     },
     "execution_count": 27,
     "metadata": {},
     "output_type": "execute_result"
    }
   ],
   "source": [
    "p1 = Performance.iloc[0:3,1:5].T\n",
    "p2 = pd.DataFrame(columns = p1.columns)\n",
    "p2 = p2.T\n",
    "p2[\"max\"] = 0\n",
    "p2[\"min\"] = 0\n",
    "p2 = p2.T\n",
    "for i in range(len(p2.columns)):\n",
    "    p2.iloc[0,i] = p1.iloc[:,i].max()\n",
    "    p2.iloc[1,i] = p1.iloc[:,i].min()\n",
    "\n",
    "# max-min normalizer = 0\n",
    "# linear normalizer = 1\n",
    "normalizer = 0\n",
    "\n",
    "if normalizer == 0 :\n",
    "    for i in range(len(p1.columns)):\n",
    "        if i==2: #Non Beneficial\n",
    "            p1.iloc[:,i] = (p2.iloc[0,i]-p1.iloc[:,i])/(p2.iloc[0,i] - p2.iloc[1,i])\n",
    "        else: #Beneficial\n",
    "            p1.iloc[:,i] = (p1.iloc[:,i]-p2.iloc[1,i])/(p2.iloc[0,i] - p2.iloc[1,i])\n",
    "\n",
    "else:\n",
    "    for i in range(len(p1.columns)):\n",
    "        if i==2: #Non Beneficial\n",
    "            p1.iloc[:,i] = p2.iloc[1,i]/p1.iloc[:,i]\n",
    "\n",
    "        else: #Beneficial\n",
    "            p1.iloc[:,i] = p1.iloc[:,i]/ p2.iloc[0,i]\n",
    "\n",
    "weight = np.array([0.5,0.3,0.2]).reshape(3,1)\n",
    "p1[\"p-w\"] = np.dot(p1,weight)\n",
    "p1"
   ]
  },
  {
   "cell_type": "code",
   "execution_count": 28,
   "metadata": {
    "execution": {
     "iopub.execute_input": "2021-03-05T20:37:29.590531Z",
     "iopub.status.busy": "2021-03-05T20:37:29.589841Z",
     "iopub.status.idle": "2021-03-05T20:37:29.606842Z",
     "shell.execute_reply": "2021-03-05T20:37:29.607519Z"
    },
    "papermill": {
     "duration": 0.537235,
     "end_time": "2021-03-05T20:37:29.607736",
     "exception": false,
     "start_time": "2021-03-05T20:37:29.070501",
     "status": "completed"
    },
    "tags": []
   },
   "outputs": [
    {
     "data": {
      "text/html": [
       "<div>\n",
       "<style scoped>\n",
       "    .dataframe tbody tr th:only-of-type {\n",
       "        vertical-align: middle;\n",
       "    }\n",
       "\n",
       "    .dataframe tbody tr th {\n",
       "        vertical-align: top;\n",
       "    }\n",
       "\n",
       "    .dataframe thead th {\n",
       "        text-align: right;\n",
       "    }\n",
       "</style>\n",
       "<table border=\"1\" class=\"dataframe\">\n",
       "  <thead>\n",
       "    <tr style=\"text-align: right;\">\n",
       "      <th></th>\n",
       "      <th>train_Acc</th>\n",
       "      <th>test_Acc</th>\n",
       "      <th>time</th>\n",
       "      <th>p-w</th>\n",
       "    </tr>\n",
       "  </thead>\n",
       "  <tbody>\n",
       "    <tr>\n",
       "      <th>ANN</th>\n",
       "      <td>0.91</td>\n",
       "      <td>1.00</td>\n",
       "      <td>0.91</td>\n",
       "      <td>0.94</td>\n",
       "    </tr>\n",
       "    <tr>\n",
       "      <th>SVM</th>\n",
       "      <td>0.00</td>\n",
       "      <td>0.13</td>\n",
       "      <td>0.00</td>\n",
       "      <td>0.04</td>\n",
       "    </tr>\n",
       "    <tr>\n",
       "      <th>KNN</th>\n",
       "      <td>0.43</td>\n",
       "      <td>0.04</td>\n",
       "      <td>1.00</td>\n",
       "      <td>0.43</td>\n",
       "    </tr>\n",
       "    <tr>\n",
       "      <th>GPC</th>\n",
       "      <td>1.00</td>\n",
       "      <td>0.00</td>\n",
       "      <td>0.35</td>\n",
       "      <td>0.57</td>\n",
       "    </tr>\n",
       "  </tbody>\n",
       "</table>\n",
       "</div>"
      ],
      "text/plain": [
       "     train_Acc  test_Acc  time   p-w\n",
       "ANN       0.91      1.00  0.91  0.94\n",
       "SVM       0.00      0.13  0.00  0.04\n",
       "KNN       0.43      0.04  1.00  0.43\n",
       "GPC       1.00      0.00  0.35  0.57"
      ]
     },
     "execution_count": 28,
     "metadata": {},
     "output_type": "execute_result"
    }
   ],
   "source": [
    "p1.round(2)"
   ]
  }
 ],
 "metadata": {
  "kernelspec": {
   "display_name": "Python 3",
   "language": "python",
   "name": "python3"
  },
  "language_info": {
   "codemirror_mode": {
    "name": "ipython",
    "version": 3
   },
   "file_extension": ".py",
   "mimetype": "text/x-python",
   "name": "python",
   "nbconvert_exporter": "python",
   "pygments_lexer": "ipython3",
   "version": "3.8.6"
  },
  "papermill": {
   "default_parameters": {},
   "duration": 2774.017222,
   "end_time": "2021-03-05T20:37:31.528138",
   "environment_variables": {},
   "exception": null,
   "input_path": "__notebook__.ipynb",
   "output_path": "__notebook__.ipynb",
   "parameters": {},
   "start_time": "2021-03-05T19:51:17.510916",
   "version": "2.2.2"
  }
 },
 "nbformat": 4,
 "nbformat_minor": 4
}
