{
 "cells": [
  {
   "cell_type": "markdown",
   "metadata": {
    "papermill": {
     "duration": 0.017558,
     "end_time": "2021-03-05T21:50:24.852765",
     "exception": false,
     "start_time": "2021-03-05T21:50:24.835207",
     "status": "completed"
    },
    "tags": []
   },
   "source": [
    "# Importing Libraries"
   ]
  },
  {
   "cell_type": "code",
   "execution_count": 1,
   "metadata": {
    "execution": {
     "iopub.execute_input": "2021-03-05T21:50:24.893584Z",
     "iopub.status.busy": "2021-03-05T21:50:24.892694Z",
     "iopub.status.idle": "2021-03-05T21:50:32.031010Z",
     "shell.execute_reply": "2021-03-05T21:50:32.030300Z"
    },
    "papermill": {
     "duration": 7.161293,
     "end_time": "2021-03-05T21:50:32.031194",
     "exception": false,
     "start_time": "2021-03-05T21:50:24.869901",
     "status": "completed"
    },
    "tags": []
   },
   "outputs": [],
   "source": [
    "import pandas as pd\n",
    "import numpy as np\n",
    "import seaborn as sns\n",
    "\n",
    "import tensorflow as tf\n",
    "import keras\n",
    "from keras.utils import to_categorical\n",
    "from keras.models import Sequential\n",
    "from keras.optimizers import SGD\n",
    "from keras.layers import Dense\n",
    "\n",
    "from sklearn.svm import SVC\n",
    "from sklearn.gaussian_process import GaussianProcessClassifier\n",
    "from sklearn.neighbors import KNeighborsClassifier\n",
    "\n",
    "from sklearn.model_selection import cross_val_score\n",
    "from sklearn.model_selection import StratifiedKFold\n",
    "from sklearn.preprocessing import LabelEncoder\n",
    "from sklearn.model_selection import train_test_split\n",
    "from sklearn.preprocessing import StandardScaler\n",
    "import time"
   ]
  },
  {
   "cell_type": "markdown",
   "metadata": {
    "papermill": {
     "duration": 0.016623,
     "end_time": "2021-03-05T21:50:32.065297",
     "exception": false,
     "start_time": "2021-03-05T21:50:32.048674",
     "status": "completed"
    },
    "tags": []
   },
   "source": [
    "# Importing Data"
   ]
  },
  {
   "cell_type": "code",
   "execution_count": 2,
   "metadata": {
    "execution": {
     "iopub.execute_input": "2021-03-05T21:50:32.104487Z",
     "iopub.status.busy": "2021-03-05T21:50:32.103914Z",
     "iopub.status.idle": "2021-03-05T21:50:32.233259Z",
     "shell.execute_reply": "2021-03-05T21:50:32.233768Z"
    },
    "papermill": {
     "duration": 0.151573,
     "end_time": "2021-03-05T21:50:32.233940",
     "exception": false,
     "start_time": "2021-03-05T21:50:32.082367",
     "status": "completed"
    },
    "tags": []
   },
   "outputs": [],
   "source": [
    "data = pd.read_csv('../input/thesis/dumy100000.csv')"
   ]
  },
  {
   "cell_type": "markdown",
   "metadata": {
    "papermill": {
     "duration": 0.016784,
     "end_time": "2021-03-05T21:50:32.267996",
     "exception": false,
     "start_time": "2021-03-05T21:50:32.251212",
     "status": "completed"
    },
    "tags": []
   },
   "source": [
    "# MCDM"
   ]
  },
  {
   "cell_type": "markdown",
   "metadata": {
    "papermill": {
     "duration": 0.016456,
     "end_time": "2021-03-05T21:50:32.301457",
     "exception": false,
     "start_time": "2021-03-05T21:50:32.285001",
     "status": "completed"
    },
    "tags": []
   },
   "source": [
    "# SAW"
   ]
  },
  {
   "cell_type": "code",
   "execution_count": 3,
   "metadata": {
    "execution": {
     "iopub.execute_input": "2021-03-05T21:50:32.353565Z",
     "iopub.status.busy": "2021-03-05T21:50:32.352923Z",
     "iopub.status.idle": "2021-03-05T21:50:32.851863Z",
     "shell.execute_reply": "2021-03-05T21:50:32.852491Z"
    },
    "papermill": {
     "duration": 0.534058,
     "end_time": "2021-03-05T21:50:32.852720",
     "exception": false,
     "start_time": "2021-03-05T21:50:32.318662",
     "status": "completed"
    },
    "tags": []
   },
   "outputs": [
    {
     "name": "stdout",
     "output_type": "stream",
     "text": [
      "14.43 % -> A: 14431\n",
      "25.85 % -> B: 25850\n",
      "59.72 % -> C: 59719\n",
      "Total:  100000\n"
     ]
    },
    {
     "data": {
      "text/html": [
       "<div>\n",
       "<style scoped>\n",
       "    .dataframe tbody tr th:only-of-type {\n",
       "        vertical-align: middle;\n",
       "    }\n",
       "\n",
       "    .dataframe tbody tr th {\n",
       "        vertical-align: top;\n",
       "    }\n",
       "\n",
       "    .dataframe thead th {\n",
       "        text-align: right;\n",
       "    }\n",
       "</style>\n",
       "<table border=\"1\" class=\"dataframe\">\n",
       "  <thead>\n",
       "    <tr style=\"text-align: right;\">\n",
       "      <th></th>\n",
       "      <th>mfg</th>\n",
       "      <th>sell</th>\n",
       "      <th>demand</th>\n",
       "      <th>fcost</th>\n",
       "      <th>rma</th>\n",
       "      <th>performance</th>\n",
       "      <th>RunCumCost</th>\n",
       "      <th>RunCostPerc</th>\n",
       "      <th>Class</th>\n",
       "    </tr>\n",
       "  </thead>\n",
       "  <tbody>\n",
       "    <tr>\n",
       "      <th>0</th>\n",
       "      <td>71</td>\n",
       "      <td>156.91</td>\n",
       "      <td>1595</td>\n",
       "      <td>49.7</td>\n",
       "      <td>3</td>\n",
       "      <td>0.500506</td>\n",
       "      <td>20035.145963</td>\n",
       "      <td>40.033583</td>\n",
       "      <td>C</td>\n",
       "    </tr>\n",
       "    <tr>\n",
       "      <th>1</th>\n",
       "      <td>474</td>\n",
       "      <td>1047.54</td>\n",
       "      <td>6877</td>\n",
       "      <td>331.8</td>\n",
       "      <td>3</td>\n",
       "      <td>0.698912</td>\n",
       "      <td>45792.067588</td>\n",
       "      <td>91.500235</td>\n",
       "      <td>A</td>\n",
       "    </tr>\n",
       "    <tr>\n",
       "      <th>2</th>\n",
       "      <td>70</td>\n",
       "      <td>154.70</td>\n",
       "      <td>5182</td>\n",
       "      <td>49.0</td>\n",
       "      <td>3</td>\n",
       "      <td>0.696419</td>\n",
       "      <td>45583.448850</td>\n",
       "      <td>91.083379</td>\n",
       "      <td>A</td>\n",
       "    </tr>\n",
       "    <tr>\n",
       "      <th>3</th>\n",
       "      <td>417</td>\n",
       "      <td>921.57</td>\n",
       "      <td>3914</td>\n",
       "      <td>291.9</td>\n",
       "      <td>3</td>\n",
       "      <td>0.549959</td>\n",
       "      <td>27976.109958</td>\n",
       "      <td>55.900962</td>\n",
       "      <td>B</td>\n",
       "    </tr>\n",
       "    <tr>\n",
       "      <th>4</th>\n",
       "      <td>239</td>\n",
       "      <td>528.19</td>\n",
       "      <td>4496</td>\n",
       "      <td>167.3</td>\n",
       "      <td>2</td>\n",
       "      <td>0.521354</td>\n",
       "      <td>23532.483611</td>\n",
       "      <td>47.021851</td>\n",
       "      <td>C</td>\n",
       "    </tr>\n",
       "  </tbody>\n",
       "</table>\n",
       "</div>"
      ],
      "text/plain": [
       "   mfg     sell  demand  fcost  rma  performance    RunCumCost  RunCostPerc  \\\n",
       "0   71   156.91    1595   49.7    3     0.500506  20035.145963    40.033583   \n",
       "1  474  1047.54    6877  331.8    3     0.698912  45792.067588    91.500235   \n",
       "2   70   154.70    5182   49.0    3     0.696419  45583.448850    91.083379   \n",
       "3  417   921.57    3914  291.9    3     0.549959  27976.109958    55.900962   \n",
       "4  239   528.19    4496  167.3    2     0.521354  23532.483611    47.021851   \n",
       "\n",
       "  Class  \n",
       "0     C  \n",
       "1     A  \n",
       "2     A  \n",
       "3     B  \n",
       "4     C  "
      ]
     },
     "execution_count": 3,
     "metadata": {},
     "output_type": "execute_result"
    },
    {
     "data": {
      "image/png": "[encoded data removed]",
      "text/plain": [
       "<Figure size 432x288 with 1 Axes>"
      ]
     },
     "metadata": {
      "needs_background": "light"
     },
     "output_type": "display_data"
    }
   ],
   "source": [
    "dn = 0\n",
    "dn = data.copy()\n",
    "del dn['Unnamed: 0']\n",
    "d1 = dn.copy()\n",
    "\n",
    "d2 = pd.DataFrame(columns = d1.columns)\n",
    "d2 = d2.T\n",
    "d2[\"max\"] = 0\n",
    "d2[\"min\"] = 0\n",
    "d2 = d2.T\n",
    "\n",
    "for i in range(len(d2.columns)):\n",
    "    d2.iloc[0,i] = d1.iloc[:,i].max()\n",
    "    d2.iloc[1,i] = d1.iloc[:,i].min()\n",
    "\n",
    "# max-min normalizer = 0\n",
    "# linear normalizer = 1\n",
    "normalizer = 0\n",
    "\n",
    "if normalizer == 0 :\n",
    "    for i in range(len(d1.columns)):\n",
    "        if i==0 or i==3: #Non Beneficial\n",
    "            d1.iloc[:,i] = (d2.iloc[0,i]-d1.iloc[:,i])/(d2.iloc[0,i] - d2.iloc[1,i])\n",
    "\n",
    "        else: #Beneficial\n",
    "            d1.iloc[:,i] = (d1.iloc[:,i]-d2.iloc[1,i])/(d2.iloc[0,i] - d2.iloc[1,i])\n",
    "\n",
    "else:\n",
    "    for i in range(len(d1.columns)):\n",
    "        if i==0 or i==3: #Non Beneficial\n",
    "            d1.iloc[:,i] = d2.iloc[1,i]/d1.iloc[:,i]\n",
    "\n",
    "        else: #Beneficial\n",
    "            d1.iloc[:,i] = d1.iloc[:,i]/ d2.iloc[0,i]\n",
    "\n",
    "w  = [0.15, 0.20, 0.30, 0.15, 0.20]\n",
    "d1 = d1*w\n",
    "\n",
    "d1['performance'] = d1.iloc[:].sum(axis=1)\n",
    "\n",
    "dn['performance'] = d1['performance']\n",
    "dn = dn.sort_values(by=['performance'], ascending=True)\n",
    "\n",
    "dn['RunCumCost']   = dn['performance'].cumsum()\n",
    "TotSum             = dn['performance'].sum()\n",
    "dn['RunCostPerc']  = (dn['RunCumCost']/TotSum)*100\n",
    "\n",
    "def ABC_segmentation(perc):\n",
    "    '''\n",
    "   top A - top 20%, C - last 50% and B - between A & C  \n",
    "    '''\n",
    "    if perc > 80 :\n",
    "        return 'A'\n",
    "    elif perc >= 50 and perc <= 80:\n",
    "        return 'B'\n",
    "    elif perc < 50:\n",
    "        return 'C'\n",
    "\n",
    "dn['Class'] = dn['RunCostPerc'].apply(ABC_segmentation)\n",
    "\n",
    "ax = sns.countplot(x = dn['Class'],data = dn,label= 'Count')\n",
    "dn['Class'].value_counts()\n",
    "\n",
    "dn['productid'] = dn.index\n",
    "dn = dn.sort_values(by=['productid'], ascending=True)\n",
    "del dn['productid']\n",
    "\n",
    "SAW_Class = dn['Class']\n",
    "\n",
    "C,B,A = dn['Class'].value_counts()\n",
    "print(round(100*A/dn['Class'].value_counts().sum(),2),\"% ->\",\"A:\",A)\n",
    "print(round(100*B/dn['Class'].value_counts().sum(),2),\"% ->\",\"B:\",B)\n",
    "print(round(100*C/dn['Class'].value_counts().sum(),2),\"% ->\",\"C:\",C)\n",
    "print(\"Total: \",dn['Class'].value_counts().sum())\n",
    "dn.head()"
   ]
  },
  {
   "cell_type": "code",
   "execution_count": null,
   "metadata": {
    "papermill": {
     "duration": 0.028852,
     "end_time": "2021-03-05T21:50:32.910723",
     "exception": false,
     "start_time": "2021-03-05T21:50:32.881871",
     "status": "completed"
    },
    "tags": []
   },
   "outputs": [],
   "source": []
  },
  {
   "cell_type": "markdown",
   "metadata": {
    "papermill": {
     "duration": 0.02858,
     "end_time": "2021-03-05T21:50:32.969672",
     "exception": false,
     "start_time": "2021-03-05T21:50:32.941092",
     "status": "completed"
    },
    "tags": []
   },
   "source": [
    "# Machine Learning"
   ]
  },
  {
   "cell_type": "code",
   "execution_count": 4,
   "metadata": {
    "execution": {
     "iopub.execute_input": "2021-03-05T21:50:33.038042Z",
     "iopub.status.busy": "2021-03-05T21:50:33.037226Z",
     "iopub.status.idle": "2021-03-05T21:50:33.040899Z",
     "shell.execute_reply": "2021-03-05T21:50:33.040092Z"
    },
    "papermill": {
     "duration": 0.042428,
     "end_time": "2021-03-05T21:50:33.041059",
     "exception": false,
     "start_time": "2021-03-05T21:50:32.998631",
     "status": "completed"
    },
    "tags": []
   },
   "outputs": [],
   "source": [
    "iteration = 5\n",
    "row_col = np.zeros([iteration,])\n",
    "\n",
    "acc = pd.DataFrame()\n",
    "acc['train_Acc'] = row_col\n",
    "acc['test_Acc']  = row_col\n",
    "acc['time']      = row_col\n",
    "acc['test_size'] = row_col\n",
    "start_time  = 0\n",
    "end_time    = 0\n",
    "train_score = 0\n",
    "test_score  = 0\n",
    "\n",
    "#split_size \n",
    "n = .1"
   ]
  },
  {
   "cell_type": "markdown",
   "metadata": {
    "papermill": {
     "duration": 0.028623,
     "end_time": "2021-03-05T21:50:33.098910",
     "exception": false,
     "start_time": "2021-03-05T21:50:33.070287",
     "status": "completed"
    },
    "tags": []
   },
   "source": [
    "# ANN"
   ]
  },
  {
   "cell_type": "code",
   "execution_count": 5,
   "metadata": {
    "execution": {
     "iopub.execute_input": "2021-03-05T21:50:33.173069Z",
     "iopub.status.busy": "2021-03-05T21:50:33.172213Z",
     "iopub.status.idle": "2021-03-05T21:51:59.299148Z",
     "shell.execute_reply": "2021-03-05T21:51:59.298610Z"
    },
    "papermill": {
     "duration": 86.169476,
     "end_time": "2021-03-05T21:51:59.299280",
     "exception": false,
     "start_time": "2021-03-05T21:50:33.129804",
     "status": "completed"
    },
    "tags": []
   },
   "outputs": [
    {
     "name": "stdout",
     "output_type": "stream",
     "text": [
      "Epoch 1/20\n",
      "633/633 [==============================] - 2s 2ms/step - loss: 0.7534 - accuracy: 0.7458 - val_loss: 0.2294 - val_accuracy: 0.9703\n",
      "Epoch 2/20\n",
      "633/633 [==============================] - 1s 1ms/step - loss: 0.1681 - accuracy: 0.9828 - val_loss: 0.0893 - val_accuracy: 0.9870\n",
      "Epoch 3/20\n",
      "633/633 [==============================] - 1s 1ms/step - loss: 0.0762 - accuracy: 0.9922 - val_loss: 0.0601 - val_accuracy: 0.9887\n",
      "Epoch 4/20\n",
      "633/633 [==============================] - 1s 1ms/step - loss: 0.0525 - accuracy: 0.9948 - val_loss: 0.0462 - val_accuracy: 0.9922\n",
      "Epoch 5/20\n",
      "633/633 [==============================] - 1s 1ms/step - loss: 0.0408 - accuracy: 0.9960 - val_loss: 0.0393 - val_accuracy: 0.9893\n",
      "Epoch 6/20\n",
      "633/633 [==============================] - 1s 1ms/step - loss: 0.0343 - accuracy: 0.9958 - val_loss: 0.0340 - val_accuracy: 0.9914\n",
      "Epoch 7/20\n",
      "633/633 [==============================] - 1s 1ms/step - loss: 0.0287 - accuracy: 0.9969 - val_loss: 0.0291 - val_accuracy: 0.9940\n",
      "Epoch 8/20\n",
      "633/633 [==============================] - 1s 1ms/step - loss: 0.0255 - accuracy: 0.9972 - val_loss: 0.0268 - val_accuracy: 0.9932\n",
      "Epoch 9/20\n",
      "633/633 [==============================] - 1s 1ms/step - loss: 0.0229 - accuracy: 0.9974 - val_loss: 0.0262 - val_accuracy: 0.9919\n",
      "Epoch 10/20\n",
      "633/633 [==============================] - 1s 1ms/step - loss: 0.0210 - accuracy: 0.9973 - val_loss: 0.0235 - val_accuracy: 0.9932\n",
      "Epoch 11/20\n",
      "633/633 [==============================] - 1s 1ms/step - loss: 0.0193 - accuracy: 0.9976 - val_loss: 0.0210 - val_accuracy: 0.9943\n",
      "Epoch 12/20\n",
      "633/633 [==============================] - 1s 1ms/step - loss: 0.0176 - accuracy: 0.9978 - val_loss: 0.0215 - val_accuracy: 0.9931\n",
      "Epoch 13/20\n",
      "633/633 [==============================] - 1s 1ms/step - loss: 0.0158 - accuracy: 0.9979 - val_loss: 0.0208 - val_accuracy: 0.9921\n",
      "Epoch 14/20\n",
      "633/633 [==============================] - 1s 1ms/step - loss: 0.0158 - accuracy: 0.9973 - val_loss: 0.0181 - val_accuracy: 0.9942\n",
      "Epoch 15/20\n",
      "633/633 [==============================] - 1s 1ms/step - loss: 0.0149 - accuracy: 0.9979 - val_loss: 0.0188 - val_accuracy: 0.9923\n",
      "Epoch 16/20\n",
      "633/633 [==============================] - 1s 1ms/step - loss: 0.0139 - accuracy: 0.9975 - val_loss: 0.0188 - val_accuracy: 0.9923\n",
      "Epoch 17/20\n",
      "633/633 [==============================] - 1s 1ms/step - loss: 0.0133 - accuracy: 0.9980 - val_loss: 0.0180 - val_accuracy: 0.9930\n",
      "Epoch 18/20\n",
      "633/633 [==============================] - 1s 1ms/step - loss: 0.0125 - accuracy: 0.9979 - val_loss: 0.0158 - val_accuracy: 0.9942\n",
      "Epoch 19/20\n",
      "633/633 [==============================] - 1s 1ms/step - loss: 0.0121 - accuracy: 0.9981 - val_loss: 0.0185 - val_accuracy: 0.9931\n",
      "Epoch 20/20\n",
      "633/633 [==============================] - 1s 1ms/step - loss: 0.0120 - accuracy: 0.9977 - val_loss: 0.0158 - val_accuracy: 0.9938\n",
      "Epoch 1/20\n",
      "500/500 [==============================] - 1s 2ms/step - loss: 0.9427 - accuracy: 0.6090 - val_loss: 0.4895 - val_accuracy: 0.8090\n",
      "Epoch 2/20\n",
      "500/500 [==============================] - 1s 1ms/step - loss: 0.4188 - accuracy: 0.8294 - val_loss: 0.2606 - val_accuracy: 0.8430\n",
      "Epoch 3/20\n",
      "500/500 [==============================] - 1s 1ms/step - loss: 0.2257 - accuracy: 0.9346 - val_loss: 0.1551 - val_accuracy: 0.9776\n",
      "Epoch 4/20\n",
      "500/500 [==============================] - 1s 1ms/step - loss: 0.1387 - accuracy: 0.9836 - val_loss: 0.1045 - val_accuracy: 0.9858\n",
      "Epoch 5/20\n",
      "500/500 [==============================] - 1s 1ms/step - loss: 0.0955 - accuracy: 0.9917 - val_loss: 0.0763 - val_accuracy: 0.9912\n",
      "Epoch 6/20\n",
      "500/500 [==============================] - 1s 1ms/step - loss: 0.0720 - accuracy: 0.9948 - val_loss: 0.0594 - val_accuracy: 0.9932\n",
      "Epoch 7/20\n",
      "500/500 [==============================] - 1s 1ms/step - loss: 0.0559 - accuracy: 0.9958 - val_loss: 0.0484 - val_accuracy: 0.9933\n",
      "Epoch 8/20\n",
      "500/500 [==============================] - 1s 1ms/step - loss: 0.0452 - accuracy: 0.9960 - val_loss: 0.0406 - val_accuracy: 0.9954\n",
      "Epoch 9/20\n",
      "500/500 [==============================] - 1s 1ms/step - loss: 0.0392 - accuracy: 0.9957 - val_loss: 0.0351 - val_accuracy: 0.9944\n",
      "Epoch 10/20\n",
      "500/500 [==============================] - 1s 1ms/step - loss: 0.0341 - accuracy: 0.9966 - val_loss: 0.0311 - val_accuracy: 0.9946\n",
      "Epoch 11/20\n",
      "500/500 [==============================] - 1s 1ms/step - loss: 0.0295 - accuracy: 0.9970 - val_loss: 0.0275 - val_accuracy: 0.9962\n",
      "Epoch 12/20\n",
      "500/500 [==============================] - 1s 1ms/step - loss: 0.0265 - accuracy: 0.9968 - val_loss: 0.0251 - val_accuracy: 0.9954\n",
      "Epoch 13/20\n",
      "500/500 [==============================] - 1s 1ms/step - loss: 0.0239 - accuracy: 0.9975 - val_loss: 0.0230 - val_accuracy: 0.9958\n",
      "Epoch 14/20\n",
      "500/500 [==============================] - 1s 1ms/step - loss: 0.0224 - accuracy: 0.9971 - val_loss: 0.0226 - val_accuracy: 0.9929\n",
      "Epoch 15/20\n",
      "500/500 [==============================] - 1s 1ms/step - loss: 0.0203 - accuracy: 0.9976 - val_loss: 0.0225 - val_accuracy: 0.9930\n",
      "Epoch 16/20\n",
      "500/500 [==============================] - 1s 1ms/step - loss: 0.0188 - accuracy: 0.9970 - val_loss: 0.0209 - val_accuracy: 0.9938\n",
      "Epoch 17/20\n",
      "500/500 [==============================] - 1s 1ms/step - loss: 0.0180 - accuracy: 0.9972 - val_loss: 0.0189 - val_accuracy: 0.9946\n",
      "Epoch 18/20\n",
      "500/500 [==============================] - 1s 1ms/step - loss: 0.0171 - accuracy: 0.9974 - val_loss: 0.0169 - val_accuracy: 0.9960\n",
      "Epoch 19/20\n",
      "500/500 [==============================] - 1s 1ms/step - loss: 0.0162 - accuracy: 0.9974 - val_loss: 0.0179 - val_accuracy: 0.9940\n",
      "Epoch 20/20\n",
      "500/500 [==============================] - 1s 1ms/step - loss: 0.0156 - accuracy: 0.9972 - val_loss: 0.0174 - val_accuracy: 0.9932\n",
      "Epoch 1/20\n",
      "633/633 [==============================] - 1s 1ms/step - loss: 0.7680 - accuracy: 0.6386 - val_loss: 0.4006 - val_accuracy: 0.8244\n",
      "Epoch 2/20\n",
      "633/633 [==============================] - 1s 1ms/step - loss: 0.3377 - accuracy: 0.8852 - val_loss: 0.1903 - val_accuracy: 0.9661\n",
      "Epoch 3/20\n",
      "633/633 [==============================] - 1s 1ms/step - loss: 0.1582 - accuracy: 0.9798 - val_loss: 0.1072 - val_accuracy: 0.9837\n",
      "Epoch 4/20\n",
      "633/633 [==============================] - 1s 1ms/step - loss: 0.0929 - accuracy: 0.9929 - val_loss: 0.0720 - val_accuracy: 0.9931\n",
      "Epoch 5/20\n",
      "633/633 [==============================] - 1s 1ms/step - loss: 0.0645 - accuracy: 0.9956 - val_loss: 0.0544 - val_accuracy: 0.9933\n",
      "Epoch 6/20\n",
      "633/633 [==============================] - 1s 1ms/step - loss: 0.0488 - accuracy: 0.9966 - val_loss: 0.0434 - val_accuracy: 0.9930\n",
      "Epoch 7/20\n",
      "633/633 [==============================] - 1s 1ms/step - loss: 0.0385 - accuracy: 0.9969 - val_loss: 0.0378 - val_accuracy: 0.9919\n",
      "Epoch 8/20\n",
      "633/633 [==============================] - 1s 1ms/step - loss: 0.0320 - accuracy: 0.9968 - val_loss: 0.0340 - val_accuracy: 0.9918\n",
      "Epoch 9/20\n",
      "633/633 [==============================] - 1s 1ms/step - loss: 0.0276 - accuracy: 0.9971 - val_loss: 0.0267 - val_accuracy: 0.9949\n",
      "Epoch 10/20\n",
      "633/633 [==============================] - 1s 1ms/step - loss: 0.0235 - accuracy: 0.9973 - val_loss: 0.0258 - val_accuracy: 0.9940\n",
      "Epoch 11/20\n",
      "633/633 [==============================] - 1s 1ms/step - loss: 0.0213 - accuracy: 0.9978 - val_loss: 0.0228 - val_accuracy: 0.9938\n",
      "Epoch 12/20\n",
      "633/633 [==============================] - 1s 1ms/step - loss: 0.0194 - accuracy: 0.9975 - val_loss: 0.0226 - val_accuracy: 0.9924\n",
      "Epoch 13/20\n",
      "633/633 [==============================] - 1s 1ms/step - loss: 0.0176 - accuracy: 0.9976 - val_loss: 0.0194 - val_accuracy: 0.9943\n",
      "Epoch 14/20\n",
      "633/633 [==============================] - 1s 1ms/step - loss: 0.0160 - accuracy: 0.9978 - val_loss: 0.0200 - val_accuracy: 0.9921\n",
      "Epoch 15/20\n",
      "633/633 [==============================] - 1s 1ms/step - loss: 0.0157 - accuracy: 0.9979 - val_loss: 0.0190 - val_accuracy: 0.9940\n",
      "Epoch 16/20\n",
      "633/633 [==============================] - 1s 1ms/step - loss: 0.0140 - accuracy: 0.9980 - val_loss: 0.0211 - val_accuracy: 0.9914\n",
      "Epoch 17/20\n",
      "633/633 [==============================] - 1s 1ms/step - loss: 0.0137 - accuracy: 0.9974 - val_loss: 0.0182 - val_accuracy: 0.9930\n",
      "Epoch 18/20\n",
      "633/633 [==============================] - 1s 1ms/step - loss: 0.0128 - accuracy: 0.9980 - val_loss: 0.0177 - val_accuracy: 0.9932\n",
      "Epoch 19/20\n",
      "633/633 [==============================] - 1s 1ms/step - loss: 0.0121 - accuracy: 0.9980 - val_loss: 0.0174 - val_accuracy: 0.9931\n",
      "Epoch 20/20\n",
      "633/633 [==============================] - 1s 1ms/step - loss: 0.0119 - accuracy: 0.9978 - val_loss: 0.0141 - val_accuracy: 0.9943\n",
      "Epoch 1/20\n",
      "500/500 [==============================] - 1s 2ms/step - loss: 0.9685 - accuracy: 0.5783 - val_loss: 0.5623 - val_accuracy: 0.7966\n",
      "Epoch 2/20\n",
      "500/500 [==============================] - 1s 1ms/step - loss: 0.5131 - accuracy: 0.8115 - val_loss: 0.4289 - val_accuracy: 0.8266\n",
      "Epoch 3/20\n",
      "500/500 [==============================] - 1s 1ms/step - loss: 0.4060 - accuracy: 0.8380 - val_loss: 0.3751 - val_accuracy: 0.8359\n",
      "Epoch 4/20\n",
      "500/500 [==============================] - 1s 1ms/step - loss: 0.3617 - accuracy: 0.8440 - val_loss: 0.3439 - val_accuracy: 0.8392\n",
      "Epoch 5/20\n",
      "500/500 [==============================] - 1s 1ms/step - loss: 0.3318 - accuracy: 0.8499 - val_loss: 0.3241 - val_accuracy: 0.8409\n",
      "Epoch 6/20\n",
      "500/500 [==============================] - 1s 1ms/step - loss: 0.3143 - accuracy: 0.8510 - val_loss: 0.3106 - val_accuracy: 0.8408\n",
      "Epoch 7/20\n",
      "500/500 [==============================] - 1s 1ms/step - loss: 0.3020 - accuracy: 0.8505 - val_loss: 0.3000 - val_accuracy: 0.8433\n",
      "Epoch 8/20\n",
      "500/500 [==============================] - 1s 1ms/step - loss: 0.2945 - accuracy: 0.8500 - val_loss: 0.2920 - val_accuracy: 0.8435\n",
      "Epoch 9/20\n",
      "500/500 [==============================] - 1s 1ms/step - loss: 0.2836 - accuracy: 0.8534 - val_loss: 0.2859 - val_accuracy: 0.8410\n",
      "Epoch 10/20\n",
      "500/500 [==============================] - 1s 1ms/step - loss: 0.2808 - accuracy: 0.8486 - val_loss: 0.2800 - val_accuracy: 0.8432\n",
      "Epoch 11/20\n",
      "500/500 [==============================] - 1s 1ms/step - loss: 0.2743 - accuracy: 0.8490 - val_loss: 0.2755 - val_accuracy: 0.8410\n",
      "Epoch 12/20\n",
      "500/500 [==============================] - 1s 1ms/step - loss: 0.2695 - accuracy: 0.8497 - val_loss: 0.2715 - val_accuracy: 0.8382\n",
      "Epoch 13/20\n",
      "500/500 [==============================] - 1s 1ms/step - loss: 0.2652 - accuracy: 0.8489 - val_loss: 0.2639 - val_accuracy: 0.8421\n",
      "Epoch 14/20\n",
      "500/500 [==============================] - 1s 1ms/step - loss: 0.2561 - accuracy: 0.8474 - val_loss: 0.2540 - val_accuracy: 0.8372\n",
      "Epoch 15/20\n",
      "500/500 [==============================] - 1s 1ms/step - loss: 0.2458 - accuracy: 0.8422 - val_loss: 0.2335 - val_accuracy: 0.8833\n",
      "Epoch 16/20\n",
      "500/500 [==============================] - 1s 1ms/step - loss: 0.2165 - accuracy: 0.9107 - val_loss: 0.1559 - val_accuracy: 0.9770\n",
      "Epoch 17/20\n",
      "500/500 [==============================] - 1s 1ms/step - loss: 0.1491 - accuracy: 0.9742 - val_loss: 0.1289 - val_accuracy: 0.9760\n",
      "Epoch 18/20\n",
      "500/500 [==============================] - 1s 1ms/step - loss: 0.1261 - accuracy: 0.9772 - val_loss: 0.1138 - val_accuracy: 0.9778\n",
      "Epoch 19/20\n",
      "500/500 [==============================] - 1s 1ms/step - loss: 0.1145 - accuracy: 0.9796 - val_loss: 0.1053 - val_accuracy: 0.9797\n",
      "Epoch 20/20\n",
      "500/500 [==============================] - 1s 1ms/step - loss: 0.1052 - accuracy: 0.9831 - val_loss: 0.0998 - val_accuracy: 0.9756\n",
      "Epoch 1/20\n",
      "633/633 [==============================] - 1s 1ms/step - loss: 0.8508 - accuracy: 0.5980 - val_loss: 0.2921 - val_accuracy: 0.9246\n",
      "Epoch 2/20\n",
      "633/633 [==============================] - 1s 1ms/step - loss: 0.2249 - accuracy: 0.9502 - val_loss: 0.1180 - val_accuracy: 0.9813\n",
      "Epoch 3/20\n",
      "633/633 [==============================] - 1s 1ms/step - loss: 0.0981 - accuracy: 0.9884 - val_loss: 0.0714 - val_accuracy: 0.9903\n",
      "Epoch 4/20\n",
      "633/633 [==============================] - 1s 1ms/step - loss: 0.0628 - accuracy: 0.9925 - val_loss: 0.0526 - val_accuracy: 0.9933\n",
      "Epoch 5/20\n",
      "633/633 [==============================] - 1s 1ms/step - loss: 0.0472 - accuracy: 0.9950 - val_loss: 0.0439 - val_accuracy: 0.9899\n",
      "Epoch 6/20\n",
      "633/633 [==============================] - 1s 1ms/step - loss: 0.0386 - accuracy: 0.9962 - val_loss: 0.0370 - val_accuracy: 0.9920\n",
      "Epoch 7/20\n",
      "633/633 [==============================] - 1s 1ms/step - loss: 0.0330 - accuracy: 0.9960 - val_loss: 0.0319 - val_accuracy: 0.9939\n",
      "Epoch 8/20\n",
      "633/633 [==============================] - 1s 1ms/step - loss: 0.0277 - accuracy: 0.9972 - val_loss: 0.0300 - val_accuracy: 0.9918\n",
      "Epoch 9/20\n",
      "633/633 [==============================] - 1s 1ms/step - loss: 0.0242 - accuracy: 0.9976 - val_loss: 0.0266 - val_accuracy: 0.9928\n",
      "Epoch 10/20\n",
      "633/633 [==============================] - 1s 1ms/step - loss: 0.0222 - accuracy: 0.9970 - val_loss: 0.0241 - val_accuracy: 0.9937\n",
      "Epoch 11/20\n",
      "633/633 [==============================] - 1s 1ms/step - loss: 0.0204 - accuracy: 0.9978 - val_loss: 0.0242 - val_accuracy: 0.9930\n",
      "Epoch 12/20\n",
      "633/633 [==============================] - 1s 1ms/step - loss: 0.0193 - accuracy: 0.9972 - val_loss: 0.0229 - val_accuracy: 0.9934\n",
      "Epoch 13/20\n",
      "633/633 [==============================] - 1s 1ms/step - loss: 0.0184 - accuracy: 0.9975 - val_loss: 0.0237 - val_accuracy: 0.9917\n",
      "Epoch 14/20\n",
      "633/633 [==============================] - 1s 1ms/step - loss: 0.0165 - accuracy: 0.9977 - val_loss: 0.0194 - val_accuracy: 0.9939\n",
      "Epoch 15/20\n",
      "633/633 [==============================] - 1s 1ms/step - loss: 0.0157 - accuracy: 0.9979 - val_loss: 0.0197 - val_accuracy: 0.9936\n",
      "Epoch 16/20\n",
      "633/633 [==============================] - 1s 1ms/step - loss: 0.0151 - accuracy: 0.9974 - val_loss: 0.0193 - val_accuracy: 0.9927\n",
      "Epoch 17/20\n",
      "633/633 [==============================] - 1s 1ms/step - loss: 0.0144 - accuracy: 0.9977 - val_loss: 0.0188 - val_accuracy: 0.9932\n",
      "Epoch 18/20\n",
      "633/633 [==============================] - 1s 1ms/step - loss: 0.0135 - accuracy: 0.9975 - val_loss: 0.0188 - val_accuracy: 0.9930\n",
      "Epoch 19/20\n",
      "633/633 [==============================] - 1s 1ms/step - loss: 0.0130 - accuracy: 0.9977 - val_loss: 0.0160 - val_accuracy: 0.9943\n",
      "Epoch 20/20\n",
      "633/633 [==============================] - 1s 1ms/step - loss: 0.0127 - accuracy: 0.9979 - val_loss: 0.0180 - val_accuracy: 0.9933\n"
     ]
    }
   ],
   "source": [
    "for i in range(iteration):\n",
    "      \n",
    "    X = dn.iloc[:,0:5].astype('float32')\n",
    "    y = dn['Class'] #.iloc[0:100,-1] \n",
    "\n",
    "    encoder = LabelEncoder()\n",
    "    encoder.fit(y)\n",
    "    y = encoder.transform(y)\n",
    "\n",
    "    y = to_categorical(y)\n",
    "\n",
    "    X_train,X_test,y_train,y_test = train_test_split(X, y ,test_size = n, random_state=0)\n",
    "    X_train,X_val,y_train,y_val = train_test_split(X_train, y_train ,test_size = n, random_state=0)\n",
    "\n",
    "    sc = StandardScaler()\n",
    "    X_train = sc.fit_transform(X_train)\n",
    "    X_test  = sc.fit_transform(X_test)\n",
    "    X_val  = sc.fit_transform(X_val)\n",
    "           \n",
    "    #time start\n",
    "    start_time = time.time()\n",
    "    \n",
    "    model = Sequential()\n",
    "    model.add(Dense(5, activation='relu', input_shape=(X_train.shape[1],)))\n",
    "    model.add(Dense(3, activation='relu'))\n",
    "    model.add(Dense(3, activation='softmax'))\n",
    "    model.compile(loss='categorical_crossentropy', optimizer='adam', metrics=['accuracy'])\n",
    "    model.fit(X_train,y_train,batch_size = 128, epochs = 20, validation_data = (X_val,y_val))\n",
    "\n",
    "    #time end\n",
    "    end_time = time.time()\n",
    "        \n",
    "    train_score = model.evaluate(X_train,y_train,verbose=0)\n",
    "    test_score = model.evaluate(X_test,y_test,verbose=0)\n",
    "       \n",
    "    #time calculation \n",
    "    acc.iloc[i,2] = end_time - start_time\n",
    "    \n",
    "    #Accuracy\n",
    "    acc.iloc[i,0] = train_score[1]*100\n",
    "    acc.iloc[i,1] = train_score[1]*100\n",
    "    \n",
    "    #test size\n",
    "    acc.iloc[i,3] = n*100\n",
    "    \n",
    "    if n == .1:\n",
    "        n = .2\n",
    "    else :\n",
    "        n = .1"
   ]
  },
  {
   "cell_type": "code",
   "execution_count": 6,
   "metadata": {
    "execution": {
     "iopub.execute_input": "2021-03-05T21:52:00.203972Z",
     "iopub.status.busy": "2021-03-05T21:52:00.199477Z",
     "iopub.status.idle": "2021-03-05T21:52:00.208939Z",
     "shell.execute_reply": "2021-03-05T21:52:00.209444Z"
    },
    "papermill": {
     "duration": 0.462447,
     "end_time": "2021-03-05T21:52:00.209642",
     "exception": false,
     "start_time": "2021-03-05T21:51:59.747195",
     "status": "completed"
    },
    "tags": []
   },
   "outputs": [
    {
     "data": {
      "text/html": [
       "<div>\n",
       "<style scoped>\n",
       "    .dataframe tbody tr th:only-of-type {\n",
       "        vertical-align: middle;\n",
       "    }\n",
       "\n",
       "    .dataframe tbody tr th {\n",
       "        vertical-align: top;\n",
       "    }\n",
       "\n",
       "    .dataframe thead th {\n",
       "        text-align: right;\n",
       "    }\n",
       "</style>\n",
       "<table border=\"1\" class=\"dataframe\">\n",
       "  <thead>\n",
       "    <tr style=\"text-align: right;\">\n",
       "      <th></th>\n",
       "      <th>train_Acc</th>\n",
       "      <th>test_Acc</th>\n",
       "      <th>time</th>\n",
       "      <th>test_size</th>\n",
       "    </tr>\n",
       "  </thead>\n",
       "  <tbody>\n",
       "    <tr>\n",
       "      <th>0</th>\n",
       "      <td>99.81</td>\n",
       "      <td>99.81</td>\n",
       "      <td>16.34</td>\n",
       "      <td>10.0</td>\n",
       "    </tr>\n",
       "    <tr>\n",
       "      <th>1</th>\n",
       "      <td>99.84</td>\n",
       "      <td>99.84</td>\n",
       "      <td>13.22</td>\n",
       "      <td>20.0</td>\n",
       "    </tr>\n",
       "    <tr>\n",
       "      <th>2</th>\n",
       "      <td>99.80</td>\n",
       "      <td>99.80</td>\n",
       "      <td>15.70</td>\n",
       "      <td>10.0</td>\n",
       "    </tr>\n",
       "    <tr>\n",
       "      <th>3</th>\n",
       "      <td>97.95</td>\n",
       "      <td>97.95</td>\n",
       "      <td>13.45</td>\n",
       "      <td>20.0</td>\n",
       "    </tr>\n",
       "    <tr>\n",
       "      <th>4</th>\n",
       "      <td>99.81</td>\n",
       "      <td>99.81</td>\n",
       "      <td>15.58</td>\n",
       "      <td>10.0</td>\n",
       "    </tr>\n",
       "  </tbody>\n",
       "</table>\n",
       "</div>"
      ],
      "text/plain": [
       "   train_Acc  test_Acc   time  test_size\n",
       "0      99.81     99.81  16.34       10.0\n",
       "1      99.84     99.84  13.22       20.0\n",
       "2      99.80     99.80  15.70       10.0\n",
       "3      97.95     97.95  13.45       20.0\n",
       "4      99.81     99.81  15.58       10.0"
      ]
     },
     "execution_count": 6,
     "metadata": {},
     "output_type": "execute_result"
    }
   ],
   "source": [
    "acc = acc.round(2)\n",
    "acc"
   ]
  },
  {
   "cell_type": "code",
   "execution_count": 7,
   "metadata": {
    "execution": {
     "iopub.execute_input": "2021-03-05T21:52:01.100656Z",
     "iopub.status.busy": "2021-03-05T21:52:01.099786Z",
     "iopub.status.idle": "2021-03-05T21:52:01.108211Z",
     "shell.execute_reply": "2021-03-05T21:52:01.108765Z"
    },
    "papermill": {
     "duration": 0.453486,
     "end_time": "2021-03-05T21:52:01.108915",
     "exception": false,
     "start_time": "2021-03-05T21:52:00.655429",
     "status": "completed"
    },
    "tags": []
   },
   "outputs": [
    {
     "data": {
      "text/plain": [
       "train_Acc    99.442\n",
       "test_Acc     99.442\n",
       "time         14.858\n",
       "test_size    14.000\n",
       "dtype: float64"
      ]
     },
     "execution_count": 7,
     "metadata": {},
     "output_type": "execute_result"
    }
   ],
   "source": [
    "ANNAcc = acc.mean()\n",
    "ANNAcc"
   ]
  },
  {
   "cell_type": "markdown",
   "metadata": {
    "papermill": {
     "duration": 0.442962,
     "end_time": "2021-03-05T21:52:01.994566",
     "exception": false,
     "start_time": "2021-03-05T21:52:01.551604",
     "status": "completed"
    },
    "tags": []
   },
   "source": [
    "# SVM"
   ]
  },
  {
   "cell_type": "code",
   "execution_count": 8,
   "metadata": {
    "execution": {
     "iopub.execute_input": "2021-03-05T21:52:02.875763Z",
     "iopub.status.busy": "2021-03-05T21:52:02.874883Z",
     "iopub.status.idle": "2021-03-05T22:41:23.765385Z",
     "shell.execute_reply": "2021-03-05T22:41:23.765912Z"
    },
    "papermill": {
     "duration": 2961.331771,
     "end_time": "2021-03-05T22:41:23.766071",
     "exception": false,
     "start_time": "2021-03-05T21:52:02.434300",
     "status": "completed"
    },
    "tags": []
   },
   "outputs": [
    {
     "name": "stdout",
     "output_type": "stream",
     "text": [
      "1  run\n",
      "2  run\n",
      "3  run\n",
      "4  run\n",
      "5  run\n"
     ]
    }
   ],
   "source": [
    "n = .1\n",
    "for i in range(iteration):\n",
    "    \n",
    "    X = dn.iloc[:,0:5].astype('float32')\n",
    "    y = dn['Class']\n",
    "\n",
    "    encoder = LabelEncoder()\n",
    "    encoder.fit(y)\n",
    "    y = encoder.transform(y)\n",
    "\n",
    "    X_train, X_test, y_train, y_test = train_test_split(X, y, test_size = n, random_state=0)\n",
    "    \n",
    "    #time start\n",
    "    start_time = time.time()\n",
    "    \n",
    "    \n",
    "    model = SVC(kernel='poly')\n",
    "    model.fit(X_train,y_train)\n",
    "    \n",
    "    #time end\n",
    "    end_time = time.time()\n",
    "\n",
    "    train_score = model.score(X_train,y_train)\n",
    "    test_score  = model.score(X_test,y_test)\n",
    "    \n",
    "    #time calculation \n",
    "    acc.iloc[i,2] = end_time - start_time\n",
    "    \n",
    "    #Accuracy\n",
    "    acc.iloc[i,0] = train_score*100\n",
    "    acc.iloc[i,1] = test_score*100\n",
    "    \n",
    "    #test size\n",
    "    acc.iloc[i,3] = n*100\n",
    "\n",
    "    if n == .1:\n",
    "        n = .2\n",
    "    else :\n",
    "        n = .1\n",
    "    print(i+1,\" run\")"
   ]
  },
  {
   "cell_type": "code",
   "execution_count": 9,
   "metadata": {
    "execution": {
     "iopub.execute_input": "2021-03-05T22:41:24.851813Z",
     "iopub.status.busy": "2021-03-05T22:41:24.851010Z",
     "iopub.status.idle": "2021-03-05T22:41:24.864608Z",
     "shell.execute_reply": "2021-03-05T22:41:24.865293Z"
    },
    "papermill": {
     "duration": 0.653561,
     "end_time": "2021-03-05T22:41:24.865492",
     "exception": false,
     "start_time": "2021-03-05T22:41:24.211931",
     "status": "completed"
    },
    "tags": []
   },
   "outputs": [
    {
     "data": {
      "text/html": [
       "<div>\n",
       "<style scoped>\n",
       "    .dataframe tbody tr th:only-of-type {\n",
       "        vertical-align: middle;\n",
       "    }\n",
       "\n",
       "    .dataframe tbody tr th {\n",
       "        vertical-align: top;\n",
       "    }\n",
       "\n",
       "    .dataframe thead th {\n",
       "        text-align: right;\n",
       "    }\n",
       "</style>\n",
       "<table border=\"1\" class=\"dataframe\">\n",
       "  <thead>\n",
       "    <tr style=\"text-align: right;\">\n",
       "      <th></th>\n",
       "      <th>train_Acc</th>\n",
       "      <th>test_Acc</th>\n",
       "      <th>time</th>\n",
       "      <th>test_size</th>\n",
       "    </tr>\n",
       "  </thead>\n",
       "  <tbody>\n",
       "    <tr>\n",
       "      <th>0</th>\n",
       "      <td>64.60</td>\n",
       "      <td>65.28</td>\n",
       "      <td>528.50</td>\n",
       "      <td>10.0</td>\n",
       "    </tr>\n",
       "    <tr>\n",
       "      <th>1</th>\n",
       "      <td>64.59</td>\n",
       "      <td>64.84</td>\n",
       "      <td>297.06</td>\n",
       "      <td>20.0</td>\n",
       "    </tr>\n",
       "    <tr>\n",
       "      <th>2</th>\n",
       "      <td>64.60</td>\n",
       "      <td>65.28</td>\n",
       "      <td>281.57</td>\n",
       "      <td>10.0</td>\n",
       "    </tr>\n",
       "    <tr>\n",
       "      <th>3</th>\n",
       "      <td>64.59</td>\n",
       "      <td>64.84</td>\n",
       "      <td>354.49</td>\n",
       "      <td>20.0</td>\n",
       "    </tr>\n",
       "    <tr>\n",
       "      <th>4</th>\n",
       "      <td>64.60</td>\n",
       "      <td>65.28</td>\n",
       "      <td>376.64</td>\n",
       "      <td>10.0</td>\n",
       "    </tr>\n",
       "  </tbody>\n",
       "</table>\n",
       "</div>"
      ],
      "text/plain": [
       "   train_Acc  test_Acc    time  test_size\n",
       "0      64.60     65.28  528.50       10.0\n",
       "1      64.59     64.84  297.06       20.0\n",
       "2      64.60     65.28  281.57       10.0\n",
       "3      64.59     64.84  354.49       20.0\n",
       "4      64.60     65.28  376.64       10.0"
      ]
     },
     "execution_count": 9,
     "metadata": {},
     "output_type": "execute_result"
    }
   ],
   "source": [
    "acc = acc.round(2)\n",
    "acc"
   ]
  },
  {
   "cell_type": "code",
   "execution_count": 10,
   "metadata": {
    "execution": {
     "iopub.execute_input": "2021-03-05T22:41:26.273343Z",
     "iopub.status.busy": "2021-03-05T22:41:26.272590Z",
     "iopub.status.idle": "2021-03-05T22:41:26.279981Z",
     "shell.execute_reply": "2021-03-05T22:41:26.279184Z"
    },
    "papermill": {
     "duration": 0.711112,
     "end_time": "2021-03-05T22:41:26.280131",
     "exception": false,
     "start_time": "2021-03-05T22:41:25.569019",
     "status": "completed"
    },
    "tags": []
   },
   "outputs": [
    {
     "data": {
      "text/plain": [
       "train_Acc     64.596\n",
       "test_Acc      65.104\n",
       "time         367.652\n",
       "test_size     14.000\n",
       "dtype: float64"
      ]
     },
     "execution_count": 10,
     "metadata": {},
     "output_type": "execute_result"
    }
   ],
   "source": [
    "SVMAcc = acc.mean()\n",
    "SVMAcc"
   ]
  },
  {
   "cell_type": "markdown",
   "metadata": {
    "papermill": {
     "duration": 0.750391,
     "end_time": "2021-03-05T22:41:27.754353",
     "exception": false,
     "start_time": "2021-03-05T22:41:27.003962",
     "status": "completed"
    },
    "tags": []
   },
   "source": [
    "# KNN"
   ]
  },
  {
   "cell_type": "code",
   "execution_count": 11,
   "metadata": {
    "execution": {
     "iopub.execute_input": "2021-03-05T22:41:29.169646Z",
     "iopub.status.busy": "2021-03-05T22:41:29.168436Z",
     "iopub.status.idle": "2021-03-05T22:41:46.881255Z",
     "shell.execute_reply": "2021-03-05T22:41:46.880258Z"
    },
    "papermill": {
     "duration": 18.417925,
     "end_time": "2021-03-05T22:41:46.881431",
     "exception": false,
     "start_time": "2021-03-05T22:41:28.463506",
     "status": "completed"
    },
    "tags": []
   },
   "outputs": [
    {
     "name": "stdout",
     "output_type": "stream",
     "text": [
      "1  run\n",
      "2  run\n",
      "3  run\n",
      "4  run\n",
      "5  run\n"
     ]
    }
   ],
   "source": [
    "n = .1\n",
    "for i in range(iteration):\n",
    "    \n",
    "    X = dn.iloc[:,0:5].astype('float32')\n",
    "    y = dn['Class']\n",
    "\n",
    "    encoder = LabelEncoder()\n",
    "    encoder.fit(y)\n",
    "    y = encoder.transform(y)\n",
    "\n",
    "    X_train, X_test, y_train, y_test = train_test_split(X, y, test_size = n, random_state=0)\n",
    "\n",
    "    \n",
    "    #time start\n",
    "    start_time = time.time()\n",
    "        \n",
    "    model = KNeighborsClassifier(n_neighbors=3)\n",
    "    model.fit(X_train,y_train)\n",
    "    \n",
    "    #time end\n",
    "    end_time = time.time()\n",
    "\n",
    "    train_score = model.score(X_train,y_train)*100\n",
    "    test_score  = model.score(X_test,y_test)*100\n",
    "    \n",
    "    #time calculation \n",
    "    acc.iloc[i,2] = end_time - start_time\n",
    "    \n",
    "    #Accuracy\n",
    "    acc.iloc[i,0] = train_score\n",
    "    acc.iloc[i,1] = test_score\n",
    "    \n",
    "    #test size\n",
    "    acc.iloc[i,3] = n*100\n",
    "    \n",
    "    if n == .1:\n",
    "        n = .2\n",
    "    else :\n",
    "        n = .1\n",
    "    print(i+1,\" run\")"
   ]
  },
  {
   "cell_type": "code",
   "execution_count": 12,
   "metadata": {
    "execution": {
     "iopub.execute_input": "2021-03-05T22:41:48.296494Z",
     "iopub.status.busy": "2021-03-05T22:41:48.295446Z",
     "iopub.status.idle": "2021-03-05T22:41:48.300256Z",
     "shell.execute_reply": "2021-03-05T22:41:48.299582Z"
    },
    "papermill": {
     "duration": 0.718188,
     "end_time": "2021-03-05T22:41:48.300432",
     "exception": false,
     "start_time": "2021-03-05T22:41:47.582244",
     "status": "completed"
    },
    "tags": []
   },
   "outputs": [
    {
     "data": {
      "text/html": [
       "<div>\n",
       "<style scoped>\n",
       "    .dataframe tbody tr th:only-of-type {\n",
       "        vertical-align: middle;\n",
       "    }\n",
       "\n",
       "    .dataframe tbody tr th {\n",
       "        vertical-align: top;\n",
       "    }\n",
       "\n",
       "    .dataframe thead th {\n",
       "        text-align: right;\n",
       "    }\n",
       "</style>\n",
       "<table border=\"1\" class=\"dataframe\">\n",
       "  <thead>\n",
       "    <tr style=\"text-align: right;\">\n",
       "      <th></th>\n",
       "      <th>train_Acc</th>\n",
       "      <th>test_Acc</th>\n",
       "      <th>time</th>\n",
       "      <th>test_size</th>\n",
       "    </tr>\n",
       "  </thead>\n",
       "  <tbody>\n",
       "    <tr>\n",
       "      <th>0</th>\n",
       "      <td>80.44</td>\n",
       "      <td>63.32</td>\n",
       "      <td>0.13</td>\n",
       "      <td>10.0</td>\n",
       "    </tr>\n",
       "    <tr>\n",
       "      <th>1</th>\n",
       "      <td>80.33</td>\n",
       "      <td>63.04</td>\n",
       "      <td>0.11</td>\n",
       "      <td>20.0</td>\n",
       "    </tr>\n",
       "    <tr>\n",
       "      <th>2</th>\n",
       "      <td>80.44</td>\n",
       "      <td>63.32</td>\n",
       "      <td>0.13</td>\n",
       "      <td>10.0</td>\n",
       "    </tr>\n",
       "    <tr>\n",
       "      <th>3</th>\n",
       "      <td>80.33</td>\n",
       "      <td>63.04</td>\n",
       "      <td>0.11</td>\n",
       "      <td>20.0</td>\n",
       "    </tr>\n",
       "    <tr>\n",
       "      <th>4</th>\n",
       "      <td>80.44</td>\n",
       "      <td>63.32</td>\n",
       "      <td>0.13</td>\n",
       "      <td>10.0</td>\n",
       "    </tr>\n",
       "  </tbody>\n",
       "</table>\n",
       "</div>"
      ],
      "text/plain": [
       "   train_Acc  test_Acc  time  test_size\n",
       "0      80.44     63.32  0.13       10.0\n",
       "1      80.33     63.04  0.11       20.0\n",
       "2      80.44     63.32  0.13       10.0\n",
       "3      80.33     63.04  0.11       20.0\n",
       "4      80.44     63.32  0.13       10.0"
      ]
     },
     "execution_count": 12,
     "metadata": {},
     "output_type": "execute_result"
    }
   ],
   "source": [
    "acc = acc.round(2)\n",
    "acc"
   ]
  },
  {
   "cell_type": "code",
   "execution_count": 13,
   "metadata": {
    "execution": {
     "iopub.execute_input": "2021-03-05T22:41:49.742758Z",
     "iopub.status.busy": "2021-03-05T22:41:49.742100Z",
     "iopub.status.idle": "2021-03-05T22:41:49.747616Z",
     "shell.execute_reply": "2021-03-05T22:41:49.748090Z"
    },
    "papermill": {
     "duration": 0.74112,
     "end_time": "2021-03-05T22:41:49.748255",
     "exception": false,
     "start_time": "2021-03-05T22:41:49.007135",
     "status": "completed"
    },
    "tags": []
   },
   "outputs": [
    {
     "data": {
      "text/plain": [
       "train_Acc    80.396\n",
       "test_Acc     63.208\n",
       "time          0.122\n",
       "test_size    14.000\n",
       "dtype: float64"
      ]
     },
     "execution_count": 13,
     "metadata": {},
     "output_type": "execute_result"
    }
   ],
   "source": [
    "KNNAcc = acc.mean()\n",
    "KNNAcc"
   ]
  },
  {
   "cell_type": "markdown",
   "metadata": {
    "papermill": {
     "duration": 0.448265,
     "end_time": "2021-03-05T22:41:50.640937",
     "exception": false,
     "start_time": "2021-03-05T22:41:50.192672",
     "status": "completed"
    },
    "tags": []
   },
   "source": [
    "# GPC"
   ]
  },
  {
   "cell_type": "code",
   "execution_count": 14,
   "metadata": {
    "execution": {
     "iopub.execute_input": "2021-03-05T22:41:51.547303Z",
     "iopub.status.busy": "2021-03-05T22:41:51.546711Z",
     "iopub.status.idle": "2021-03-05T22:53:33.111905Z",
     "shell.execute_reply": "2021-03-05T22:53:33.112616Z"
    },
    "papermill": {
     "duration": 702.025,
     "end_time": "2021-03-05T22:53:33.112823",
     "exception": false,
     "start_time": "2021-03-05T22:41:51.087823",
     "status": "completed"
    },
    "tags": []
   },
   "outputs": [
    {
     "name": "stdout",
     "output_type": "stream",
     "text": [
      "1  run\n",
      "2  run\n",
      "3  run\n",
      "4  run\n",
      "5  run\n"
     ]
    }
   ],
   "source": [
    "n = .1\n",
    "for i in range(iteration):\n",
    "    \n",
    "    X = dn.iloc[:,0:5].astype('float32')\n",
    "    y = dn['Class'] #.iloc[0:100,-1]\n",
    "\n",
    "    encoder = LabelEncoder()\n",
    "    encoder.fit(y)\n",
    "    y = encoder.transform(y)\n",
    "\n",
    "    X_train, X_test, y_train, y_test = train_test_split(X, y, test_size = n, random_state=0)\n",
    "\n",
    "    \n",
    "    #time start\n",
    "    start_time = time.time()\n",
    "        \n",
    "    model = GaussianProcessClassifier(multi_class='one_vs_one')\n",
    "    model.fit(X_train,y_train)\n",
    "    \n",
    "    #time end\n",
    "    end_time = time.time()\n",
    "\n",
    "    train_score = model.score(X_train,y_train)*100\n",
    "    test_score  = model.score(X_test,y_test)*100\n",
    "    \n",
    "    #time calculation \n",
    "    acc.iloc[i,2] = end_time - start_time\n",
    "    \n",
    "    #Accuracy\n",
    "    acc.iloc[i,0] = train_score\n",
    "    acc.iloc[i,1] = test_score\n",
    "    \n",
    "    #test size\n",
    "    acc.iloc[i,3] = n*100\n",
    "\n",
    "    if n == .1:\n",
    "        n = .2\n",
    "    else :\n",
    "        n = .1\n",
    "    print(i+1,\" run\")"
   ]
  },
  {
   "cell_type": "code",
   "execution_count": 15,
   "metadata": {
    "execution": {
     "iopub.execute_input": "2021-03-05T22:53:34.245635Z",
     "iopub.status.busy": "2021-03-05T22:53:34.244725Z",
     "iopub.status.idle": "2021-03-05T22:53:34.250062Z",
     "shell.execute_reply": "2021-03-05T22:53:34.250506Z"
    },
    "papermill": {
     "duration": 0.604581,
     "end_time": "2021-03-05T22:53:34.250735",
     "exception": false,
     "start_time": "2021-03-05T22:53:33.646154",
     "status": "completed"
    },
    "tags": []
   },
   "outputs": [
    {
     "data": {
      "text/html": [
       "<div>\n",
       "<style scoped>\n",
       "    .dataframe tbody tr th:only-of-type {\n",
       "        vertical-align: middle;\n",
       "    }\n",
       "\n",
       "    .dataframe tbody tr th {\n",
       "        vertical-align: top;\n",
       "    }\n",
       "\n",
       "    .dataframe thead th {\n",
       "        text-align: right;\n",
       "    }\n",
       "</style>\n",
       "<table border=\"1\" class=\"dataframe\">\n",
       "  <thead>\n",
       "    <tr style=\"text-align: right;\">\n",
       "      <th></th>\n",
       "      <th>train_Acc</th>\n",
       "      <th>test_Acc</th>\n",
       "      <th>time</th>\n",
       "      <th>test_size</th>\n",
       "    </tr>\n",
       "  </thead>\n",
       "  <tbody>\n",
       "    <tr>\n",
       "      <th>0</th>\n",
       "      <td>100.0</td>\n",
       "      <td>61.8</td>\n",
       "      <td>86.91</td>\n",
       "      <td>10.0</td>\n",
       "    </tr>\n",
       "    <tr>\n",
       "      <th>1</th>\n",
       "      <td>100.0</td>\n",
       "      <td>63.1</td>\n",
       "      <td>65.36</td>\n",
       "      <td>20.0</td>\n",
       "    </tr>\n",
       "    <tr>\n",
       "      <th>2</th>\n",
       "      <td>100.0</td>\n",
       "      <td>61.8</td>\n",
       "      <td>86.40</td>\n",
       "      <td>10.0</td>\n",
       "    </tr>\n",
       "    <tr>\n",
       "      <th>3</th>\n",
       "      <td>100.0</td>\n",
       "      <td>63.1</td>\n",
       "      <td>65.02</td>\n",
       "      <td>20.0</td>\n",
       "    </tr>\n",
       "    <tr>\n",
       "      <th>4</th>\n",
       "      <td>100.0</td>\n",
       "      <td>61.8</td>\n",
       "      <td>85.79</td>\n",
       "      <td>10.0</td>\n",
       "    </tr>\n",
       "  </tbody>\n",
       "</table>\n",
       "</div>"
      ],
      "text/plain": [
       "   train_Acc  test_Acc   time  test_size\n",
       "0      100.0      61.8  86.91       10.0\n",
       "1      100.0      63.1  65.36       20.0\n",
       "2      100.0      61.8  86.40       10.0\n",
       "3      100.0      63.1  65.02       20.0\n",
       "4      100.0      61.8  85.79       10.0"
      ]
     },
     "execution_count": 15,
     "metadata": {},
     "output_type": "execute_result"
    }
   ],
   "source": [
    "acc = acc.round(2)\n",
    "acc"
   ]
  },
  {
   "cell_type": "code",
   "execution_count": 16,
   "metadata": {
    "execution": {
     "iopub.execute_input": "2021-03-05T22:53:35.180012Z",
     "iopub.status.busy": "2021-03-05T22:53:35.178965Z",
     "iopub.status.idle": "2021-03-05T22:53:35.184015Z",
     "shell.execute_reply": "2021-03-05T22:53:35.184617Z"
    },
    "papermill": {
     "duration": 0.471965,
     "end_time": "2021-03-05T22:53:35.184812",
     "exception": false,
     "start_time": "2021-03-05T22:53:34.712847",
     "status": "completed"
    },
    "tags": []
   },
   "outputs": [
    {
     "data": {
      "text/plain": [
       "train_Acc    100.000\n",
       "test_Acc      62.320\n",
       "time          77.896\n",
       "test_size     14.000\n",
       "dtype: float64"
      ]
     },
     "execution_count": 16,
     "metadata": {},
     "output_type": "execute_result"
    }
   ],
   "source": [
    "GPCAcc = acc.mean()\n",
    "GPCAcc"
   ]
  },
  {
   "cell_type": "code",
   "execution_count": 17,
   "metadata": {
    "execution": {
     "iopub.execute_input": "2021-03-05T22:53:36.137920Z",
     "iopub.status.busy": "2021-03-05T22:53:36.137250Z",
     "iopub.status.idle": "2021-03-05T22:53:36.142906Z",
     "shell.execute_reply": "2021-03-05T22:53:36.142195Z"
    },
    "papermill": {
     "duration": 0.488072,
     "end_time": "2021-03-05T22:53:36.143041",
     "exception": false,
     "start_time": "2021-03-05T22:53:35.654969",
     "status": "completed"
    },
    "tags": []
   },
   "outputs": [
    {
     "data": {
      "text/html": [
       "<div>\n",
       "<style scoped>\n",
       "    .dataframe tbody tr th:only-of-type {\n",
       "        vertical-align: middle;\n",
       "    }\n",
       "\n",
       "    .dataframe tbody tr th {\n",
       "        vertical-align: top;\n",
       "    }\n",
       "\n",
       "    .dataframe thead th {\n",
       "        text-align: right;\n",
       "    }\n",
       "</style>\n",
       "<table border=\"1\" class=\"dataframe\">\n",
       "  <thead>\n",
       "    <tr style=\"text-align: right;\">\n",
       "      <th></th>\n",
       "      <th>Performance</th>\n",
       "      <th>ANN</th>\n",
       "      <th>SVM</th>\n",
       "      <th>KNN</th>\n",
       "      <th>GPC</th>\n",
       "    </tr>\n",
       "  </thead>\n",
       "  <tbody>\n",
       "    <tr>\n",
       "      <th>train_Acc</th>\n",
       "      <td>Avg Train Accuracy</td>\n",
       "      <td>99.44</td>\n",
       "      <td>64.60</td>\n",
       "      <td>80.40</td>\n",
       "      <td>100.00</td>\n",
       "    </tr>\n",
       "    <tr>\n",
       "      <th>test_Acc</th>\n",
       "      <td>Avg Test Accuracy</td>\n",
       "      <td>99.44</td>\n",
       "      <td>65.10</td>\n",
       "      <td>63.21</td>\n",
       "      <td>62.32</td>\n",
       "    </tr>\n",
       "    <tr>\n",
       "      <th>time</th>\n",
       "      <td>Avg Run Time</td>\n",
       "      <td>14.86</td>\n",
       "      <td>367.65</td>\n",
       "      <td>0.12</td>\n",
       "      <td>77.90</td>\n",
       "    </tr>\n",
       "    <tr>\n",
       "      <th>test_size</th>\n",
       "      <td>Avg Test size</td>\n",
       "      <td>14.00</td>\n",
       "      <td>14.00</td>\n",
       "      <td>14.00</td>\n",
       "      <td>14.00</td>\n",
       "    </tr>\n",
       "  </tbody>\n",
       "</table>\n",
       "</div>"
      ],
      "text/plain": [
       "                  Performance    ANN     SVM    KNN     GPC\n",
       "train_Acc  Avg Train Accuracy  99.44   64.60  80.40  100.00\n",
       "test_Acc    Avg Test Accuracy  99.44   65.10  63.21   62.32\n",
       "time             Avg Run Time  14.86  367.65   0.12   77.90\n",
       "test_size       Avg Test size  14.00   14.00  14.00   14.00"
      ]
     },
     "execution_count": 17,
     "metadata": {},
     "output_type": "execute_result"
    }
   ],
   "source": [
    "performance = {\n",
    "    \"Performance\" : ['Avg Train Accuracy','Avg Test Accuracy','Avg Run Time','Avg Test size'],\n",
    "    \"ANN\"         : ANNAcc,\n",
    "    \"SVM\"         : SVMAcc,\n",
    "    \"KNN\"         : KNNAcc,\n",
    "    \"GPC\"         : GPCAcc\n",
    "}\n",
    "Performance = pd.DataFrame(performance)\n",
    "Performance.round(2)"
   ]
  },
  {
   "cell_type": "code",
   "execution_count": 18,
   "metadata": {
    "execution": {
     "iopub.execute_input": "2021-03-05T22:53:37.074476Z",
     "iopub.status.busy": "2021-03-05T22:53:37.073688Z",
     "iopub.status.idle": "2021-03-05T22:53:37.117000Z",
     "shell.execute_reply": "2021-03-05T22:53:37.116433Z"
    },
    "papermill": {
     "duration": 0.51185,
     "end_time": "2021-03-05T22:53:37.117142",
     "exception": false,
     "start_time": "2021-03-05T22:53:36.605292",
     "status": "completed"
    },
    "tags": []
   },
   "outputs": [
    {
     "data": {
      "text/html": [
       "<div>\n",
       "<style scoped>\n",
       "    .dataframe tbody tr th:only-of-type {\n",
       "        vertical-align: middle;\n",
       "    }\n",
       "\n",
       "    .dataframe tbody tr th {\n",
       "        vertical-align: top;\n",
       "    }\n",
       "\n",
       "    .dataframe thead th {\n",
       "        text-align: right;\n",
       "    }\n",
       "</style>\n",
       "<table border=\"1\" class=\"dataframe\">\n",
       "  <thead>\n",
       "    <tr style=\"text-align: right;\">\n",
       "      <th></th>\n",
       "      <th>train_Acc</th>\n",
       "      <th>test_Acc</th>\n",
       "      <th>time</th>\n",
       "      <th>p-w</th>\n",
       "    </tr>\n",
       "  </thead>\n",
       "  <tbody>\n",
       "    <tr>\n",
       "      <th>ANN</th>\n",
       "      <td>0.984239</td>\n",
       "      <td>1.000000</td>\n",
       "      <td>0.959905</td>\n",
       "      <td>0.984101</td>\n",
       "    </tr>\n",
       "    <tr>\n",
       "      <th>SVM</th>\n",
       "      <td>0.000000</td>\n",
       "      <td>0.074996</td>\n",
       "      <td>0.000000</td>\n",
       "      <td>0.022499</td>\n",
       "    </tr>\n",
       "    <tr>\n",
       "      <th>KNN</th>\n",
       "      <td>0.446277</td>\n",
       "      <td>0.023921</td>\n",
       "      <td>1.000000</td>\n",
       "      <td>0.430315</td>\n",
       "    </tr>\n",
       "    <tr>\n",
       "      <th>GPC</th>\n",
       "      <td>1.000000</td>\n",
       "      <td>0.000000</td>\n",
       "      <td>0.788387</td>\n",
       "      <td>0.657677</td>\n",
       "    </tr>\n",
       "  </tbody>\n",
       "</table>\n",
       "</div>"
      ],
      "text/plain": [
       "     train_Acc  test_Acc      time       p-w\n",
       "ANN   0.984239  1.000000  0.959905  0.984101\n",
       "SVM   0.000000  0.074996  0.000000  0.022499\n",
       "KNN   0.446277  0.023921  1.000000  0.430315\n",
       "GPC   1.000000  0.000000  0.788387  0.657677"
      ]
     },
     "execution_count": 18,
     "metadata": {},
     "output_type": "execute_result"
    }
   ],
   "source": [
    "p1 = Performance.iloc[0:3,1:5].T\n",
    "p2 = pd.DataFrame(columns = p1.columns)\n",
    "p2 = p2.T\n",
    "p2[\"max\"] = 0\n",
    "p2[\"min\"] = 0\n",
    "p2 = p2.T\n",
    "for i in range(len(p2.columns)):\n",
    "    p2.iloc[0,i] = p1.iloc[:,i].max()\n",
    "    p2.iloc[1,i] = p1.iloc[:,i].min()\n",
    "\n",
    "# max-min normalizer = 0\n",
    "# linear normalizer = 1\n",
    "normalizer = 0\n",
    "\n",
    "if normalizer == 0 :\n",
    "    for i in range(len(p1.columns)):\n",
    "        if i==2: #Non Beneficial\n",
    "            p1.iloc[:,i] = (p2.iloc[0,i]-p1.iloc[:,i])/(p2.iloc[0,i] - p2.iloc[1,i])\n",
    "\n",
    "        else: #Beneficial\n",
    "            p1.iloc[:,i] = (p1.iloc[:,i]-p2.iloc[1,i])/(p2.iloc[0,i] - p2.iloc[1,i])\n",
    "\n",
    "else:\n",
    "    for i in range(len(p1.columns)):\n",
    "        if i==2: #Non Beneficial\n",
    "            p1.iloc[:,i] = p2.iloc[1,i]/p1.iloc[:,i]\n",
    "\n",
    "        else: #Beneficial\n",
    "            p1.iloc[:,i] = p1.iloc[:,i]/ p2.iloc[0,i]\n",
    "\n",
    "weight = np.array([0.5,0.3,0.2]).reshape(3,1)\n",
    "p1[\"p-w\"] = np.dot(p1,weight)\n",
    "p1"
   ]
  },
  {
   "cell_type": "code",
   "execution_count": 19,
   "metadata": {
    "execution": {
     "iopub.execute_input": "2021-03-05T22:53:38.055624Z",
     "iopub.status.busy": "2021-03-05T22:53:38.054897Z",
     "iopub.status.idle": "2021-03-05T22:53:38.061384Z",
     "shell.execute_reply": "2021-03-05T22:53:38.060824Z"
    },
    "papermill": {
     "duration": 0.480552,
     "end_time": "2021-03-05T22:53:38.061547",
     "exception": false,
     "start_time": "2021-03-05T22:53:37.580995",
     "status": "completed"
    },
    "tags": []
   },
   "outputs": [
    {
     "data": {
      "text/html": [
       "<div>\n",
       "<style scoped>\n",
       "    .dataframe tbody tr th:only-of-type {\n",
       "        vertical-align: middle;\n",
       "    }\n",
       "\n",
       "    .dataframe tbody tr th {\n",
       "        vertical-align: top;\n",
       "    }\n",
       "\n",
       "    .dataframe thead th {\n",
       "        text-align: right;\n",
       "    }\n",
       "</style>\n",
       "<table border=\"1\" class=\"dataframe\">\n",
       "  <thead>\n",
       "    <tr style=\"text-align: right;\">\n",
       "      <th></th>\n",
       "      <th>train_Acc</th>\n",
       "      <th>test_Acc</th>\n",
       "      <th>time</th>\n",
       "      <th>p-w</th>\n",
       "    </tr>\n",
       "  </thead>\n",
       "  <tbody>\n",
       "    <tr>\n",
       "      <th>ANN</th>\n",
       "      <td>0.98</td>\n",
       "      <td>1.00</td>\n",
       "      <td>0.96</td>\n",
       "      <td>0.98</td>\n",
       "    </tr>\n",
       "    <tr>\n",
       "      <th>SVM</th>\n",
       "      <td>0.00</td>\n",
       "      <td>0.07</td>\n",
       "      <td>0.00</td>\n",
       "      <td>0.02</td>\n",
       "    </tr>\n",
       "    <tr>\n",
       "      <th>KNN</th>\n",
       "      <td>0.45</td>\n",
       "      <td>0.02</td>\n",
       "      <td>1.00</td>\n",
       "      <td>0.43</td>\n",
       "    </tr>\n",
       "    <tr>\n",
       "      <th>GPC</th>\n",
       "      <td>1.00</td>\n",
       "      <td>0.00</td>\n",
       "      <td>0.79</td>\n",
       "      <td>0.66</td>\n",
       "    </tr>\n",
       "  </tbody>\n",
       "</table>\n",
       "</div>"
      ],
      "text/plain": [
       "     train_Acc  test_Acc  time   p-w\n",
       "ANN       0.98      1.00  0.96  0.98\n",
       "SVM       0.00      0.07  0.00  0.02\n",
       "KNN       0.45      0.02  1.00  0.43\n",
       "GPC       1.00      0.00  0.79  0.66"
      ]
     },
     "execution_count": 19,
     "metadata": {},
     "output_type": "execute_result"
    }
   ],
   "source": [
    "p1.round(2)"
   ]
  }
 ],
 "metadata": {
  "kernelspec": {
   "display_name": "Python 3",
   "language": "python",
   "name": "python3"
  },
  "language_info": {
   "codemirror_mode": {
    "name": "ipython",
    "version": 3
   },
   "file_extension": ".py",
   "mimetype": "text/x-python",
   "name": "python",
   "nbconvert_exporter": "python",
   "pygments_lexer": "ipython3",
   "version": "3.8.6"
  },
  "papermill": {
   "default_parameters": {},
   "duration": 3800.518678,
   "end_time": "2021-03-05T22:53:39.924735",
   "environment_variables": {},
   "exception": null,
   "input_path": "__notebook__.ipynb",
   "output_path": "__notebook__.ipynb",
   "parameters": {},
   "start_time": "2021-03-05T21:50:19.406057",
   "version": "2.2.2"
  }
 },
 "nbformat": 4,
 "nbformat_minor": 4
}
