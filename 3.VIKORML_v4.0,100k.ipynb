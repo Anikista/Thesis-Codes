{
 "cells": [
  {
   "cell_type": "markdown",
   "metadata": {
    "papermill": {
     "duration": 0.016907,
     "end_time": "2021-03-04T09:36:25.324533",
     "exception": false,
     "start_time": "2021-03-04T09:36:25.307626",
     "status": "completed"
    },
    "tags": []
   },
   "source": [
    "# Importing Libraries"
   ]
  },
  {
   "cell_type": "code",
   "execution_count": 1,
   "metadata": {
    "execution": {
     "iopub.execute_input": "2021-03-04T09:36:25.366089Z",
     "iopub.status.busy": "2021-03-04T09:36:25.365406Z",
     "iopub.status.idle": "2021-03-04T09:36:33.617392Z",
     "shell.execute_reply": "2021-03-04T09:36:33.617960Z"
    },
    "papermill": {
     "duration": 8.277932,
     "end_time": "2021-03-04T09:36:33.618315",
     "exception": false,
     "start_time": "2021-03-04T09:36:25.340383",
     "status": "completed"
    },
    "tags": []
   },
   "outputs": [],
   "source": [
    "import pandas as pd\n",
    "import numpy as np\n",
    "import seaborn as sns\n",
    "\n",
    "import tensorflow as tf\n",
    "import keras\n",
    "from keras.utils import to_categorical\n",
    "from keras.models import Sequential\n",
    "from keras.optimizers import SGD\n",
    "from keras.layers import Dense\n",
    "\n",
    "from sklearn.svm import SVC\n",
    "from sklearn.gaussian_process import GaussianProcessClassifier\n",
    "from sklearn.neighbors import KNeighborsClassifier\n",
    "\n",
    "from sklearn.model_selection import cross_val_score\n",
    "from sklearn.model_selection import StratifiedKFold\n",
    "from sklearn.preprocessing import LabelEncoder\n",
    "from sklearn.model_selection import train_test_split\n",
    "from sklearn.preprocessing import StandardScaler\n",
    "import time"
   ]
  },
  {
   "cell_type": "markdown",
   "metadata": {
    "papermill": {
     "duration": 0.01641,
     "end_time": "2021-03-04T09:36:33.651971",
     "exception": false,
     "start_time": "2021-03-04T09:36:33.635561",
     "status": "completed"
    },
    "tags": []
   },
   "source": [
    "# Importing Data"
   ]
  },
  {
   "cell_type": "code",
   "execution_count": 2,
   "metadata": {
    "execution": {
     "iopub.execute_input": "2021-03-04T09:36:33.688192Z",
     "iopub.status.busy": "2021-03-04T09:36:33.687581Z",
     "iopub.status.idle": "2021-03-04T09:36:33.822012Z",
     "shell.execute_reply": "2021-03-04T09:36:33.822512Z"
    },
    "papermill": {
     "duration": 0.154298,
     "end_time": "2021-03-04T09:36:33.822678",
     "exception": false,
     "start_time": "2021-03-04T09:36:33.668380",
     "status": "completed"
    },
    "tags": []
   },
   "outputs": [],
   "source": [
    "data = pd.read_csv('../input/thesis/dumy100000.csv')"
   ]
  },
  {
   "cell_type": "markdown",
   "metadata": {
    "papermill": {
     "duration": 0.016156,
     "end_time": "2021-03-04T09:36:33.855563",
     "exception": false,
     "start_time": "2021-03-04T09:36:33.839407",
     "status": "completed"
    },
    "tags": []
   },
   "source": [
    "# MCDM"
   ]
  },
  {
   "cell_type": "markdown",
   "metadata": {
    "papermill": {
     "duration": 0.016141,
     "end_time": "2021-03-04T09:36:33.888701",
     "exception": false,
     "start_time": "2021-03-04T09:36:33.872560",
     "status": "completed"
    },
    "tags": []
   },
   "source": [
    "# VIKOR"
   ]
  },
  {
   "cell_type": "code",
   "execution_count": 3,
   "metadata": {
    "execution": {
     "iopub.execute_input": "2021-03-04T09:36:33.924858Z",
     "iopub.status.busy": "2021-03-04T09:36:33.924274Z",
     "iopub.status.idle": "2021-03-04T09:36:39.234137Z",
     "shell.execute_reply": "2021-03-04T09:36:39.234621Z"
    },
    "papermill": {
     "duration": 5.329585,
     "end_time": "2021-03-04T09:36:39.234804",
     "exception": false,
     "start_time": "2021-03-04T09:36:33.905219",
     "status": "completed"
    },
    "tags": []
   },
   "outputs": [
    {
     "name": "stdout",
     "output_type": "stream",
     "text": [
      "10.56 % -> A: 10558\n",
      "18.73 % -> B: 18732\n",
      "70.71 % -> C: 70710\n",
      "Total:  100000\n"
     ]
    },
    {
     "data": {
      "text/html": [
       "<div>\n",
       "<style scoped>\n",
       "    .dataframe tbody tr th:only-of-type {\n",
       "        vertical-align: middle;\n",
       "    }\n",
       "\n",
       "    .dataframe tbody tr th {\n",
       "        vertical-align: top;\n",
       "    }\n",
       "\n",
       "    .dataframe thead th {\n",
       "        text-align: right;\n",
       "    }\n",
       "</style>\n",
       "<table border=\"1\" class=\"dataframe\">\n",
       "  <thead>\n",
       "    <tr style=\"text-align: right;\">\n",
       "      <th></th>\n",
       "      <th>mfg</th>\n",
       "      <th>sell</th>\n",
       "      <th>demand</th>\n",
       "      <th>fcost</th>\n",
       "      <th>rma</th>\n",
       "      <th>qi</th>\n",
       "      <th>RunCumCost</th>\n",
       "      <th>RunCostPerc</th>\n",
       "      <th>Rank</th>\n",
       "      <th>RunItemCum</th>\n",
       "      <th>RunItemPerc</th>\n",
       "      <th>Class</th>\n",
       "    </tr>\n",
       "  </thead>\n",
       "  <tbody>\n",
       "    <tr>\n",
       "      <th>0</th>\n",
       "      <td>71</td>\n",
       "      <td>156.91</td>\n",
       "      <td>1595</td>\n",
       "      <td>49.7</td>\n",
       "      <td>3</td>\n",
       "      <td>0.383965</td>\n",
       "      <td>36257.514659</td>\n",
       "      <td>76.779078</td>\n",
       "      <td>59291.0</td>\n",
       "      <td>1.757741e+09</td>\n",
       "      <td>35.154468</td>\n",
       "      <td>C</td>\n",
       "    </tr>\n",
       "    <tr>\n",
       "      <th>1</th>\n",
       "      <td>474</td>\n",
       "      <td>1047.54</td>\n",
       "      <td>6877</td>\n",
       "      <td>331.8</td>\n",
       "      <td>3</td>\n",
       "      <td>0.901189</td>\n",
       "      <td>1962.408386</td>\n",
       "      <td>4.155605</td>\n",
       "      <td>2101.0</td>\n",
       "      <td>2.208151e+06</td>\n",
       "      <td>0.044163</td>\n",
       "      <td>C</td>\n",
       "    </tr>\n",
       "    <tr>\n",
       "      <th>2</th>\n",
       "      <td>70</td>\n",
       "      <td>154.70</td>\n",
       "      <td>5182</td>\n",
       "      <td>49.0</td>\n",
       "      <td>3</td>\n",
       "      <td>0.683190</td>\n",
       "      <td>16176.765170</td>\n",
       "      <td>34.255992</td>\n",
       "      <td>20391.0</td>\n",
       "      <td>2.079066e+08</td>\n",
       "      <td>4.158091</td>\n",
       "      <td>C</td>\n",
       "    </tr>\n",
       "    <tr>\n",
       "      <th>3</th>\n",
       "      <td>417</td>\n",
       "      <td>921.57</td>\n",
       "      <td>3914</td>\n",
       "      <td>291.9</td>\n",
       "      <td>3</td>\n",
       "      <td>0.473220</td>\n",
       "      <td>29837.401955</td>\n",
       "      <td>63.183818</td>\n",
       "      <td>44227.0</td>\n",
       "      <td>9.780359e+08</td>\n",
       "      <td>19.560522</td>\n",
       "      <td>C</td>\n",
       "    </tr>\n",
       "    <tr>\n",
       "      <th>4</th>\n",
       "      <td>239</td>\n",
       "      <td>528.19</td>\n",
       "      <td>4496</td>\n",
       "      <td>167.3</td>\n",
       "      <td>2</td>\n",
       "      <td>0.449204</td>\n",
       "      <td>31487.105629</td>\n",
       "      <td>66.677238</td>\n",
       "      <td>47806.0</td>\n",
       "      <td>1.142731e+09</td>\n",
       "      <td>22.854386</td>\n",
       "      <td>C</td>\n",
       "    </tr>\n",
       "  </tbody>\n",
       "</table>\n",
       "</div>"
      ],
      "text/plain": [
       "   mfg     sell  demand  fcost  rma        qi    RunCumCost  RunCostPerc  \\\n",
       "0   71   156.91    1595   49.7    3  0.383965  36257.514659    76.779078   \n",
       "1  474  1047.54    6877  331.8    3  0.901189   1962.408386     4.155605   \n",
       "2   70   154.70    5182   49.0    3  0.683190  16176.765170    34.255992   \n",
       "3  417   921.57    3914  291.9    3  0.473220  29837.401955    63.183818   \n",
       "4  239   528.19    4496  167.3    2  0.449204  31487.105629    66.677238   \n",
       "\n",
       "      Rank    RunItemCum  RunItemPerc Class  \n",
       "0  59291.0  1.757741e+09    35.154468     C  \n",
       "1   2101.0  2.208151e+06     0.044163     C  \n",
       "2  20391.0  2.079066e+08     4.158091     C  \n",
       "3  44227.0  9.780359e+08    19.560522     C  \n",
       "4  47806.0  1.142731e+09    22.854386     C  "
      ]
     },
     "execution_count": 3,
     "metadata": {},
     "output_type": "execute_result"
    },
    {
     "data": {
      "image/png": "[encoded data removed]",
      "text/plain": [
       "<Figure size 432x288 with 1 Axes>"
      ]
     },
     "metadata": {
      "needs_background": "light"
     },
     "output_type": "display_data"
    }
   ],
   "source": [
    "dn = 0\n",
    "dn = data.copy()\n",
    "del dn['Unnamed: 0']\n",
    "d1 = dn.copy()\n",
    "\n",
    "d2 = pd.DataFrame(columns = d1.columns)\n",
    "d2 = d2.T\n",
    "d2[\"max\"] = 0\n",
    "d2[\"min\"] = 0\n",
    "d2 = d2.T\n",
    "\n",
    "for i in range(len(d2.columns)):\n",
    "    d2.iloc[0,i] = d1.iloc[:,i].max()\n",
    "    d2.iloc[1,i] = d1.iloc[:,i].min()\n",
    "\n",
    "# max-min normalizer = 0\n",
    "# linear normalizer = 1\n",
    "normalizer = 0\n",
    "\n",
    "if normalizer == 0 :\n",
    "    for i in range(len(d1.columns)):\n",
    "        if i==0 or i==3: #Non Beneficial\n",
    "            d1.iloc[:,i] = (d2.iloc[0,i]-d1.iloc[:,i])/(d2.iloc[0,i] - d2.iloc[1,i])\n",
    "\n",
    "        else: #Beneficial\n",
    "            d1.iloc[:,i] = (d1.iloc[:,i]-d2.iloc[1,i])/(d2.iloc[0,i] - d2.iloc[1,i])\n",
    "\n",
    "else:\n",
    "    for i in range(len(d1.columns)):\n",
    "        if i==0 or i==3: #Non Beneficial\n",
    "            d1.iloc[:,i] = d2.iloc[1,i]/d1.iloc[:,i]\n",
    "\n",
    "        else: #Beneficial\n",
    "            d1.iloc[:,i] = d1.iloc[:,i]/ d2.iloc[0,i]\n",
    "\n",
    "w  = [0.15, 0.20, 0.30, 0.15, 0.20]\n",
    "d1 = d1*w\n",
    "\n",
    "d1['si'] = d1.iloc[:].sum(axis=1)\n",
    "\n",
    "d1['ri'] = d1.iloc[:,0:-2].max(axis=1)\n",
    "\n",
    "s_best  = d1['si'].min()\n",
    "s_worst = d1['si'].max()\n",
    "r_best  = d1['ri'].min()\n",
    "r_worst = d1['ri'].max()\n",
    "neu = 0.5\n",
    "\n",
    "d1['qi'] = d1.apply(lambda row: neu*((row.si-s_best)/(s_worst-s_best))+(1-neu)*((row.ri-r_best)/(r_worst-r_best)) , axis =1 )\n",
    "\n",
    "dn['qi'] = d1['qi']\n",
    "\n",
    "dn = dn.sort_values(by=['qi'], ascending=False)\n",
    "\n",
    "dn['RunCumCost']   = dn['qi'].cumsum()\n",
    "TotSum             = dn['qi'].sum()\n",
    "dn['RunCostPerc']  = (dn['RunCumCost']/TotSum)*100\n",
    "\n",
    "dn['Rank']         = dn['RunCostPerc'].rank()\n",
    "dn['RunItemCum']   = dn['Rank'].cumsum()\n",
    "TotItemSum         = dn['Rank'].sum()\n",
    "dn['RunItemPerc']  = (dn['RunItemCum']/TotItemSum)*100\n",
    "\n",
    "def ABC_segmentation(perc):\n",
    "    '''\n",
    "    top A - top 20%, C - last 50% and B - between A & C\n",
    "    \n",
    "    '''\n",
    "    if perc > 80 :\n",
    "        return 'A'\n",
    "    elif perc >= 50 and perc <= 80:\n",
    "        return 'B'\n",
    "    elif perc < 50:\n",
    "        return 'C'\n",
    "\n",
    "dn['Class'] = dn['RunItemPerc'].apply(ABC_segmentation)\n",
    "\n",
    "ax = sns.countplot(x = dn['Class'],data = dn,label= 'Count')\n",
    "dn['Class'].value_counts()\n",
    "\n",
    "dn['productid'] = dn.index\n",
    "dn = dn.sort_values(by=['productid'], ascending=True)\n",
    "del dn['productid']\n",
    "VIKOR_Class = dn['Class']\n",
    "\n",
    "C,B,A = dn['Class'].value_counts()\n",
    "print(round(100*A/dn['Class'].value_counts().sum(),2),\"% ->\",\"A:\",A)\n",
    "print(round(100*B/dn['Class'].value_counts().sum(),2),\"% ->\",\"B:\",B)\n",
    "print(round(100*C/dn['Class'].value_counts().sum(),2),\"% ->\",\"C:\",C)\n",
    "print(\"Total: \",dn['Class'].value_counts().sum())\n",
    "dn.head()"
   ]
  },
  {
   "cell_type": "markdown",
   "metadata": {
    "papermill": {
     "duration": 0.018137,
     "end_time": "2021-03-04T09:36:39.271853",
     "exception": false,
     "start_time": "2021-03-04T09:36:39.253716",
     "status": "completed"
    },
    "tags": []
   },
   "source": [
    "# Machine Learning"
   ]
  },
  {
   "cell_type": "code",
   "execution_count": 4,
   "metadata": {
    "execution": {
     "iopub.execute_input": "2021-03-04T09:36:39.321980Z",
     "iopub.status.busy": "2021-03-04T09:36:39.321352Z",
     "iopub.status.idle": "2021-03-04T09:36:39.325137Z",
     "shell.execute_reply": "2021-03-04T09:36:39.324603Z"
    },
    "papermill": {
     "duration": 0.034308,
     "end_time": "2021-03-04T09:36:39.325276",
     "exception": false,
     "start_time": "2021-03-04T09:36:39.290968",
     "status": "completed"
    },
    "tags": []
   },
   "outputs": [],
   "source": [
    "iteration = 5\n",
    "row_col = np.zeros([iteration,])\n",
    "\n",
    "acc = pd.DataFrame()\n",
    "acc['train_Acc'] = row_col\n",
    "acc['test_Acc']  = row_col\n",
    "acc['time']      = row_col\n",
    "acc['test_size'] = row_col\n",
    "start_time  = 0\n",
    "end_time    = 0\n",
    "train_score = 0\n",
    "test_score  = 0\n",
    "\n",
    "#split_size \n",
    "n = .1"
   ]
  },
  {
   "cell_type": "markdown",
   "metadata": {
    "papermill": {
     "duration": 0.018152,
     "end_time": "2021-03-04T09:36:39.362186",
     "exception": false,
     "start_time": "2021-03-04T09:36:39.344034",
     "status": "completed"
    },
    "tags": []
   },
   "source": [
    "# ANN"
   ]
  },
  {
   "cell_type": "code",
   "execution_count": 5,
   "metadata": {
    "execution": {
     "iopub.execute_input": "2021-03-04T09:36:39.419313Z",
     "iopub.status.busy": "2021-03-04T09:36:39.418602Z",
     "iopub.status.idle": "2021-03-04T09:38:15.071365Z",
     "shell.execute_reply": "2021-03-04T09:38:15.070642Z"
    },
    "papermill": {
     "duration": 95.690376,
     "end_time": "2021-03-04T09:38:15.071543",
     "exception": false,
     "start_time": "2021-03-04T09:36:39.381167",
     "status": "completed"
    },
    "tags": []
   },
   "outputs": [
    {
     "name": "stdout",
     "output_type": "stream",
     "text": [
      "Epoch 1/20\n",
      "633/633 [==============================] - 2s 2ms/step - loss: 1.0209 - accuracy: 0.6256 - val_loss: 0.7108 - val_accuracy: 0.8104\n",
      "Epoch 2/20\n",
      "633/633 [==============================] - 1s 1ms/step - loss: 0.6138 - accuracy: 0.8121 - val_loss: 0.4350 - val_accuracy: 0.8699\n",
      "Epoch 3/20\n",
      "633/633 [==============================] - 1s 1ms/step - loss: 0.4056 - accuracy: 0.8741 - val_loss: 0.3378 - val_accuracy: 0.9120\n",
      "Epoch 4/20\n",
      "633/633 [==============================] - 1s 1ms/step - loss: 0.3225 - accuracy: 0.9158 - val_loss: 0.2827 - val_accuracy: 0.9413\n",
      "Epoch 5/20\n",
      "633/633 [==============================] - 1s 1ms/step - loss: 0.2719 - accuracy: 0.9421 - val_loss: 0.2448 - val_accuracy: 0.9486\n",
      "Epoch 6/20\n",
      "633/633 [==============================] - 1s 1ms/step - loss: 0.2371 - accuracy: 0.9522 - val_loss: 0.2171 - val_accuracy: 0.9506\n",
      "Epoch 7/20\n",
      "633/633 [==============================] - 1s 1ms/step - loss: 0.2119 - accuracy: 0.9535 - val_loss: 0.1937 - val_accuracy: 0.9550\n",
      "Epoch 8/20\n",
      "633/633 [==============================] - 1s 1ms/step - loss: 0.1900 - accuracy: 0.9585 - val_loss: 0.1756 - val_accuracy: 0.9593\n",
      "Epoch 9/20\n",
      "633/633 [==============================] - 1s 1ms/step - loss: 0.1723 - accuracy: 0.9609 - val_loss: 0.1611 - val_accuracy: 0.9614\n",
      "Epoch 10/20\n",
      "633/633 [==============================] - 1s 1ms/step - loss: 0.1580 - accuracy: 0.9638 - val_loss: 0.1467 - val_accuracy: 0.9646\n",
      "Epoch 11/20\n",
      "633/633 [==============================] - 1s 1ms/step - loss: 0.1448 - accuracy: 0.9652 - val_loss: 0.1356 - val_accuracy: 0.9669\n",
      "Epoch 12/20\n",
      "633/633 [==============================] - 1s 1ms/step - loss: 0.1334 - accuracy: 0.9689 - val_loss: 0.1255 - val_accuracy: 0.9678\n",
      "Epoch 13/20\n",
      "633/633 [==============================] - 1s 1ms/step - loss: 0.1232 - accuracy: 0.9709 - val_loss: 0.1171 - val_accuracy: 0.9704\n",
      "Epoch 14/20\n",
      "633/633 [==============================] - 1s 1ms/step - loss: 0.1146 - accuracy: 0.9724 - val_loss: 0.1097 - val_accuracy: 0.9728\n",
      "Epoch 15/20\n",
      "633/633 [==============================] - 1s 1ms/step - loss: 0.1061 - accuracy: 0.9747 - val_loss: 0.1027 - val_accuracy: 0.9758\n",
      "Epoch 16/20\n",
      "633/633 [==============================] - 1s 1ms/step - loss: 0.0990 - accuracy: 0.9782 - val_loss: 0.0969 - val_accuracy: 0.9780\n",
      "Epoch 17/20\n",
      "633/633 [==============================] - 1s 1ms/step - loss: 0.0931 - accuracy: 0.9796 - val_loss: 0.0905 - val_accuracy: 0.9812\n",
      "Epoch 18/20\n",
      "633/633 [==============================] - 1s 1ms/step - loss: 0.0876 - accuracy: 0.9833 - val_loss: 0.0865 - val_accuracy: 0.9807\n",
      "Epoch 19/20\n",
      "633/633 [==============================] - 1s 1ms/step - loss: 0.0828 - accuracy: 0.9846 - val_loss: 0.0803 - val_accuracy: 0.9854\n",
      "Epoch 20/20\n",
      "633/633 [==============================] - 1s 1ms/step - loss: 0.0792 - accuracy: 0.9862 - val_loss: 0.0770 - val_accuracy: 0.9852\n",
      "Epoch 1/20\n",
      "500/500 [==============================] - 1s 2ms/step - loss: 0.8669 - accuracy: 0.7046 - val_loss: 0.4532 - val_accuracy: 0.7095\n",
      "Epoch 2/20\n",
      "500/500 [==============================] - 1s 1ms/step - loss: 0.4191 - accuracy: 0.7153 - val_loss: 0.3306 - val_accuracy: 0.8292\n",
      "Epoch 3/20\n",
      "500/500 [==============================] - 1s 1ms/step - loss: 0.3122 - accuracy: 0.8450 - val_loss: 0.2526 - val_accuracy: 0.9375\n",
      "Epoch 4/20\n",
      "500/500 [==============================] - 1s 1ms/step - loss: 0.2432 - accuracy: 0.9365 - val_loss: 0.2012 - val_accuracy: 0.9465\n",
      "Epoch 5/20\n",
      "500/500 [==============================] - 1s 1ms/step - loss: 0.1964 - accuracy: 0.9455 - val_loss: 0.1635 - val_accuracy: 0.9549\n",
      "Epoch 6/20\n",
      "500/500 [==============================] - 1s 1ms/step - loss: 0.1596 - accuracy: 0.9546 - val_loss: 0.1372 - val_accuracy: 0.9614\n",
      "Epoch 7/20\n",
      "500/500 [==============================] - 1s 1ms/step - loss: 0.1345 - accuracy: 0.9600 - val_loss: 0.1175 - val_accuracy: 0.9652\n",
      "Epoch 8/20\n",
      "500/500 [==============================] - 1s 1ms/step - loss: 0.1162 - accuracy: 0.9639 - val_loss: 0.1038 - val_accuracy: 0.9698\n",
      "Epoch 9/20\n",
      "500/500 [==============================] - 1s 1ms/step - loss: 0.1061 - accuracy: 0.9668 - val_loss: 0.0932 - val_accuracy: 0.9716\n",
      "Epoch 10/20\n",
      "500/500 [==============================] - 1s 1ms/step - loss: 0.0936 - accuracy: 0.9691 - val_loss: 0.0847 - val_accuracy: 0.9722\n",
      "Epoch 11/20\n",
      "500/500 [==============================] - 1s 1ms/step - loss: 0.0861 - accuracy: 0.9712 - val_loss: 0.0791 - val_accuracy: 0.9749\n",
      "Epoch 12/20\n",
      "500/500 [==============================] - 1s 1ms/step - loss: 0.0797 - accuracy: 0.9739 - val_loss: 0.0735 - val_accuracy: 0.9762\n",
      "Epoch 13/20\n",
      "500/500 [==============================] - 1s 1ms/step - loss: 0.0749 - accuracy: 0.9744 - val_loss: 0.0687 - val_accuracy: 0.9778\n",
      "Epoch 14/20\n",
      "500/500 [==============================] - 1s 1ms/step - loss: 0.0701 - accuracy: 0.9762 - val_loss: 0.0667 - val_accuracy: 0.9769\n",
      "Epoch 15/20\n",
      "500/500 [==============================] - 1s 1ms/step - loss: 0.0682 - accuracy: 0.9752 - val_loss: 0.0636 - val_accuracy: 0.9768\n",
      "Epoch 16/20\n",
      "500/500 [==============================] - 1s 1ms/step - loss: 0.0660 - accuracy: 0.9775 - val_loss: 0.0606 - val_accuracy: 0.9786\n",
      "Epoch 17/20\n",
      "500/500 [==============================] - 1s 1ms/step - loss: 0.0611 - accuracy: 0.9779 - val_loss: 0.0589 - val_accuracy: 0.9786\n",
      "Epoch 18/20\n",
      "500/500 [==============================] - 1s 2ms/step - loss: 0.0603 - accuracy: 0.9781 - val_loss: 0.0570 - val_accuracy: 0.9786\n",
      "Epoch 19/20\n",
      "500/500 [==============================] - 1s 1ms/step - loss: 0.0583 - accuracy: 0.9788 - val_loss: 0.0550 - val_accuracy: 0.9798\n",
      "Epoch 20/20\n",
      "500/500 [==============================] - 1s 1ms/step - loss: 0.0576 - accuracy: 0.9782 - val_loss: 0.0542 - val_accuracy: 0.9796\n",
      "Epoch 1/20\n",
      "633/633 [==============================] - 1s 1ms/step - loss: 0.7402 - accuracy: 0.7131 - val_loss: 0.4188 - val_accuracy: 0.8168\n",
      "Epoch 2/20\n",
      "633/633 [==============================] - 1s 1ms/step - loss: 0.3886 - accuracy: 0.8318 - val_loss: 0.3316 - val_accuracy: 0.8464\n",
      "Epoch 3/20\n",
      "633/633 [==============================] - 1s 1ms/step - loss: 0.3143 - accuracy: 0.8536 - val_loss: 0.2703 - val_accuracy: 0.8578\n",
      "Epoch 4/20\n",
      "633/633 [==============================] - 1s 1ms/step - loss: 0.2516 - accuracy: 0.8627 - val_loss: 0.1985 - val_accuracy: 0.9459\n",
      "Epoch 5/20\n",
      "633/633 [==============================] - 1s 1ms/step - loss: 0.1814 - accuracy: 0.9529 - val_loss: 0.1469 - val_accuracy: 0.9579\n",
      "Epoch 6/20\n",
      "633/633 [==============================] - 1s 1ms/step - loss: 0.1400 - accuracy: 0.9586 - val_loss: 0.1231 - val_accuracy: 0.9597\n",
      "Epoch 7/20\n",
      "633/633 [==============================] - 1s 1ms/step - loss: 0.1201 - accuracy: 0.9613 - val_loss: 0.1098 - val_accuracy: 0.9628\n",
      "Epoch 8/20\n",
      "633/633 [==============================] - 1s 1ms/step - loss: 0.1083 - accuracy: 0.9627 - val_loss: 0.1003 - val_accuracy: 0.9640\n",
      "Epoch 9/20\n",
      "633/633 [==============================] - 1s 1ms/step - loss: 0.0990 - accuracy: 0.9654 - val_loss: 0.0940 - val_accuracy: 0.9660\n",
      "Epoch 10/20\n",
      "633/633 [==============================] - 1s 1ms/step - loss: 0.0953 - accuracy: 0.9666 - val_loss: 0.0903 - val_accuracy: 0.9689\n",
      "Epoch 11/20\n",
      "633/633 [==============================] - 1s 1ms/step - loss: 0.0897 - accuracy: 0.9677 - val_loss: 0.0870 - val_accuracy: 0.9696\n",
      "Epoch 12/20\n",
      "633/633 [==============================] - 1s 1ms/step - loss: 0.0869 - accuracy: 0.9685 - val_loss: 0.0850 - val_accuracy: 0.9696\n",
      "Epoch 13/20\n",
      "633/633 [==============================] - 1s 1ms/step - loss: 0.0850 - accuracy: 0.9688 - val_loss: 0.0820 - val_accuracy: 0.9699\n",
      "Epoch 14/20\n",
      "633/633 [==============================] - 1s 1ms/step - loss: 0.0819 - accuracy: 0.9708 - val_loss: 0.0795 - val_accuracy: 0.9713\n",
      "Epoch 15/20\n",
      "633/633 [==============================] - 1s 1ms/step - loss: 0.0809 - accuracy: 0.9717 - val_loss: 0.0761 - val_accuracy: 0.9751\n",
      "Epoch 16/20\n",
      "633/633 [==============================] - 1s 1ms/step - loss: 0.0796 - accuracy: 0.9718 - val_loss: 0.0744 - val_accuracy: 0.9732\n",
      "Epoch 17/20\n",
      "633/633 [==============================] - 1s 1ms/step - loss: 0.0791 - accuracy: 0.9722 - val_loss: 0.0715 - val_accuracy: 0.9750\n",
      "Epoch 18/20\n",
      "633/633 [==============================] - 1s 1ms/step - loss: 0.0737 - accuracy: 0.9738 - val_loss: 0.0690 - val_accuracy: 0.9757\n",
      "Epoch 19/20\n",
      "633/633 [==============================] - 1s 1ms/step - loss: 0.0718 - accuracy: 0.9737 - val_loss: 0.0664 - val_accuracy: 0.9768\n",
      "Epoch 20/20\n",
      "633/633 [==============================] - 1s 1ms/step - loss: 0.0695 - accuracy: 0.9752 - val_loss: 0.0640 - val_accuracy: 0.9778\n",
      "Epoch 1/20\n",
      "500/500 [==============================] - 1s 2ms/step - loss: 0.9272 - accuracy: 0.4306 - val_loss: 0.3135 - val_accuracy: 0.8944\n",
      "Epoch 2/20\n",
      "500/500 [==============================] - 1s 1ms/step - loss: 0.2534 - accuracy: 0.9097 - val_loss: 0.1559 - val_accuracy: 0.9413\n",
      "Epoch 3/20\n",
      "500/500 [==============================] - 1s 2ms/step - loss: 0.1480 - accuracy: 0.9421 - val_loss: 0.1221 - val_accuracy: 0.9492\n",
      "Epoch 4/20\n",
      "500/500 [==============================] - 1s 1ms/step - loss: 0.1232 - accuracy: 0.9488 - val_loss: 0.1076 - val_accuracy: 0.9537\n",
      "Epoch 5/20\n",
      "500/500 [==============================] - 1s 1ms/step - loss: 0.1085 - accuracy: 0.9538 - val_loss: 0.0960 - val_accuracy: 0.9624\n",
      "Epoch 6/20\n",
      "500/500 [==============================] - 1s 1ms/step - loss: 0.0971 - accuracy: 0.9619 - val_loss: 0.0875 - val_accuracy: 0.9671\n",
      "Epoch 7/20\n",
      "500/500 [==============================] - 1s 1ms/step - loss: 0.0903 - accuracy: 0.9656 - val_loss: 0.0815 - val_accuracy: 0.9702\n",
      "Epoch 8/20\n",
      "500/500 [==============================] - 1s 2ms/step - loss: 0.0831 - accuracy: 0.9694 - val_loss: 0.0762 - val_accuracy: 0.9733\n",
      "Epoch 9/20\n",
      "500/500 [==============================] - 1s 2ms/step - loss: 0.0773 - accuracy: 0.9720 - val_loss: 0.0727 - val_accuracy: 0.9733\n",
      "Epoch 10/20\n",
      "500/500 [==============================] - 1s 1ms/step - loss: 0.0742 - accuracy: 0.9743 - val_loss: 0.0684 - val_accuracy: 0.9762\n",
      "Epoch 11/20\n",
      "500/500 [==============================] - 1s 1ms/step - loss: 0.0708 - accuracy: 0.9743 - val_loss: 0.0651 - val_accuracy: 0.9774\n",
      "Epoch 12/20\n",
      "500/500 [==============================] - 1s 1ms/step - loss: 0.0700 - accuracy: 0.9749 - val_loss: 0.0631 - val_accuracy: 0.9778\n",
      "Epoch 13/20\n",
      "500/500 [==============================] - 1s 1ms/step - loss: 0.0642 - accuracy: 0.9769 - val_loss: 0.0594 - val_accuracy: 0.9780\n",
      "Epoch 14/20\n",
      "500/500 [==============================] - 1s 1ms/step - loss: 0.0607 - accuracy: 0.9780 - val_loss: 0.0588 - val_accuracy: 0.9781\n",
      "Epoch 15/20\n",
      "500/500 [==============================] - 1s 1ms/step - loss: 0.0604 - accuracy: 0.9786 - val_loss: 0.0551 - val_accuracy: 0.9806\n",
      "Epoch 16/20\n",
      "500/500 [==============================] - 1s 1ms/step - loss: 0.0569 - accuracy: 0.9803 - val_loss: 0.0522 - val_accuracy: 0.9821\n",
      "Epoch 17/20\n",
      "500/500 [==============================] - 1s 1ms/step - loss: 0.0564 - accuracy: 0.9800 - val_loss: 0.0507 - val_accuracy: 0.9821\n",
      "Epoch 18/20\n",
      "500/500 [==============================] - 1s 1ms/step - loss: 0.0533 - accuracy: 0.9815 - val_loss: 0.0498 - val_accuracy: 0.9817\n",
      "Epoch 19/20\n",
      "500/500 [==============================] - 1s 2ms/step - loss: 0.0506 - accuracy: 0.9828 - val_loss: 0.0477 - val_accuracy: 0.9839\n",
      "Epoch 20/20\n",
      "500/500 [==============================] - 1s 1ms/step - loss: 0.0506 - accuracy: 0.9824 - val_loss: 0.0474 - val_accuracy: 0.9834\n",
      "Epoch 1/20\n",
      "633/633 [==============================] - 1s 2ms/step - loss: 0.7782 - accuracy: 0.7044 - val_loss: 0.3759 - val_accuracy: 0.7664\n",
      "Epoch 2/20\n",
      "633/633 [==============================] - 1s 1ms/step - loss: 0.3260 - accuracy: 0.8550 - val_loss: 0.2296 - val_accuracy: 0.9407\n",
      "Epoch 3/20\n",
      "633/633 [==============================] - 1s 1ms/step - loss: 0.2068 - accuracy: 0.9501 - val_loss: 0.1607 - val_accuracy: 0.9570\n",
      "Epoch 4/20\n",
      "633/633 [==============================] - 1s 1ms/step - loss: 0.1489 - accuracy: 0.9611 - val_loss: 0.1219 - val_accuracy: 0.9681\n",
      "Epoch 5/20\n",
      "633/633 [==============================] - 1s 1ms/step - loss: 0.1158 - accuracy: 0.9673 - val_loss: 0.0978 - val_accuracy: 0.9724\n",
      "Epoch 6/20\n",
      "633/633 [==============================] - 1s 1ms/step - loss: 0.0943 - accuracy: 0.9727 - val_loss: 0.0821 - val_accuracy: 0.9764\n",
      "Epoch 7/20\n",
      "633/633 [==============================] - 1s 1ms/step - loss: 0.0816 - accuracy: 0.9740 - val_loss: 0.0714 - val_accuracy: 0.9777\n",
      "Epoch 8/20\n",
      "633/633 [==============================] - 1s 1ms/step - loss: 0.0713 - accuracy: 0.9777 - val_loss: 0.0634 - val_accuracy: 0.9806\n",
      "Epoch 9/20\n",
      "633/633 [==============================] - 1s 1ms/step - loss: 0.0656 - accuracy: 0.9782 - val_loss: 0.0574 - val_accuracy: 0.9826\n",
      "Epoch 10/20\n",
      "633/633 [==============================] - 1s 1ms/step - loss: 0.0594 - accuracy: 0.9802 - val_loss: 0.0534 - val_accuracy: 0.9838\n",
      "Epoch 11/20\n",
      "633/633 [==============================] - 1s 1ms/step - loss: 0.0551 - accuracy: 0.9811 - val_loss: 0.0495 - val_accuracy: 0.9848\n",
      "Epoch 12/20\n",
      "633/633 [==============================] - 1s 1ms/step - loss: 0.0514 - accuracy: 0.9828 - val_loss: 0.0471 - val_accuracy: 0.9867\n",
      "Epoch 13/20\n",
      "633/633 [==============================] - 1s 1ms/step - loss: 0.0489 - accuracy: 0.9835 - val_loss: 0.0449 - val_accuracy: 0.9860\n",
      "Epoch 14/20\n",
      "633/633 [==============================] - 1s 1ms/step - loss: 0.0472 - accuracy: 0.9837 - val_loss: 0.0417 - val_accuracy: 0.9876\n",
      "Epoch 15/20\n",
      "633/633 [==============================] - 1s 1ms/step - loss: 0.0440 - accuracy: 0.9848 - val_loss: 0.0403 - val_accuracy: 0.9866\n",
      "Epoch 16/20\n",
      "633/633 [==============================] - 1s 1ms/step - loss: 0.0426 - accuracy: 0.9850 - val_loss: 0.0392 - val_accuracy: 0.9880\n",
      "Epoch 17/20\n",
      "633/633 [==============================] - 1s 1ms/step - loss: 0.0423 - accuracy: 0.9849 - val_loss: 0.0378 - val_accuracy: 0.9878\n",
      "Epoch 18/20\n",
      "633/633 [==============================] - 1s 1ms/step - loss: 0.0411 - accuracy: 0.9858 - val_loss: 0.0367 - val_accuracy: 0.9880\n",
      "Epoch 19/20\n",
      "633/633 [==============================] - 1s 1ms/step - loss: 0.0390 - accuracy: 0.9865 - val_loss: 0.0361 - val_accuracy: 0.9877\n",
      "Epoch 20/20\n",
      "633/633 [==============================] - 1s 1ms/step - loss: 0.0374 - accuracy: 0.9866 - val_loss: 0.0348 - val_accuracy: 0.9884\n"
     ]
    }
   ],
   "source": [
    "for i in range(iteration):\n",
    "      \n",
    "    X = dn.iloc[:,0:5].astype('float32')\n",
    "    y = dn['Class'] #.iloc[0:100,-1] \n",
    "\n",
    "    encoder = LabelEncoder()\n",
    "    encoder.fit(y)\n",
    "    y = encoder.transform(y)\n",
    "\n",
    "    y = to_categorical(y)\n",
    "\n",
    "    X_train,X_test,y_train,y_test = train_test_split(X, y ,test_size = n, random_state=0)\n",
    "    X_train,X_val,y_train,y_val = train_test_split(X_train, y_train ,test_size = n, random_state=0)\n",
    "\n",
    "    sc = StandardScaler()\n",
    "    X_train = sc.fit_transform(X_train)\n",
    "    X_test  = sc.fit_transform(X_test)\n",
    "    X_val  = sc.fit_transform(X_val)\n",
    "           \n",
    "    #time start\n",
    "    start_time = time.time()\n",
    "    \n",
    "    model = Sequential()\n",
    "    model.add(Dense(5, activation='relu', input_shape=(X_train.shape[1],)))\n",
    "    model.add(Dense(3, activation='relu'))\n",
    "    model.add(Dense(3, activation='softmax'))\n",
    "    model.compile(loss='categorical_crossentropy', optimizer='adam', metrics=['accuracy'])\n",
    "    model.fit(X_train,y_train,batch_size = 128, epochs = 20, validation_data = (X_val,y_val))\n",
    "\n",
    "    #time end\n",
    "    end_time = time.time()\n",
    "        \n",
    "    train_score = model.evaluate(X_train,y_train,verbose=0)\n",
    "    test_score = model.evaluate(X_test,y_test,verbose=0)\n",
    "       \n",
    "    #time calculation \n",
    "    acc.iloc[i,2] = end_time - start_time\n",
    "    \n",
    "    #Accuracy\n",
    "    acc.iloc[i,0] = train_score[1]*100\n",
    "    acc.iloc[i,1] = train_score[1]*100\n",
    "    \n",
    "    #test size\n",
    "    acc.iloc[i,3] = n*100\n",
    "    \n",
    "    if n == .1:\n",
    "        n = .2\n",
    "    else :\n",
    "        n = .1"
   ]
  },
  {
   "cell_type": "code",
   "execution_count": 6,
   "metadata": {
    "execution": {
     "iopub.execute_input": "2021-03-04T09:38:16.591722Z",
     "iopub.status.busy": "2021-03-04T09:38:16.591092Z",
     "iopub.status.idle": "2021-03-04T09:38:16.604622Z",
     "shell.execute_reply": "2021-03-04T09:38:16.605242Z"
    },
    "papermill": {
     "duration": 0.77547,
     "end_time": "2021-03-04T09:38:16.605415",
     "exception": false,
     "start_time": "2021-03-04T09:38:15.829945",
     "status": "completed"
    },
    "tags": []
   },
   "outputs": [
    {
     "data": {
      "text/html": [
       "<div>\n",
       "<style scoped>\n",
       "    .dataframe tbody tr th:only-of-type {\n",
       "        vertical-align: middle;\n",
       "    }\n",
       "\n",
       "    .dataframe tbody tr th {\n",
       "        vertical-align: top;\n",
       "    }\n",
       "\n",
       "    .dataframe thead th {\n",
       "        text-align: right;\n",
       "    }\n",
       "</style>\n",
       "<table border=\"1\" class=\"dataframe\">\n",
       "  <thead>\n",
       "    <tr style=\"text-align: right;\">\n",
       "      <th></th>\n",
       "      <th>train_Acc</th>\n",
       "      <th>test_Acc</th>\n",
       "      <th>time</th>\n",
       "      <th>test_size</th>\n",
       "    </tr>\n",
       "  </thead>\n",
       "  <tbody>\n",
       "    <tr>\n",
       "      <th>0</th>\n",
       "      <td>98.67</td>\n",
       "      <td>98.67</td>\n",
       "      <td>18.15</td>\n",
       "      <td>10.0</td>\n",
       "    </tr>\n",
       "    <tr>\n",
       "      <th>1</th>\n",
       "      <td>97.79</td>\n",
       "      <td>97.79</td>\n",
       "      <td>14.77</td>\n",
       "      <td>20.0</td>\n",
       "    </tr>\n",
       "    <tr>\n",
       "      <th>2</th>\n",
       "      <td>97.56</td>\n",
       "      <td>97.56</td>\n",
       "      <td>17.19</td>\n",
       "      <td>10.0</td>\n",
       "    </tr>\n",
       "    <tr>\n",
       "      <th>3</th>\n",
       "      <td>98.35</td>\n",
       "      <td>98.35</td>\n",
       "      <td>15.23</td>\n",
       "      <td>20.0</td>\n",
       "    </tr>\n",
       "    <tr>\n",
       "      <th>4</th>\n",
       "      <td>98.72</td>\n",
       "      <td>98.72</td>\n",
       "      <td>17.28</td>\n",
       "      <td>10.0</td>\n",
       "    </tr>\n",
       "  </tbody>\n",
       "</table>\n",
       "</div>"
      ],
      "text/plain": [
       "   train_Acc  test_Acc   time  test_size\n",
       "0      98.67     98.67  18.15       10.0\n",
       "1      97.79     97.79  14.77       20.0\n",
       "2      97.56     97.56  17.19       10.0\n",
       "3      98.35     98.35  15.23       20.0\n",
       "4      98.72     98.72  17.28       10.0"
      ]
     },
     "execution_count": 6,
     "metadata": {},
     "output_type": "execute_result"
    }
   ],
   "source": [
    "acc = acc.round(2)\n",
    "acc"
   ]
  },
  {
   "cell_type": "code",
   "execution_count": 7,
   "metadata": {
    "execution": {
     "iopub.execute_input": "2021-03-04T09:38:17.588920Z",
     "iopub.status.busy": "2021-03-04T09:38:17.587896Z",
     "iopub.status.idle": "2021-03-04T09:38:17.600909Z",
     "shell.execute_reply": "2021-03-04T09:38:17.600105Z"
    },
    "papermill": {
     "duration": 0.49429,
     "end_time": "2021-03-04T09:38:17.601107",
     "exception": false,
     "start_time": "2021-03-04T09:38:17.106817",
     "status": "completed"
    },
    "tags": []
   },
   "outputs": [
    {
     "data": {
      "text/plain": [
       "train_Acc    98.218\n",
       "test_Acc     98.218\n",
       "time         16.524\n",
       "test_size    14.000\n",
       "dtype: float64"
      ]
     },
     "execution_count": 7,
     "metadata": {},
     "output_type": "execute_result"
    }
   ],
   "source": [
    "ANNAcc = acc.mean()\n",
    "ANNAcc"
   ]
  },
  {
   "cell_type": "markdown",
   "metadata": {
    "papermill": {
     "duration": 0.502217,
     "end_time": "2021-03-04T09:38:18.629958",
     "exception": false,
     "start_time": "2021-03-04T09:38:18.127741",
     "status": "completed"
    },
    "tags": []
   },
   "source": [
    "# SVM"
   ]
  },
  {
   "cell_type": "code",
   "execution_count": 8,
   "metadata": {
    "execution": {
     "iopub.execute_input": "2021-03-04T09:38:19.639273Z",
     "iopub.status.busy": "2021-03-04T09:38:19.632759Z",
     "iopub.status.idle": "2021-03-04T09:58:06.293160Z",
     "shell.execute_reply": "2021-03-04T09:58:06.293657Z"
    },
    "papermill": {
     "duration": 1187.165911,
     "end_time": "2021-03-04T09:58:06.293818",
     "exception": false,
     "start_time": "2021-03-04T09:38:19.127907",
     "status": "completed"
    },
    "tags": []
   },
   "outputs": [
    {
     "name": "stdout",
     "output_type": "stream",
     "text": [
      "1  run\n",
      "2  run\n",
      "3  run\n",
      "4  run\n",
      "5  run\n"
     ]
    }
   ],
   "source": [
    "n = .1\n",
    "for i in range(iteration):\n",
    "    \n",
    "    X = dn.iloc[:,0:5].astype('float32')\n",
    "    y = dn['Class']\n",
    "\n",
    "    encoder = LabelEncoder()\n",
    "    encoder.fit(y)\n",
    "    y = encoder.transform(y)\n",
    "\n",
    "    X_train, X_test, y_train, y_test = train_test_split(X, y, test_size = n, random_state=0)\n",
    "    \n",
    "    sc = StandardScaler()\n",
    "    X_train = sc.fit_transform(X_train)\n",
    "    X_test  = sc.fit_transform(X_test)\n",
    "    \n",
    "    #time start\n",
    "    start_time = time.time()\n",
    "    \n",
    "    \n",
    "    model = SVC(kernel='poly')\n",
    "    model.fit(X_train,y_train)\n",
    "    \n",
    "    #time end\n",
    "    end_time = time.time()\n",
    "\n",
    "    train_score = model.score(X_train,y_train)\n",
    "    test_score  = model.score(X_test,y_test)\n",
    "    \n",
    "    #time calculation \n",
    "    acc.iloc[i,2] = end_time - start_time\n",
    "    \n",
    "    #Accuracy\n",
    "    acc.iloc[i,0] = train_score*100\n",
    "    acc.iloc[i,1] = test_score*100\n",
    "    \n",
    "    #test size\n",
    "    acc.iloc[i,3] = n*100\n",
    "\n",
    "    if n == .1:\n",
    "        n = .2\n",
    "    else :\n",
    "        n = .1\n",
    "    print(i+1,\" run\")"
   ]
  },
  {
   "cell_type": "code",
   "execution_count": 9,
   "metadata": {
    "execution": {
     "iopub.execute_input": "2021-03-04T09:58:07.279029Z",
     "iopub.status.busy": "2021-03-04T09:58:07.273734Z",
     "iopub.status.idle": "2021-03-04T09:58:07.284514Z",
     "shell.execute_reply": "2021-03-04T09:58:07.283896Z"
    },
    "papermill": {
     "duration": 0.504826,
     "end_time": "2021-03-04T09:58:07.284660",
     "exception": false,
     "start_time": "2021-03-04T09:58:06.779834",
     "status": "completed"
    },
    "tags": []
   },
   "outputs": [
    {
     "data": {
      "text/html": [
       "<div>\n",
       "<style scoped>\n",
       "    .dataframe tbody tr th:only-of-type {\n",
       "        vertical-align: middle;\n",
       "    }\n",
       "\n",
       "    .dataframe tbody tr th {\n",
       "        vertical-align: top;\n",
       "    }\n",
       "\n",
       "    .dataframe thead th {\n",
       "        text-align: right;\n",
       "    }\n",
       "</style>\n",
       "<table border=\"1\" class=\"dataframe\">\n",
       "  <thead>\n",
       "    <tr style=\"text-align: right;\">\n",
       "      <th></th>\n",
       "      <th>train_Acc</th>\n",
       "      <th>test_Acc</th>\n",
       "      <th>time</th>\n",
       "      <th>test_size</th>\n",
       "    </tr>\n",
       "  </thead>\n",
       "  <tbody>\n",
       "    <tr>\n",
       "      <th>0</th>\n",
       "      <td>91.96</td>\n",
       "      <td>91.99</td>\n",
       "      <td>179.31</td>\n",
       "      <td>10.0</td>\n",
       "    </tr>\n",
       "    <tr>\n",
       "      <th>1</th>\n",
       "      <td>91.88</td>\n",
       "      <td>92.12</td>\n",
       "      <td>121.68</td>\n",
       "      <td>20.0</td>\n",
       "    </tr>\n",
       "    <tr>\n",
       "      <th>2</th>\n",
       "      <td>91.96</td>\n",
       "      <td>91.99</td>\n",
       "      <td>121.11</td>\n",
       "      <td>10.0</td>\n",
       "    </tr>\n",
       "    <tr>\n",
       "      <th>3</th>\n",
       "      <td>91.88</td>\n",
       "      <td>92.12</td>\n",
       "      <td>203.21</td>\n",
       "      <td>20.0</td>\n",
       "    </tr>\n",
       "    <tr>\n",
       "      <th>4</th>\n",
       "      <td>91.96</td>\n",
       "      <td>91.99</td>\n",
       "      <td>149.56</td>\n",
       "      <td>10.0</td>\n",
       "    </tr>\n",
       "  </tbody>\n",
       "</table>\n",
       "</div>"
      ],
      "text/plain": [
       "   train_Acc  test_Acc    time  test_size\n",
       "0      91.96     91.99  179.31       10.0\n",
       "1      91.88     92.12  121.68       20.0\n",
       "2      91.96     91.99  121.11       10.0\n",
       "3      91.88     92.12  203.21       20.0\n",
       "4      91.96     91.99  149.56       10.0"
      ]
     },
     "execution_count": 9,
     "metadata": {},
     "output_type": "execute_result"
    }
   ],
   "source": [
    "acc = acc.round(2)\n",
    "acc"
   ]
  },
  {
   "cell_type": "code",
   "execution_count": 10,
   "metadata": {
    "execution": {
     "iopub.execute_input": "2021-03-04T09:58:08.278469Z",
     "iopub.status.busy": "2021-03-04T09:58:08.277446Z",
     "iopub.status.idle": "2021-03-04T09:58:08.282399Z",
     "shell.execute_reply": "2021-03-04T09:58:08.281569Z"
    },
    "papermill": {
     "duration": 0.507039,
     "end_time": "2021-03-04T09:58:08.282562",
     "exception": false,
     "start_time": "2021-03-04T09:58:07.775523",
     "status": "completed"
    },
    "tags": []
   },
   "outputs": [
    {
     "data": {
      "text/plain": [
       "train_Acc     91.928\n",
       "test_Acc      92.042\n",
       "time         154.974\n",
       "test_size     14.000\n",
       "dtype: float64"
      ]
     },
     "execution_count": 10,
     "metadata": {},
     "output_type": "execute_result"
    }
   ],
   "source": [
    "SVMAcc = acc.mean()\n",
    "SVMAcc"
   ]
  },
  {
   "cell_type": "markdown",
   "metadata": {
    "papermill": {
     "duration": 0.756122,
     "end_time": "2021-03-04T09:58:09.797534",
     "exception": false,
     "start_time": "2021-03-04T09:58:09.041412",
     "status": "completed"
    },
    "tags": []
   },
   "source": [
    "# KNN"
   ]
  },
  {
   "cell_type": "code",
   "execution_count": 11,
   "metadata": {
    "execution": {
     "iopub.execute_input": "2021-03-04T09:58:11.322893Z",
     "iopub.status.busy": "2021-03-04T09:58:11.321145Z",
     "iopub.status.idle": "2021-03-04T09:58:29.941671Z",
     "shell.execute_reply": "2021-03-04T09:58:29.942381Z"
    },
    "papermill": {
     "duration": 19.389334,
     "end_time": "2021-03-04T09:58:29.942594",
     "exception": false,
     "start_time": "2021-03-04T09:58:10.553260",
     "status": "completed"
    },
    "tags": []
   },
   "outputs": [
    {
     "name": "stdout",
     "output_type": "stream",
     "text": [
      "1  run\n",
      "2  run\n",
      "3  run\n",
      "4  run\n",
      "5  run\n"
     ]
    }
   ],
   "source": [
    "n = .1\n",
    "for i in range(iteration):\n",
    "    \n",
    "    X = dn.iloc[:,0:5].astype('float32')\n",
    "    y = dn['Class']\n",
    "\n",
    "    encoder = LabelEncoder()\n",
    "    encoder.fit(y)\n",
    "    y = encoder.transform(y)\n",
    "\n",
    "    X_train, X_test, y_train, y_test = train_test_split(X, y, test_size = n, random_state=0)\n",
    "\n",
    "    \n",
    "    #time start\n",
    "    start_time = time.time()\n",
    "        \n",
    "    model = KNeighborsClassifier(n_neighbors=3)\n",
    "    model.fit(X_train,y_train)\n",
    "    \n",
    "    #time end\n",
    "    end_time = time.time()\n",
    "\n",
    "    train_score = model.score(X_train,y_train)*100\n",
    "    test_score  = model.score(X_test,y_test)*100\n",
    "    \n",
    "    #time calculation \n",
    "    acc.iloc[i,2] = end_time - start_time\n",
    "    \n",
    "    #Accuracy\n",
    "    acc.iloc[i,0] = train_score\n",
    "    acc.iloc[i,1] = test_score\n",
    "    \n",
    "    #test size\n",
    "    acc.iloc[i,3] = n*100\n",
    "    \n",
    "    if n == .1:\n",
    "        n = .2\n",
    "    else :\n",
    "        n = .1\n",
    "    print(i+1,\" run\")"
   ]
  },
  {
   "cell_type": "code",
   "execution_count": 12,
   "metadata": {
    "execution": {
     "iopub.execute_input": "2021-03-04T09:58:31.476126Z",
     "iopub.status.busy": "2021-03-04T09:58:31.475133Z",
     "iopub.status.idle": "2021-03-04T09:58:31.479053Z",
     "shell.execute_reply": "2021-03-04T09:58:31.479725Z"
    },
    "papermill": {
     "duration": 0.774684,
     "end_time": "2021-03-04T09:58:31.479924",
     "exception": false,
     "start_time": "2021-03-04T09:58:30.705240",
     "status": "completed"
    },
    "tags": []
   },
   "outputs": [
    {
     "data": {
      "text/html": [
       "<div>\n",
       "<style scoped>\n",
       "    .dataframe tbody tr th:only-of-type {\n",
       "        vertical-align: middle;\n",
       "    }\n",
       "\n",
       "    .dataframe tbody tr th {\n",
       "        vertical-align: top;\n",
       "    }\n",
       "\n",
       "    .dataframe thead th {\n",
       "        text-align: right;\n",
       "    }\n",
       "</style>\n",
       "<table border=\"1\" class=\"dataframe\">\n",
       "  <thead>\n",
       "    <tr style=\"text-align: right;\">\n",
       "      <th></th>\n",
       "      <th>train_Acc</th>\n",
       "      <th>test_Acc</th>\n",
       "      <th>time</th>\n",
       "      <th>test_size</th>\n",
       "    </tr>\n",
       "  </thead>\n",
       "  <tbody>\n",
       "    <tr>\n",
       "      <th>0</th>\n",
       "      <td>88.07</td>\n",
       "      <td>77.34</td>\n",
       "      <td>0.13</td>\n",
       "      <td>10.0</td>\n",
       "    </tr>\n",
       "    <tr>\n",
       "      <th>1</th>\n",
       "      <td>88.08</td>\n",
       "      <td>76.98</td>\n",
       "      <td>0.11</td>\n",
       "      <td>20.0</td>\n",
       "    </tr>\n",
       "    <tr>\n",
       "      <th>2</th>\n",
       "      <td>88.07</td>\n",
       "      <td>77.34</td>\n",
       "      <td>0.12</td>\n",
       "      <td>10.0</td>\n",
       "    </tr>\n",
       "    <tr>\n",
       "      <th>3</th>\n",
       "      <td>88.08</td>\n",
       "      <td>76.98</td>\n",
       "      <td>0.11</td>\n",
       "      <td>20.0</td>\n",
       "    </tr>\n",
       "    <tr>\n",
       "      <th>4</th>\n",
       "      <td>88.07</td>\n",
       "      <td>77.34</td>\n",
       "      <td>0.34</td>\n",
       "      <td>10.0</td>\n",
       "    </tr>\n",
       "  </tbody>\n",
       "</table>\n",
       "</div>"
      ],
      "text/plain": [
       "   train_Acc  test_Acc  time  test_size\n",
       "0      88.07     77.34  0.13       10.0\n",
       "1      88.08     76.98  0.11       20.0\n",
       "2      88.07     77.34  0.12       10.0\n",
       "3      88.08     76.98  0.11       20.0\n",
       "4      88.07     77.34  0.34       10.0"
      ]
     },
     "execution_count": 12,
     "metadata": {},
     "output_type": "execute_result"
    }
   ],
   "source": [
    "acc = acc.round(2)\n",
    "acc"
   ]
  },
  {
   "cell_type": "code",
   "execution_count": 13,
   "metadata": {
    "execution": {
     "iopub.execute_input": "2021-03-04T09:58:33.034598Z",
     "iopub.status.busy": "2021-03-04T09:58:33.033667Z",
     "iopub.status.idle": "2021-03-04T09:58:33.038090Z",
     "shell.execute_reply": "2021-03-04T09:58:33.037301Z"
    },
    "papermill": {
     "duration": 0.786056,
     "end_time": "2021-03-04T09:58:33.038248",
     "exception": false,
     "start_time": "2021-03-04T09:58:32.252192",
     "status": "completed"
    },
    "tags": []
   },
   "outputs": [
    {
     "data": {
      "text/plain": [
       "train_Acc    88.074\n",
       "test_Acc     77.196\n",
       "time          0.162\n",
       "test_size    14.000\n",
       "dtype: float64"
      ]
     },
     "execution_count": 13,
     "metadata": {},
     "output_type": "execute_result"
    }
   ],
   "source": [
    "KNNAcc = acc.mean()\n",
    "KNNAcc"
   ]
  },
  {
   "cell_type": "markdown",
   "metadata": {
    "papermill": {
     "duration": 0.766806,
     "end_time": "2021-03-04T09:58:34.571943",
     "exception": false,
     "start_time": "2021-03-04T09:58:33.805137",
     "status": "completed"
    },
    "tags": []
   },
   "source": [
    "# GPC"
   ]
  },
  {
   "cell_type": "code",
   "execution_count": 14,
   "metadata": {
    "execution": {
     "iopub.execute_input": "2021-03-04T09:58:36.132956Z",
     "iopub.status.busy": "2021-03-04T09:58:36.131797Z",
     "iopub.status.idle": "2021-03-04T10:11:55.165406Z",
     "shell.execute_reply": "2021-03-04T10:11:55.166099Z"
    },
    "papermill": {
     "duration": 799.827486,
     "end_time": "2021-03-04T10:11:55.166301",
     "exception": false,
     "start_time": "2021-03-04T09:58:35.338815",
     "status": "completed"
    },
    "tags": []
   },
   "outputs": [
    {
     "name": "stdout",
     "output_type": "stream",
     "text": [
      "1  run\n",
      "2  run\n",
      "3  run\n",
      "4  run\n",
      "5  run\n"
     ]
    }
   ],
   "source": [
    "n = .1\n",
    "for i in range(iteration):\n",
    "    \n",
    "    X = dn.iloc[:,0:5].astype('float32')\n",
    "    y = dn['Class'] #.iloc[0:100,-1]\n",
    "\n",
    "    encoder = LabelEncoder()\n",
    "    encoder.fit(y)\n",
    "    y = encoder.transform(y)\n",
    "\n",
    "    X_train, X_test, y_train, y_test = train_test_split(X, y, test_size = n, random_state=0)\n",
    "\n",
    "    \n",
    "    #time start\n",
    "    start_time = time.time()\n",
    "        \n",
    "    model = GaussianProcessClassifier(multi_class='one_vs_one')\n",
    "    model.fit(X_train,y_train)\n",
    "    \n",
    "    #time end\n",
    "    end_time = time.time()\n",
    "\n",
    "    train_score = model.score(X_train,y_train)\n",
    "    test_score  = model.score(X_test,y_test)\n",
    "    \n",
    "    #time calculation \n",
    "    acc.iloc[i,2] = end_time - start_time\n",
    "    \n",
    "    #Accuracy\n",
    "    acc.iloc[i,0] = train_score*100\n",
    "    acc.iloc[i,1] = test_score*100\n",
    "    \n",
    "    #test size\n",
    "    acc.iloc[i,3] = n*100\n",
    "\n",
    "    if n == .1:\n",
    "        n = .2\n",
    "    else :\n",
    "        n = .1\n",
    "    print(i+1,\" run\")"
   ]
  },
  {
   "cell_type": "code",
   "execution_count": 15,
   "metadata": {
    "execution": {
     "iopub.execute_input": "2021-03-04T10:11:56.728344Z",
     "iopub.status.busy": "2021-03-04T10:11:56.727671Z",
     "iopub.status.idle": "2021-03-04T10:11:56.731306Z",
     "shell.execute_reply": "2021-03-04T10:11:56.730766Z"
    },
    "papermill": {
     "duration": 0.784771,
     "end_time": "2021-03-04T10:11:56.731451",
     "exception": false,
     "start_time": "2021-03-04T10:11:55.946680",
     "status": "completed"
    },
    "tags": []
   },
   "outputs": [
    {
     "data": {
      "text/html": [
       "<div>\n",
       "<style scoped>\n",
       "    .dataframe tbody tr th:only-of-type {\n",
       "        vertical-align: middle;\n",
       "    }\n",
       "\n",
       "    .dataframe tbody tr th {\n",
       "        vertical-align: top;\n",
       "    }\n",
       "\n",
       "    .dataframe thead th {\n",
       "        text-align: right;\n",
       "    }\n",
       "</style>\n",
       "<table border=\"1\" class=\"dataframe\">\n",
       "  <thead>\n",
       "    <tr style=\"text-align: right;\">\n",
       "      <th></th>\n",
       "      <th>train_Acc</th>\n",
       "      <th>test_Acc</th>\n",
       "      <th>time</th>\n",
       "      <th>test_size</th>\n",
       "    </tr>\n",
       "  </thead>\n",
       "  <tbody>\n",
       "    <tr>\n",
       "      <th>0</th>\n",
       "      <td>100.0</td>\n",
       "      <td>73.20</td>\n",
       "      <td>98.25</td>\n",
       "      <td>10.0</td>\n",
       "    </tr>\n",
       "    <tr>\n",
       "      <th>1</th>\n",
       "      <td>100.0</td>\n",
       "      <td>73.75</td>\n",
       "      <td>73.01</td>\n",
       "      <td>20.0</td>\n",
       "    </tr>\n",
       "    <tr>\n",
       "      <th>2</th>\n",
       "      <td>100.0</td>\n",
       "      <td>73.20</td>\n",
       "      <td>96.54</td>\n",
       "      <td>10.0</td>\n",
       "    </tr>\n",
       "    <tr>\n",
       "      <th>3</th>\n",
       "      <td>100.0</td>\n",
       "      <td>73.75</td>\n",
       "      <td>74.31</td>\n",
       "      <td>20.0</td>\n",
       "    </tr>\n",
       "    <tr>\n",
       "      <th>4</th>\n",
       "      <td>100.0</td>\n",
       "      <td>73.20</td>\n",
       "      <td>99.64</td>\n",
       "      <td>10.0</td>\n",
       "    </tr>\n",
       "  </tbody>\n",
       "</table>\n",
       "</div>"
      ],
      "text/plain": [
       "   train_Acc  test_Acc   time  test_size\n",
       "0      100.0     73.20  98.25       10.0\n",
       "1      100.0     73.75  73.01       20.0\n",
       "2      100.0     73.20  96.54       10.0\n",
       "3      100.0     73.75  74.31       20.0\n",
       "4      100.0     73.20  99.64       10.0"
      ]
     },
     "execution_count": 15,
     "metadata": {},
     "output_type": "execute_result"
    }
   ],
   "source": [
    "acc = acc.round(2)\n",
    "acc"
   ]
  },
  {
   "cell_type": "code",
   "execution_count": 16,
   "metadata": {
    "execution": {
     "iopub.execute_input": "2021-03-04T10:11:57.733430Z",
     "iopub.status.busy": "2021-03-04T10:11:57.732787Z",
     "iopub.status.idle": "2021-03-04T10:11:57.742896Z",
     "shell.execute_reply": "2021-03-04T10:11:57.742374Z"
    },
    "papermill": {
     "duration": 0.507221,
     "end_time": "2021-03-04T10:11:57.743050",
     "exception": false,
     "start_time": "2021-03-04T10:11:57.235829",
     "status": "completed"
    },
    "tags": []
   },
   "outputs": [
    {
     "data": {
      "text/plain": [
       "train_Acc    100.00\n",
       "test_Acc      73.42\n",
       "time          88.35\n",
       "test_size     14.00\n",
       "dtype: float64"
      ]
     },
     "execution_count": 16,
     "metadata": {},
     "output_type": "execute_result"
    }
   ],
   "source": [
    "GPCAcc = acc.mean()\n",
    "GPCAcc"
   ]
  },
  {
   "cell_type": "code",
   "execution_count": 17,
   "metadata": {
    "execution": {
     "iopub.execute_input": "2021-03-04T10:11:58.742819Z",
     "iopub.status.busy": "2021-03-04T10:11:58.742161Z",
     "iopub.status.idle": "2021-03-04T10:11:58.745804Z",
     "shell.execute_reply": "2021-03-04T10:11:58.746393Z"
    },
    "papermill": {
     "duration": 0.509519,
     "end_time": "2021-03-04T10:11:58.746563",
     "exception": false,
     "start_time": "2021-03-04T10:11:58.237044",
     "status": "completed"
    },
    "tags": []
   },
   "outputs": [
    {
     "data": {
      "text/html": [
       "<div>\n",
       "<style scoped>\n",
       "    .dataframe tbody tr th:only-of-type {\n",
       "        vertical-align: middle;\n",
       "    }\n",
       "\n",
       "    .dataframe tbody tr th {\n",
       "        vertical-align: top;\n",
       "    }\n",
       "\n",
       "    .dataframe thead th {\n",
       "        text-align: right;\n",
       "    }\n",
       "</style>\n",
       "<table border=\"1\" class=\"dataframe\">\n",
       "  <thead>\n",
       "    <tr style=\"text-align: right;\">\n",
       "      <th></th>\n",
       "      <th>Performance</th>\n",
       "      <th>ANN</th>\n",
       "      <th>SVM</th>\n",
       "      <th>KNN</th>\n",
       "      <th>GPC</th>\n",
       "    </tr>\n",
       "  </thead>\n",
       "  <tbody>\n",
       "    <tr>\n",
       "      <th>train_Acc</th>\n",
       "      <td>Avg Train Accuracy</td>\n",
       "      <td>98.218</td>\n",
       "      <td>91.928</td>\n",
       "      <td>88.074</td>\n",
       "      <td>100.00</td>\n",
       "    </tr>\n",
       "    <tr>\n",
       "      <th>test_Acc</th>\n",
       "      <td>Avg Test Accuracy</td>\n",
       "      <td>98.218</td>\n",
       "      <td>92.042</td>\n",
       "      <td>77.196</td>\n",
       "      <td>73.42</td>\n",
       "    </tr>\n",
       "    <tr>\n",
       "      <th>time</th>\n",
       "      <td>Avg Run Time</td>\n",
       "      <td>16.524</td>\n",
       "      <td>154.974</td>\n",
       "      <td>0.162</td>\n",
       "      <td>88.35</td>\n",
       "    </tr>\n",
       "    <tr>\n",
       "      <th>test_size</th>\n",
       "      <td>Avg Test size</td>\n",
       "      <td>14.000</td>\n",
       "      <td>14.000</td>\n",
       "      <td>14.000</td>\n",
       "      <td>14.00</td>\n",
       "    </tr>\n",
       "  </tbody>\n",
       "</table>\n",
       "</div>"
      ],
      "text/plain": [
       "                  Performance     ANN      SVM     KNN     GPC\n",
       "train_Acc  Avg Train Accuracy  98.218   91.928  88.074  100.00\n",
       "test_Acc    Avg Test Accuracy  98.218   92.042  77.196   73.42\n",
       "time             Avg Run Time  16.524  154.974   0.162   88.35\n",
       "test_size       Avg Test size  14.000   14.000  14.000   14.00"
      ]
     },
     "execution_count": 17,
     "metadata": {},
     "output_type": "execute_result"
    }
   ],
   "source": [
    "performance = {\n",
    "    \"Performance\" : ['Avg Train Accuracy','Avg Test Accuracy','Avg Run Time','Avg Test size'],\n",
    "    \"ANN\"         : ANNAcc,\n",
    "    \"SVM\"         : SVMAcc,\n",
    "    \"KNN\"         : KNNAcc,\n",
    "    \"GPC\"         : GPCAcc\n",
    "}\n",
    "Performance = pd.DataFrame(performance)\n",
    "Performance"
   ]
  },
  {
   "cell_type": "code",
   "execution_count": 18,
   "metadata": {
    "execution": {
     "iopub.execute_input": "2021-03-04T10:11:59.745205Z",
     "iopub.status.busy": "2021-03-04T10:11:59.744529Z",
     "iopub.status.idle": "2021-03-04T10:11:59.801699Z",
     "shell.execute_reply": "2021-03-04T10:11:59.801189Z"
    },
    "papermill": {
     "duration": 0.561507,
     "end_time": "2021-03-04T10:11:59.801833",
     "exception": false,
     "start_time": "2021-03-04T10:11:59.240326",
     "status": "completed"
    },
    "tags": []
   },
   "outputs": [
    {
     "data": {
      "text/html": [
       "<div>\n",
       "<style scoped>\n",
       "    .dataframe tbody tr th:only-of-type {\n",
       "        vertical-align: middle;\n",
       "    }\n",
       "\n",
       "    .dataframe tbody tr th {\n",
       "        vertical-align: top;\n",
       "    }\n",
       "\n",
       "    .dataframe thead th {\n",
       "        text-align: right;\n",
       "    }\n",
       "</style>\n",
       "<table border=\"1\" class=\"dataframe\">\n",
       "  <thead>\n",
       "    <tr style=\"text-align: right;\">\n",
       "      <th></th>\n",
       "      <th>train_Acc</th>\n",
       "      <th>test_Acc</th>\n",
       "      <th>time</th>\n",
       "      <th>si</th>\n",
       "      <th>ri</th>\n",
       "      <th>p-w</th>\n",
       "    </tr>\n",
       "  </thead>\n",
       "  <tbody>\n",
       "    <tr>\n",
       "      <th>ANN</th>\n",
       "      <td>0.425289</td>\n",
       "      <td>0.300000</td>\n",
       "      <td>0.178862</td>\n",
       "      <td>0.904151</td>\n",
       "      <td>0.425289</td>\n",
       "      <td>0.917777</td>\n",
       "    </tr>\n",
       "    <tr>\n",
       "      <th>GPC</th>\n",
       "      <td>0.500000</td>\n",
       "      <td>0.000000</td>\n",
       "      <td>0.086071</td>\n",
       "      <td>0.586071</td>\n",
       "      <td>0.500000</td>\n",
       "      <td>0.758470</td>\n",
       "    </tr>\n",
       "    <tr>\n",
       "      <th>SVM</th>\n",
       "      <td>0.161580</td>\n",
       "      <td>0.225284</td>\n",
       "      <td>0.000000</td>\n",
       "      <td>0.386864</td>\n",
       "      <td>0.225284</td>\n",
       "      <td>0.304867</td>\n",
       "    </tr>\n",
       "    <tr>\n",
       "      <th>KNN</th>\n",
       "      <td>0.000000</td>\n",
       "      <td>0.045681</td>\n",
       "      <td>0.200000</td>\n",
       "      <td>0.245681</td>\n",
       "      <td>0.045681</td>\n",
       "      <td>0.000000</td>\n",
       "    </tr>\n",
       "  </tbody>\n",
       "</table>\n",
       "</div>"
      ],
      "text/plain": [
       "     train_Acc  test_Acc      time        si        ri       p-w\n",
       "ANN   0.425289  0.300000  0.178862  0.904151  0.425289  0.917777\n",
       "GPC   0.500000  0.000000  0.086071  0.586071  0.500000  0.758470\n",
       "SVM   0.161580  0.225284  0.000000  0.386864  0.225284  0.304867\n",
       "KNN   0.000000  0.045681  0.200000  0.245681  0.045681  0.000000"
      ]
     },
     "execution_count": 18,
     "metadata": {},
     "output_type": "execute_result"
    }
   ],
   "source": [
    "p1 = Performance.iloc[0:3,1:5].T\n",
    "p2 = pd.DataFrame(columns = p1.columns)\n",
    "p2 = p2.T\n",
    "p2[\"max\"] = 0\n",
    "p2[\"min\"] = 0\n",
    "p2 = p2.T\n",
    "for i in range(len(p2.columns)):\n",
    "    p2.iloc[0,i] = p1.iloc[:,i].max()\n",
    "    p2.iloc[1,i] = p1.iloc[:,i].min()\n",
    "\n",
    "# max-min normalizer = 0\n",
    "# linear normalizer = 1\n",
    "normalizer = 0\n",
    "\n",
    "if normalizer == 0 :\n",
    "    for i in range(len(p1.columns)):\n",
    "        if i==2: #Non Beneficial\n",
    "            p1.iloc[:,i] = (p2.iloc[0,i]-p1.iloc[:,i])/(p2.iloc[0,i] - p2.iloc[1,i])\n",
    "\n",
    "        else: #Beneficial\n",
    "            p1.iloc[:,i] = (p1.iloc[:,i]-p2.iloc[1,i])/(p2.iloc[0,i] - p2.iloc[1,i])\n",
    "\n",
    "else:\n",
    "    for i in range(len(p1.columns)):\n",
    "        if i==2: #Non Beneficial\n",
    "            p1.iloc[:,i] = p2.iloc[1,i]/p1.iloc[:,i]\n",
    "\n",
    "        else: #Beneficial\n",
    "            p1.iloc[:,i] = p1.iloc[:,i]/ p2.iloc[0,i]\n",
    "            \n",
    "weight = [0.5,0.3,0.2]\n",
    "p1 = p1*weight\n",
    "\n",
    "p1['si'] = p1.iloc[:].sum(axis=1)\n",
    "\n",
    "p1['ri'] = p1.iloc[:,0:-2].max(axis=1)\n",
    "\n",
    "s_best  = p1['si'].min()\n",
    "s_worst = p1['si'].max()\n",
    "r_best  = p1['ri'].min()\n",
    "r_worst = p1['ri'].max()\n",
    "neu = 0.5\n",
    "\n",
    "p1['p-w'] = p1.apply(lambda row: neu*((row.si-s_best)/(s_worst-s_best))+(1-neu)*((row.ri-r_best)/(r_worst-r_best)) , axis =1 )\n",
    "\n",
    "\n",
    "p1 = p1.sort_values(by=['p-w'], ascending=False)\n",
    "p1"
   ]
  },
  {
   "cell_type": "code",
   "execution_count": 19,
   "metadata": {
    "execution": {
     "iopub.execute_input": "2021-03-04T10:12:00.868965Z",
     "iopub.status.busy": "2021-03-04T10:12:00.868330Z",
     "iopub.status.idle": "2021-03-04T10:12:00.881320Z",
     "shell.execute_reply": "2021-03-04T10:12:00.880662Z"
    },
    "papermill": {
     "duration": 0.575268,
     "end_time": "2021-03-04T10:12:00.881452",
     "exception": false,
     "start_time": "2021-03-04T10:12:00.306184",
     "status": "completed"
    },
    "tags": []
   },
   "outputs": [
    {
     "data": {
      "text/html": [
       "<div>\n",
       "<style scoped>\n",
       "    .dataframe tbody tr th:only-of-type {\n",
       "        vertical-align: middle;\n",
       "    }\n",
       "\n",
       "    .dataframe tbody tr th {\n",
       "        vertical-align: top;\n",
       "    }\n",
       "\n",
       "    .dataframe thead th {\n",
       "        text-align: right;\n",
       "    }\n",
       "</style>\n",
       "<table border=\"1\" class=\"dataframe\">\n",
       "  <thead>\n",
       "    <tr style=\"text-align: right;\">\n",
       "      <th></th>\n",
       "      <th>train_Acc</th>\n",
       "      <th>test_Acc</th>\n",
       "      <th>time</th>\n",
       "      <th>si</th>\n",
       "      <th>ri</th>\n",
       "      <th>p-w</th>\n",
       "    </tr>\n",
       "  </thead>\n",
       "  <tbody>\n",
       "    <tr>\n",
       "      <th>ANN</th>\n",
       "      <td>0.43</td>\n",
       "      <td>0.30</td>\n",
       "      <td>0.18</td>\n",
       "      <td>0.90</td>\n",
       "      <td>0.43</td>\n",
       "      <td>0.92</td>\n",
       "    </tr>\n",
       "    <tr>\n",
       "      <th>GPC</th>\n",
       "      <td>0.50</td>\n",
       "      <td>0.00</td>\n",
       "      <td>0.09</td>\n",
       "      <td>0.59</td>\n",
       "      <td>0.50</td>\n",
       "      <td>0.76</td>\n",
       "    </tr>\n",
       "    <tr>\n",
       "      <th>SVM</th>\n",
       "      <td>0.16</td>\n",
       "      <td>0.23</td>\n",
       "      <td>0.00</td>\n",
       "      <td>0.39</td>\n",
       "      <td>0.23</td>\n",
       "      <td>0.30</td>\n",
       "    </tr>\n",
       "    <tr>\n",
       "      <th>KNN</th>\n",
       "      <td>0.00</td>\n",
       "      <td>0.05</td>\n",
       "      <td>0.20</td>\n",
       "      <td>0.25</td>\n",
       "      <td>0.05</td>\n",
       "      <td>0.00</td>\n",
       "    </tr>\n",
       "  </tbody>\n",
       "</table>\n",
       "</div>"
      ],
      "text/plain": [
       "     train_Acc  test_Acc  time    si    ri   p-w\n",
       "ANN       0.43      0.30  0.18  0.90  0.43  0.92\n",
       "GPC       0.50      0.00  0.09  0.59  0.50  0.76\n",
       "SVM       0.16      0.23  0.00  0.39  0.23  0.30\n",
       "KNN       0.00      0.05  0.20  0.25  0.05  0.00"
      ]
     },
     "execution_count": 19,
     "metadata": {},
     "output_type": "execute_result"
    }
   ],
   "source": [
    "p1.round(2)"
   ]
  }
 ],
 "metadata": {
  "kernelspec": {
   "display_name": "Python 3",
   "language": "python",
   "name": "python3"
  },
  "language_info": {
   "codemirror_mode": {
    "name": "ipython",
    "version": 3
   },
   "file_extension": ".py",
   "mimetype": "text/x-python",
   "name": "python",
   "nbconvert_exporter": "python",
   "pygments_lexer": "ipython3",
   "version": "3.8.6"
  },
  "papermill": {
   "default_parameters": {},
   "duration": 2144.542293,
   "end_time": "2021-03-04T10:12:02.594933",
   "environment_variables": {},
   "exception": null,
   "input_path": "__notebook__.ipynb",
   "output_path": "__notebook__.ipynb",
   "parameters": {},
   "start_time": "2021-03-04T09:36:18.052640",
   "version": "2.2.2"
  }
 },
 "nbformat": 4,
 "nbformat_minor": 4
}
